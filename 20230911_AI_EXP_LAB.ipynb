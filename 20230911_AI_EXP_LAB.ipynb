{
  "nbformat": 4,
  "nbformat_minor": 0,
  "metadata": {
    "colab": {
      "provenance": []
    },
    "kernelspec": {
      "name": "python3",
      "display_name": "Python 3"
    },
    "language_info": {
      "name": "python"
    }
  },
  "cells": [
    {
      "cell_type": "markdown",
      "source": [
        "**Disclaimer.**\n",
        "This colab is based on\n",
        "\n",
        "1. [Introduction to deep learning](https://github.com/rasbt/stat453-deep-learning-ss21)\n",
        "2. [Deep learning from scratch](https://github.com/WegraLee/deep-learning-from-scratch/tree/master/c)"
      ],
      "metadata": {
        "id": "hl0ajtE8l22w"
      }
    },
    {
      "cell_type": "code",
      "source": [
        "import numpy as np\n",
        "import doctest\n",
        "import matplotlib.pyplot as plt"
      ],
      "metadata": {
        "id": "3LDr1qJMqxYy"
      },
      "execution_count": null,
      "outputs": []
    },
    {
      "cell_type": "markdown",
      "source": [
        "## Basic gates"
      ],
      "metadata": {
        "id": "cDyrox7HakUn"
      }
    },
    {
      "cell_type": "markdown",
      "source": [
        "## Vectorization"
      ],
      "metadata": {
        "id": "kiPanMFbXrOT"
      }
    },
    {
      "cell_type": "code",
      "source": [
        "a = np.random.rand(1000000)\n",
        "b = np.random.rand(1000000)"
      ],
      "metadata": {
        "id": "AW1-KdYYYjzA"
      },
      "execution_count": null,
      "outputs": []
    },
    {
      "cell_type": "code",
      "source": [
        "def loop():\n",
        "  c = 0\n",
        "  for i in range(1000000):\n",
        "    c += a[i] * b[i]\n",
        "  return c"
      ],
      "metadata": {
        "id": "Bbg3vGRUYlJ4"
      },
      "execution_count": null,
      "outputs": []
    },
    {
      "cell_type": "code",
      "source": [
        "%time loop()"
      ],
      "metadata": {
        "colab": {
          "base_uri": "https://localhost:8080/"
        },
        "id": "6_owgNJLYtx2",
        "outputId": "8793942a-7ff4-49db-f343-69804cf2176b"
      },
      "execution_count": null,
      "outputs": [
        {
          "output_type": "stream",
          "name": "stdout",
          "text": [
            "CPU times: user 372 ms, sys: 0 ns, total: 372 ms\n",
            "Wall time: 374 ms\n"
          ]
        },
        {
          "output_type": "execute_result",
          "data": {
            "text/plain": [
              "250198.323955992"
            ]
          },
          "metadata": {},
          "execution_count": 4
        }
      ]
    },
    {
      "cell_type": "code",
      "source": [
        "def listcomp():\n",
        "  return sum(a_i * b_i for a_i, b_i in zip(a, b))"
      ],
      "metadata": {
        "id": "pAcDCe8wYx6b"
      },
      "execution_count": null,
      "outputs": []
    },
    {
      "cell_type": "code",
      "source": [
        "%time listcomp()"
      ],
      "metadata": {
        "colab": {
          "base_uri": "https://localhost:8080/"
        },
        "id": "aHsVXOH_Y5k1",
        "outputId": "79de158c-9329-4ad6-bb52-7eac0bcdda4c"
      },
      "execution_count": null,
      "outputs": [
        {
          "output_type": "stream",
          "name": "stdout",
          "text": [
            "CPU times: user 563 ms, sys: 0 ns, total: 563 ms\n",
            "Wall time: 577 ms\n"
          ]
        },
        {
          "output_type": "execute_result",
          "data": {
            "text/plain": [
              "250198.323955992"
            ]
          },
          "metadata": {},
          "execution_count": 6
        }
      ]
    },
    {
      "cell_type": "code",
      "source": [
        "def vectorized():\n",
        "  return np.dot(a, b)"
      ],
      "metadata": {
        "id": "lcwW2vz4Y_lr"
      },
      "execution_count": null,
      "outputs": []
    },
    {
      "cell_type": "code",
      "source": [
        "%time vectorized()"
      ],
      "metadata": {
        "colab": {
          "base_uri": "https://localhost:8080/"
        },
        "id": "6P5MypF8Y8aD",
        "outputId": "86e66331-d87b-4aee-fd51-6e9006035246"
      },
      "execution_count": null,
      "outputs": [
        {
          "output_type": "stream",
          "name": "stdout",
          "text": [
            "CPU times: user 2.33 ms, sys: 3.09 ms, total: 5.42 ms\n",
            "Wall time: 6.12 ms\n"
          ]
        },
        {
          "output_type": "execute_result",
          "data": {
            "text/plain": [
              "250198.32395599698"
            ]
          },
          "metadata": {},
          "execution_count": 8
        }
      ]
    },
    {
      "cell_type": "code",
      "source": [
        "import math\n",
        "\n",
        "n = 10000\n",
        "v = np.random.rand(n, 1)\n",
        "u = np.zeros((n, 1))\n",
        "\n",
        "for i in range(n):\n",
        "  u[i] = math.exp(v[i])\n",
        "\n",
        "u = np.exp(v)\n",
        "u = np.log(v)\n",
        "u = np.abs(v)\n",
        "u = v ** 2"
      ],
      "metadata": {
        "id": "VidhO1w7ga4u"
      },
      "execution_count": null,
      "outputs": []
    },
    {
      "cell_type": "markdown",
      "source": [
        "## MLP implementation"
      ],
      "metadata": {
        "id": "1rDsIjrcaTaJ"
      }
    },
    {
      "cell_type": "markdown",
      "source": [
        "### Preparing a toy dataset"
      ],
      "metadata": {
        "id": "P-5raN-nmXpW"
      }
    },
    {
      "cell_type": "code",
      "source": [
        "##########################\n",
        "### DATASET\n",
        "##########################\n",
        "\n",
        "import sklearn.datasets as dt\n",
        "data = dt.make_classification(\n",
        "  n_samples=100,\n",
        "  n_features=2,\n",
        "  n_repeated=0,\n",
        "  n_classes=2,\n",
        "  n_redundant=0)\n",
        "X, y = data[0], data[1]\n",
        "y = y.astype(int)\n",
        "\n",
        "print('Class label counts:', np.bincount(y))\n",
        "print('X.shape:', X.shape)\n",
        "print('y.shape:', y.shape)\n",
        "\n",
        "# Shuffling & train/test split\n",
        "shuffle_idx = np.arange(y.shape[0])\n",
        "shuffle_rng = np.random.RandomState(123)\n",
        "shuffle_rng.shuffle(shuffle_idx)\n",
        "X, y = X[shuffle_idx], y[shuffle_idx]\n",
        "\n",
        "X_train, X_test = X[shuffle_idx[:70]], X[shuffle_idx[70:]]\n",
        "y_train, y_test = y[shuffle_idx[:70]], y[shuffle_idx[70:]]\n",
        "\n",
        "# Normalize (mean zero, unit variance)\n",
        "mu, sigma = X_train.mean(axis=0), X_train.std(axis=0)\n",
        "X_train = (X_train - mu) / sigma\n",
        "X_test = (X_test - mu) / sigma"
      ],
      "metadata": {
        "id": "GbLaWpr0mZxO",
        "colab": {
          "base_uri": "https://localhost:8080/"
        },
        "outputId": "fad63bbc-caba-4ba3-9442-d84804472249"
      },
      "execution_count": null,
      "outputs": [
        {
          "output_type": "stream",
          "name": "stdout",
          "text": [
            "Class label counts: [50 50]\n",
            "X.shape: (100, 2)\n",
            "y.shape: (100,)\n"
          ]
        }
      ]
    },
    {
      "cell_type": "code",
      "source": [
        "plt.scatter(X_train[y_train==0, 0], X_train[y_train==0, 1], label='class 0', marker='o')\n",
        "plt.scatter(X_train[y_train==1, 0], X_train[y_train==1, 1], label='class 1', marker='s')\n",
        "plt.title('Training set')\n",
        "plt.xlabel('feature 1')\n",
        "plt.ylabel('feature 2')\n",
        "plt.xlim([-3, 3])\n",
        "plt.ylim([-3, 3])\n",
        "plt.legend()\n",
        "plt.show()"
      ],
      "metadata": {
        "colab": {
          "base_uri": "https://localhost:8080/",
          "height": 472
        },
        "id": "wWSJNqiFmeGp",
        "outputId": "194e522a-715a-4280-d8d5-8c3a73dec103"
      },
      "execution_count": null,
      "outputs": [
        {
          "output_type": "display_data",
          "data": {
            "text/plain": [
              "<Figure size 640x480 with 1 Axes>"
            ],
            "image/png": "[encoded data removed]"
          },
          "metadata": {}
        }
      ]
    },
    {
      "cell_type": "code",
      "source": [
        "plt.scatter(X_test[y_test==0, 0], X_test[y_test==0, 1], label='class 0', marker='o')\n",
        "plt.scatter(X_test[y_test==1, 0], X_test[y_test==1, 1], label='class 1', marker='s')\n",
        "plt.title('Test set')\n",
        "plt.xlabel('feature 1')\n",
        "plt.ylabel('feature 2')\n",
        "plt.xlim([-3, 3])\n",
        "plt.ylim([-3, 3])\n",
        "plt.legend()\n",
        "plt.show()"
      ],
      "metadata": {
        "colab": {
          "base_uri": "https://localhost:8080/",
          "height": 472
        },
        "id": "yAoimhbhmh0W",
        "outputId": "98d20945-3e8e-4da9-d27e-66fc9233fba7"
      },
      "execution_count": null,
      "outputs": [
        {
          "output_type": "display_data",
          "data": {
            "text/plain": [
              "<Figure size 640x480 with 1 Axes>"
            ],
            "image/png": "[encoded data removed]"
          },
          "metadata": {}
        }
      ]
    },
    {
      "cell_type": "markdown",
      "source": [
        "### Defining a perceptron model"
      ],
      "metadata": {
        "id": "g7l3egb6mkLJ"
      }
    },
    {
      "cell_type": "code",
      "source": [
        "def sigmoid(x):\n",
        "  return 1 / (1 + np.exp(-x))\n",
        "\n",
        "X = np.arange(-5.0, 5.0, 0.1)\n",
        "Y = sigmoid(X)\n",
        "plt.plot(X, Y)\n",
        "plt.ylim(-0.1, 1.1)\n",
        "plt.show()"
      ],
      "metadata": {
        "id": "IKwcpX6kzklu",
        "colab": {
          "base_uri": "https://localhost:8080/",
          "height": 430
        },
        "outputId": "d27902ad-596f-4ad3-ea36-483fb5a8afda"
      },
      "execution_count": null,
      "outputs": [
        {
          "output_type": "display_data",
          "data": {
            "text/plain": [
              "<Figure size 640x480 with 1 Axes>"
            ],
            "image/png": "[encoded data removed]"
          },
          "metadata": {}
        }
      ]
    },
    {
      "cell_type": "markdown",
      "source": [
        "**'ppp' exercise**"
      ],
      "metadata": {
        "id": "R6xiTlQrgS_0"
      }
    },
    {
      "cell_type": "code",
      "source": [
        "def relu(x):\n",
        "  return np.maximum(0, x)\n",
        "\n",
        "X = np.arange(-5.0, 5.0, 0.1)\n",
        "Y = relu(X)\n",
        "plt.plot(X, Y)\n",
        "plt.ylim(-0.1, 1.1)\n",
        "plt.show()"
      ],
      "metadata": {
        "id": "Q3KXDDOwzs1w",
        "colab": {
          "base_uri": "https://localhost:8080/",
          "height": 430
        },
        "outputId": "a6ff5575-e8f3-4235-df9f-67c16abb16a5"
      },
      "execution_count": null,
      "outputs": [
        {
          "output_type": "display_data",
          "data": {
            "text/plain": [
              "<Figure size 640x480 with 1 Axes>"
            ],
            "image/png": "[encoded data removed]"
          },
          "metadata": {}
        }
      ]
    },
    {
      "cell_type": "code",
      "source": [
        "def tanh(x):\n",
        "  return (np.exp(x) -np.exp(-x))/ (np.exp(x)+ np.exp(-x))\n",
        "\n",
        "X = np.arange(-5.0, 5.0, 0.1)\n",
        "Y = tanh(X)\n",
        "plt.plot(X, Y)\n",
        "plt.ylim(-1.1, 1.1)\n",
        "plt.show()"
      ],
      "metadata": {
        "id": "EcL1R_Bnztdq",
        "colab": {
          "base_uri": "https://localhost:8080/",
          "height": 430
        },
        "outputId": "e72ca5c4-c6d7-41c7-f139-4812078d3d1a"
      },
      "execution_count": null,
      "outputs": [
        {
          "output_type": "display_data",
          "data": {
            "text/plain": [
              "<Figure size 640x480 with 1 Axes>"
            ],
            "image/png": "[encoded data removed]"
          },
          "metadata": {}
        }
      ]
    },
    {
      "cell_type": "code",
      "source": [
        "class Perceptron():\n",
        "  def __init__(self, num_features):\n",
        "    self.num_features = num_features\n",
        "    self.weights = np.zeros((num_features, 1), dtype=float)\n",
        "    self.bias = np.zeros(1, dtype=float)\n",
        "\n",
        "  def forward(self, x):\n",
        "    linear = np.dot(x, self.weights) + self.bias  # comp. net input\n",
        "    predictions = np.where(linear > 0., 1, 0)\n",
        "    return predictions\n",
        "\n",
        "  # 'ppp' exercise\n",
        "  def backward(self, x, y):\n",
        "    predictions = self.forward(x)\n",
        "    errors = y-predictions\n",
        "    return errors\n",
        "\n",
        "  def train(self, x, y, epochs):\n",
        "    for e in range(epochs):\n",
        "      for i in range(y.shape[0]):\n",
        "        errors = self.backward(x[i].reshape(1, self.num_features), y[i]).reshape(-1)\n",
        "        self.weights += (errors * x[i]).reshape(self.num_features, 1)\n",
        "        self.bias += errors\n",
        "\n",
        "  def evaluate(self, x, y):\n",
        "    predictions = self.forward(x).reshape(-1)\n",
        "    accuracy = np.sum(predictions == y) / y.shape[0]\n",
        "    return accuracy"
      ],
      "metadata": {
        "id": "Mt6bUhjNmnHy"
      },
      "execution_count": null,
      "outputs": []
    },
    {
      "cell_type": "markdown",
      "source": [
        "### Training the model"
      ],
      "metadata": {
        "id": "DhFg2tx5moUj"
      }
    },
    {
      "cell_type": "code",
      "source": [
        "ppn = Perceptron(num_features=2)\n",
        "\n",
        "ppn.train(X_train, y_train, epochs=5)\n",
        "\n",
        "print('Model parameters:\\n\\n')\n",
        "print('  Weights: %s\\n' % ppn.weights)\n",
        "print('  Bias: %s\\n' % ppn.bias)"
      ],
      "metadata": {
        "colab": {
          "base_uri": "https://localhost:8080/"
        },
        "id": "mr-os4xjmrN6",
        "outputId": "6ebb3b5e-3a0a-4a59-f0fd-37417dac9071"
      },
      "execution_count": null,
      "outputs": [
        {
          "output_type": "stream",
          "name": "stdout",
          "text": [
            "Model parameters:\n",
            "\n",
            "\n",
            "  Weights: [[-0.09586889]\n",
            " [ 2.74678584]]\n",
            "\n",
            "  Bias: [1.]\n",
            "\n"
          ]
        }
      ]
    },
    {
      "cell_type": "markdown",
      "source": [
        "### Evaluating the model"
      ],
      "metadata": {
        "id": "vlVO60a_mr_v"
      }
    },
    {
      "cell_type": "code",
      "source": [
        "train_acc = ppn.evaluate(X_train, y_train)\n",
        "print('Train set accuracy: %.2f%%' % (train_acc*100))"
      ],
      "metadata": {
        "colab": {
          "base_uri": "https://localhost:8080/"
        },
        "id": "Ei6hIrNomuGX",
        "outputId": "6d63ad5e-36e1-4840-d855-de211876ac03"
      },
      "execution_count": null,
      "outputs": [
        {
          "output_type": "stream",
          "name": "stdout",
          "text": [
            "Train set accuracy: 90.00%\n"
          ]
        }
      ]
    },
    {
      "cell_type": "code",
      "source": [
        "test_acc = ppn.evaluate(X_test, y_test)\n",
        "print('Test set accuracy: %.2f%%' % (test_acc*100))"
      ],
      "metadata": {
        "colab": {
          "base_uri": "https://localhost:8080/"
        },
        "id": "uNevLx8Xmv9O",
        "outputId": "53528d1a-3b50-4849-ba5f-7ac0a0ae81e4"
      },
      "execution_count": null,
      "outputs": [
        {
          "output_type": "stream",
          "name": "stdout",
          "text": [
            "Test set accuracy: 73.33%\n"
          ]
        }
      ]
    },
    {
      "cell_type": "code",
      "source": [
        "##########################\n",
        "### 2D Decision Boundary\n",
        "##########################\n",
        "\n",
        "w, b = ppn.weights, ppn.bias\n",
        "\n",
        "x0_min = -2\n",
        "x1_min = ((-(w[0] * x0_min) - b[0]) / w[1])\n",
        "\n",
        "x0_max = 2\n",
        "x1_max = ((-(w[0] * x0_max) - b[0]) / w[1])\n",
        "\n",
        "# x0*w0 + x1*w1 + b = 0\n",
        "# x1  = (-x0*w0 - b) / w1\n",
        "\n",
        "# 'ppp' exercise\n",
        "fig, ax = plt.subplots(1, 2, sharex=True, figsize=(7,3))\n",
        "\n",
        "ax[0].plot([x0_min, x0_max],[x1_min, x1_max]) #x축은 x0_min부터 x0_max까지, y축은 x1_min부터 x1_max까지 표현한 직선을 긋는다.\n",
        "ax[0].scatter(X_train[y_train==0, 0], X_train[y_train==0, 1], label='class 0', marker='o')\n",
        "ax[0].scatter(X_train[y_train==1, 0], X_train[y_train==1, 1], label='class 1', marker='s')\n",
        "ax[0].legend(loc='upper left')\n",
        "\n",
        "ax[1].plot([x0_min, x0_max],[x1_min, x1_max])\n",
        "ax[1].scatter(X_test[y_test==0, 0], X_test[y_test==0, 1], label='class 0', marker='o')\n",
        "ax[1].scatter(X_test[y_test==1, 0], X_test[y_test==1, 1], label='class 1', marker='s')\n",
        "ax[1].legend(loc='upper left')\n",
        "\n",
        "plt.show()\n"
      ],
      "metadata": {
        "colab": {
          "base_uri": "https://localhost:8080/",
          "height": 291
        },
        "id": "zURzpmEUmzKl",
        "outputId": "76401fb4-6ce7-4585-91be-557618cfbb4a"
      },
      "execution_count": null,
      "outputs": [
        {
          "output_type": "display_data",
          "data": {
            "text/plain": [
              "<Figure size 700x300 with 2 Axes>"
            ],
            "image/png": "[encoded data removed]"
          },
          "metadata": {}
        }
      ]
    }
  ]
}