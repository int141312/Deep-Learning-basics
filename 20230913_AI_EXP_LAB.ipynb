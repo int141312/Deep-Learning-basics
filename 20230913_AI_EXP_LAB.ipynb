{
  "nbformat": 4,
  "nbformat_minor": 0,
  "metadata": {
    "colab": {
      "provenance": []
    },
    "kernelspec": {
      "name": "python3",
      "display_name": "Python 3"
    },
    "language_info": {
      "name": "python"
    }
  },
  "cells": [
    {
      "cell_type": "code",
      "source": [
        "import numpy as np\n",
        "import doctest"
      ],
      "metadata": {
        "id": "buVIlBaTp5dH"
      },
      "execution_count": null,
      "outputs": []
    },
    {
      "cell_type": "markdown",
      "source": [
        "## SVM loss"
      ],
      "metadata": {
        "id": "snE55nJ2p-vw"
      }
    },
    {
      "cell_type": "code",
      "source": [
        "def svm(x, y, W):\n",
        "  scores = W.dot(x)\n",
        "  margins = np.max(0, scores - scores[y] + 1)\n",
        "  margins[y] = 0\n",
        "  loss_i = np.sum(margins)\n",
        "  return loss_i"
      ],
      "metadata": {
        "id": "WJkfxHrKxJ9j"
      },
      "execution_count": null,
      "outputs": []
    }
  ]
}