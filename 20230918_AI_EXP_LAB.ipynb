{
  "nbformat": 4,
  "nbformat_minor": 0,
  "metadata": {
    "colab": {
      "provenance": []
    },
    "kernelspec": {
      "name": "python3",
      "display_name": "Python 3"
    },
    "language_info": {
      "name": "python"
    }
  },
  "cells": [
    {
      "cell_type": "code",
      "source": [
        "import numpy as np\n",
        "import doctest"
      ],
      "metadata": {
        "id": "buVIlBaTp5dH"
      },
      "execution_count": null,
      "outputs": []
    },
    {
      "cell_type": "markdown",
      "source": [
        "## Softmax loss"
      ],
      "metadata": {
        "id": "jVUs7QbkqA-A"
      }
    },
    {
      "cell_type": "code",
      "source": [
        "def softmax_naive(x):\n",
        "  '''\n",
        "  >>> x = np.array([0.3, 2.9, 4.0])\n",
        "  >>> softmax_naive(x)\n",
        "  array([0.01821127, 0.24519181, 0.73659691])\n",
        "  '''\n",
        "\n",
        "  exp_x = np.exp(x)\n",
        "  sum_exp_x = np.sum(exp_x)\n",
        "  y = exp_x / sum_exp_x\n",
        "\n",
        "  return y"
      ],
      "metadata": {
        "id": "ZnUza8daqVZs"
      },
      "execution_count": null,
      "outputs": []
    },
    {
      "cell_type": "code",
      "source": [
        "doctest.run_docstring_examples(softmax_naive, globals(), False, __name__)"
      ],
      "metadata": {
        "id": "2jM49WWtq1_c"
      },
      "execution_count": null,
      "outputs": []
    },
    {
      "cell_type": "code",
      "source": [
        "numerical_x = np.array([1010, 1000, 990])\n",
        "print(softmax_naive(numerical_x))"
      ],
      "metadata": {
        "colab": {
          "base_uri": "https://localhost:8080/"
        },
        "id": "h4PMBAJprHhA",
        "outputId": "776966a7-7bab-4fdb-9763-9a3c5e9e44fd"
      },
      "execution_count": null,
      "outputs": [
        {
          "output_type": "stream",
          "name": "stdout",
          "text": [
            "[nan nan nan]\n"
          ]
        },
        {
          "output_type": "stream",
          "name": "stderr",
          "text": [
            "<ipython-input-5-30303a4610ad>:8: RuntimeWarning: overflow encountered in exp\n",
            "  exp_x = np.exp(x)\n",
            "<ipython-input-5-30303a4610ad>:10: RuntimeWarning: invalid value encountered in divide\n",
            "  y = exp_x / sum_exp_x\n"
          ]
        }
      ]
    },
    {
      "cell_type": "markdown",
      "source": [
        "**'ppp' exercise**"
      ],
      "metadata": {
        "id": "pn67Qhv7r7XN"
      }
    },
    {
      "cell_type": "code",
      "source": [
        "def softmax_stable(x):\n",
        "  '''\n",
        "  >>> x = np.array([1010, 1000, 990])\n",
        "  >>> softmax_stable(x)\n",
        "  array([9.99954600e-01, 4.53978686e-05, 2.06106005e-09])\n",
        "  '''\n",
        "  c = np.max(x)\n",
        "  exp_x = np.exp(x - c)\n",
        "  sum_exp_x = np.sum(exp_x)\n",
        "\n",
        "  y = exp_x / sum_exp_x\n",
        "  return y"
      ],
      "metadata": {
        "id": "g_FWsu1VreEg"
      },
      "execution_count": null,
      "outputs": []
    },
    {
      "cell_type": "code",
      "source": [
        "doctest.run_docstring_examples(softmax_stable, globals(), False, __name__)"
      ],
      "metadata": {
        "id": "fgit7C8Wrwzo"
      },
      "execution_count": null,
      "outputs": []
    },
    {
      "cell_type": "markdown",
      "source": [
        "**'ppp' exercise**"
      ],
      "metadata": {
        "id": "rgVItq1rp2x2"
      }
    },
    {
      "cell_type": "code",
      "execution_count": null,
      "metadata": {
        "id": "11JOcbFWxCDa"
      },
      "outputs": [],
      "source": [
        "def softmax(x):  # mini batch version\n",
        "  '''\n",
        "  >>> x = np.array([0.3, 2.9, 4.0])\n",
        "  >>> softmax(x)\n",
        "  array([0.01821127, 0.24519181, 0.73659691])\n",
        "  >>> x = np.array([1010, 1000, 990])\n",
        "  >>> softmax(x)\n",
        "  array([9.99954600e-01, 4.53978686e-05, 2.06106005e-09])\n",
        "  >>> x = np.array([\n",
        "  ...  [0.3, 2.9, 4.0],\n",
        "  ...  [1010, 1000, 990]\n",
        "  ...  ])\n",
        "  >>> softmax(x)\n",
        "  array([[1.82112733e-02, 2.45191813e-01, 7.36596914e-01],\n",
        "         [9.99954600e-01, 4.53978686e-05, 2.06106005e-09]])\n",
        "  '''\n",
        "  if x.ndim == 2:\n",
        "    x = x.T\n",
        "    x = x - np.max(x, axis=0)\n",
        "    y = np.exp(x) / np.sum(np.exp(x), axis=0)\n",
        "    return y.T\n",
        "\n",
        "  x = x - np.max(x)\n",
        "  return np.exp(x) / np.sum(np.exp(x))"
      ]
    },
    {
      "cell_type": "code",
      "source": [
        "doctest.run_docstring_examples(softmax, globals(), False, __name__)"
      ],
      "metadata": {
        "id": "8A6ZqycHsoUa"
      },
      "execution_count": null,
      "outputs": []
    },
    {
      "cell_type": "code",
      "source": [
        "x = np.array([[0.3, 2.9, 4.0], [1010, 1000, 990]])\n",
        "print(x.shape)\n",
        "x = x.T\n",
        "print(x.shape)\n",
        "print(np.max(x, axis=0).shape)\n",
        "print((x - np.max(x, axis=0)).shape)"
      ],
      "metadata": {
        "colab": {
          "base_uri": "https://localhost:8080/"
        },
        "id": "hLxhoV3KuUy0",
        "outputId": "1aa7b271-8f9a-43c9-8eb9-2281ff095791"
      },
      "execution_count": null,
      "outputs": [
        {
          "output_type": "stream",
          "name": "stdout",
          "text": [
            "(2, 3)\n",
            "(3, 2)\n",
            "(2,)\n",
            "(3, 2)\n"
          ]
        }
      ]
    }
  ]
}