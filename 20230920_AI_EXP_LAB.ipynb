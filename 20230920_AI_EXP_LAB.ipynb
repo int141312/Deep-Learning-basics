{
  "cells": [
    {
      "cell_type": "markdown",
      "metadata": {
        "id": "YYxJO2subhVZ"
      },
      "source": [
        "## Review\n",
        "### This recitation (09.20) covers two following lectures below:\n",
        "- **09.13 (Wed)**\n",
        "- **09:18 (Mon)**"
      ]
    },
    {
      "cell_type": "code",
      "source": [
        "import numpy as np\n",
        "np.random.seed(20230920)"
      ],
      "metadata": {
        "id": "7Ow-6v_v-W_2"
      },
      "execution_count": null,
      "outputs": []
    },
    {
      "cell_type": "markdown",
      "source": [
        "### CIFAR10"
      ],
      "metadata": {
        "id": "z5SJ9B1_VyEV"
      }
    },
    {
      "cell_type": "markdown",
      "source": [
        "<img src=\"https://drive.google.com/uc?export=view&id=1_--V7VJMvHGjjQZ4tyUWYRPK4LhBhqgJ\" alt=\"Drawing\" height=300 />\n",
        "\n",
        "The **CIFAR-10** dataset consists of 60000 32x32 color images in 10 classes, with 6000 images per class."
      ],
      "metadata": {
        "id": "iIVVv8UV0zp0"
      }
    },
    {
      "cell_type": "code",
      "source": [
        "# import torchvision and matplotlib to download and visualize cifar10\n",
        "import torchvision\n",
        "from matplotlib.pyplot import imshow"
      ],
      "metadata": {
        "id": "o-UiJ0Qwa5rP"
      },
      "execution_count": null,
      "outputs": []
    },
    {
      "cell_type": "code",
      "source": [
        "# download cifar10\n",
        "dataset = torchvision.datasets.CIFAR10(root='./data', train=True, download=True)\n",
        "classes = ['plane', 'car', 'bird', 'cat', 'deer', 'dog', 'frog', 'horse', 'ship', 'truck']"
      ],
      "metadata": {
        "id": "kYrN5FV12DiT",
        "colab": {
          "base_uri": "https://localhost:8080/"
        },
        "outputId": "d3652742-ff46-4c42-c3fc-c723bbdd5997"
      },
      "execution_count": null,
      "outputs": [
        {
          "output_type": "stream",
          "name": "stdout",
          "text": [
            "Files already downloaded and verified\n"
          ]
        }
      ]
    },
    {
      "cell_type": "code",
      "source": [
        "# select random image among index 0-49999\n",
        "n = np.random.randint(50000)\n",
        "sample_img = np.asarray(dataset[n][0])\n",
        "yi = dataset[n][1]\n",
        "img_class = classes[dataset[n][1]]\n",
        "\n",
        "imshow(np.asarray(sample_img))\n",
        "print(f\"image shape : {sample_img.shape}\")\n",
        "print(f'This is an image of [{img_class}].')"
      ],
      "metadata": {
        "colab": {
          "base_uri": "https://localhost:8080/",
          "height": 466
        },
        "id": "Rd06Sl0tzcN7",
        "outputId": "58e8d362-717e-4f5c-94fb-c8931385a072"
      },
      "execution_count": null,
      "outputs": [
        {
          "output_type": "stream",
          "name": "stdout",
          "text": [
            "image shape : (32, 32, 3)\n",
            "This is an image of [deer].\n"
          ]
        },
        {
          "output_type": "display_data",
          "data": {
            "text/plain": [
              "<Figure size 640x480 with 1 Axes>"
            ],
            "image/png": "[encoded data removed]"
          },
          "metadata": {}
        }
      ]
    },
    {
      "cell_type": "code",
      "source": [
        "# convert image into vector\n",
        "# you need a vector to calculate loss with your classifers (SVM, softmax)\n",
        "img_vector = sample_img.reshape(-1)\n",
        "img_vector = img_vector / np.max(img_vector)\n",
        "\n",
        "print(img_vector.shape)"
      ],
      "metadata": {
        "id": "HbR_I0iy2jr6",
        "colab": {
          "base_uri": "https://localhost:8080/"
        },
        "outputId": "236df3db-9750-4fdc-9c82-686281c05185"
      },
      "execution_count": null,
      "outputs": [
        {
          "output_type": "stream",
          "name": "stdout",
          "text": [
            "(3072,)\n"
          ]
        }
      ]
    },
    {
      "cell_type": "markdown",
      "source": [
        "### SVM\n"
      ],
      "metadata": {
        "id": "_Nx56AcsTrL8"
      }
    },
    {
      "cell_type": "markdown",
      "source": [
        "<img src=\"https://drive.google.com/uc?export=view&id=1ehncpsujeUUoQjjQuF-JuzwjPTV0S_oK\" alt=\"Drawing\" height=300 />\n",
        "<img src=\"https://drive.google.com/uc?export=view&id=1jNtrYwrca2FjrCd_A2e3nD8MUvnv62ek\" alt=\"Drawing\" height=150 />\n",
        "\n",
        "The hinge loss/error function (SVM) is the typical loss function used for binary classification (but it can also be extended to multi-class classification) in the context of support vector machines."
      ],
      "metadata": {
        "id": "fowwuYnP7vAr"
      }
    },
    {
      "cell_type": "markdown",
      "source": [
        "#### ppp exercise 1\n",
        "To predict the class of your data, we need a linear classifier.\n",
        "In this exercise, you need to make your classifiers that can predict **among 10 classes**."
      ],
      "metadata": {
        "id": "B3NkODBfV7sk"
      }
    },
    {
      "cell_type": "code",
      "source": [
        "import doctest"
      ],
      "metadata": {
        "id": "RpdRbyCR_B3z"
      },
      "execution_count": null,
      "outputs": []
    },
    {
      "cell_type": "code",
      "source": [
        "def make_your_classifier(num_classes):\n",
        "  # YOUR CODE HERE\n",
        "  W = np.random.randn(3072, 10)\n",
        "\n",
        "  return W"
      ],
      "metadata": {
        "id": "ShraEJu0WgNX"
      },
      "execution_count": null,
      "outputs": []
    },
    {
      "cell_type": "markdown",
      "source": [
        "Test your classifier, in this case, since W is randomly initialized the prediced class may not equal to answer class."
      ],
      "metadata": {
        "id": "E0taUX3rLrnQ"
      }
    },
    {
      "cell_type": "code",
      "source": [
        "W = make_your_classifier(10)\n",
        "assert W.shape == (3072, 10), \"Check your classifier! \"\n",
        "\n",
        "score = W.T @ img_vector\n",
        "prediction = np.argmax(score)\n",
        "\n",
        "print(f'Predicted class is [{classes[np.argmax(score)]}].')\n",
        "print(f'Answer yi class : {img_class}')\n",
        "print(f'Answer yi score :{score[np.argmax(score)]: .4f}')"
      ],
      "metadata": {
        "colab": {
          "base_uri": "https://localhost:8080/"
        },
        "id": "021SZyHTgbbV",
        "outputId": "d5db78ed-3b50-4e20-f64b-569a041b7a32"
      },
      "execution_count": null,
      "outputs": [
        {
          "output_type": "stream",
          "name": "stdout",
          "text": [
            "Predicted class is [dog].\n",
            "Answer yi class : deer\n",
            "Answer yi score : 34.6293\n"
          ]
        }
      ]
    },
    {
      "cell_type": "markdown",
      "source": [
        "#### ppp exercise 2\n",
        "Calcualte SVM Loss with **delta value** 1.0.\n"
      ],
      "metadata": {
        "id": "Fkzxd2txY0NK"
      }
    },
    {
      "cell_type": "code",
      "source": [
        "# classes = ['plane', 'car', 'bird', 'cat', 'deer', 'dog', 'frog', 'horse', 'ship', 'truck']\n",
        "def svm_loss_1(img_class, score, delta = 1.0):\n",
        "\n",
        "  # YOUR CODE HERE\n",
        "  score = score - score[img_class] + delta\n",
        "  score[img_class] = 0\n",
        "  margin = np.maximum(score, 0)\n",
        "\n",
        "  loss = np.sum(margin)\n",
        "\n",
        "  return loss"
      ],
      "metadata": {
        "id": "32D5LKO0YxEs"
      },
      "execution_count": null,
      "outputs": []
    },
    {
      "cell_type": "code",
      "source": [
        "loss_svm_1 = svm_loss_1(yi, score)\n",
        "print(f'loss: {loss_svm_1: .4f}')"
      ],
      "metadata": {
        "colab": {
          "base_uri": "https://localhost:8080/"
        },
        "id": "Gb-1wVHJvp-3",
        "outputId": "5603fc73-f13c-40b3-ac4a-b65f5ca0b9e3"
      },
      "execution_count": null,
      "outputs": [
        {
          "output_type": "stream",
          "name": "stdout",
          "text": [
            "loss:  31.3677\n"
          ]
        }
      ]
    },
    {
      "cell_type": "markdown",
      "source": [
        "#### ppp exercise 3\n",
        "Calcualte SVM Loss with **delta value** 100.0.\n",
        "\n",
        "Additionally, normalize your score matrix with max value."
      ],
      "metadata": {
        "id": "V6s2OCtsZekE"
      }
    },
    {
      "cell_type": "code",
      "source": [
        "def svm_loss_100(img_class, score, normalize=False, delta = 100.0):\n",
        "\n",
        "  # YOUR CODE HERE\n",
        "  score = score - score[img_class] + delta\n",
        "  score[img_class] = 0\n",
        "  if normalize:\n",
        "    score = score / np.max(score)\n",
        "\n",
        "  margin = np.maximum(score, 0)\n",
        "\n",
        "  loss = np.sum(margin)\n",
        "\n",
        "  return loss"
      ],
      "metadata": {
        "id": "Owspf74BZi1O"
      },
      "execution_count": null,
      "outputs": []
    },
    {
      "cell_type": "code",
      "source": [
        "loss_svm_100 = svm_loss_100(yi, score)\n",
        "print(f'loss: {loss_svm_100: .4f}')"
      ],
      "metadata": {
        "colab": {
          "base_uri": "https://localhost:8080/"
        },
        "id": "llnk1iQt5F_n",
        "outputId": "e5c101e2-c535-4bc6-d600-9a0b0f37292c"
      },
      "execution_count": null,
      "outputs": [
        {
          "output_type": "stream",
          "name": "stdout",
          "text": [
            "loss:  738.7011\n"
          ]
        }
      ]
    },
    {
      "cell_type": "code",
      "source": [
        "loss_svm_100 = svm_loss_100(yi, score, normalize=True)\n",
        "print(f'loss: {loss_svm_100: .4f}')"
      ],
      "metadata": {
        "colab": {
          "base_uri": "https://localhost:8080/"
        },
        "id": "ONmDB2ZPR1SI",
        "outputId": "c63907ff-886f-4480-ba95-95aef7ba28cb"
      },
      "execution_count": null,
      "outputs": [
        {
          "output_type": "stream",
          "name": "stdout",
          "text": [
            "loss:  5.8232\n"
          ]
        }
      ]
    },
    {
      "cell_type": "markdown",
      "source": [
        "#### **Discussion**\n",
        "1. Let’s talk about the change in loss value according to delta value  (1.0 and 100.0).\n",
        "\n",
        "2. Let’s talk about the change in loss value according to normalization.\n",
        "\n",
        "\n"
      ],
      "metadata": {
        "id": "7r8fuOSl5SmH"
      }
    },
    {
      "cell_type": "code",
      "source": [
        "# why delta=100 has larger loss value?\n",
        "\n",
        "print(f'delta=1 ({loss_svm_1:.4f}) < delta=100 ({loss_svm_100:.4f})')"
      ],
      "metadata": {
        "colab": {
          "base_uri": "https://localhost:8080/"
        },
        "id": "jH_wF-Lx57Yw",
        "outputId": "6d6ff6c2-e6ea-4967-85a6-09d6e914b333"
      },
      "execution_count": null,
      "outputs": [
        {
          "output_type": "stream",
          "name": "stdout",
          "text": [
            "delta=1 (31.3677) < delta=100 (738.7011)\n"
          ]
        }
      ]
    },
    {
      "cell_type": "markdown",
      "source": [
        "### Softmax"
      ],
      "metadata": {
        "id": "-MXBHehpXdYN"
      }
    },
    {
      "cell_type": "markdown",
      "source": [
        "<img src=\"https://drive.google.com/uc?export=view&id=1435FhwTC4_uPkbLZ4IPzGCrjN-mnzHEY\" alt=\"Drawing\" height=200 />\n",
        "\n",
        "**Softmax Loss** is actually just a Softmax Activation plus a Cross-Entropy Loss. Softmax is an activation function that outputs the probability for each class and these probabilities will sum up to one. Cross Entropy loss is just the sum of the negative logarithm of the probabilities."
      ],
      "metadata": {
        "id": "0YBYG4BFttx1"
      }
    },
    {
      "cell_type": "markdown",
      "source": [
        "#### ppp exercise 4\n",
        "Calcualte Softmax Loss and see details of your score matrix.\n",
        "Then, compare with that of SVM loss."
      ],
      "metadata": {
        "id": "qsMmla2YanKo"
      }
    },
    {
      "cell_type": "code",
      "source": [
        "def softmax_loss(img_class, score):\n",
        "\n",
        "  # YOUR CODE HERE\n",
        "  m = np.max(score)\n",
        "  exp_x = np.exp(score - m)\n",
        "  sum_exp_x = np.sum(exp_x)\n",
        "\n",
        "  softmax = exp_x / sum_exp_x\n",
        "  y = softmax[img_class]\n",
        "  loss = -np.log(y)\n",
        "\n",
        "  return loss"
      ],
      "metadata": {
        "id": "Og_Xo4zPmQ4f"
      },
      "execution_count": null,
      "outputs": []
    },
    {
      "cell_type": "code",
      "source": [
        "loss_smx = softmax_loss(yi, score)\n",
        "print(f'loss: {loss_smx: .4f}')"
      ],
      "metadata": {
        "colab": {
          "base_uri": "https://localhost:8080/"
        },
        "id": "TTMzfpRn8gr3",
        "outputId": "32492d4b-a48c-4516-a91e-e1bce9be6254"
      },
      "execution_count": null,
      "outputs": [
        {
          "output_type": "stream",
          "name": "stdout",
          "text": [
            "loss:  26.8553\n"
          ]
        }
      ]
    },
    {
      "cell_type": "markdown",
      "source": [
        "### New data\n",
        "\n",
        "When new data comes in, the softmax loss always changes, but the SVM loss may not."
      ],
      "metadata": {
        "id": "kQ5DBV0B3mY-"
      }
    },
    {
      "cell_type": "markdown",
      "source": [
        "```\n",
        "new_data = np.asarray(dataset[k][0])\n",
        "new_data_class = ???\n",
        "\n",
        "```"
      ],
      "metadata": {
        "id": "DiPHpAvAbItG"
      }
    },
    {
      "cell_type": "code",
      "source": [
        "k = 5\n",
        "new_data = np.asarray(dataset[k][0])\n",
        "new_data_class = classes[dataset[k][1]]\n",
        "new_yi = dataset[k][1]\n",
        "\n",
        "imshow(np.asarray(new_data))i l\n",
        "print(f'New image of [{new_data_class}].')\n",
        "\n",
        "new_img_vector = new_data.reshape(-1)\n",
        "new_img_vector = new_img_vector / np.max(new_img_vector)"
      ],
      "metadata": {
        "colab": {
          "base_uri": "https://localhost:8080/",
          "height": 448
        },
        "id": "WrdvrfUb_OhH",
        "outputId": "53866524-4a9b-459a-981c-d2a0b69de60d"
      },
      "execution_count": null,
      "outputs": [
        {
          "output_type": "stream",
          "name": "stdout",
          "text": [
            "New image of [car].\n"
          ]
        },
        {
          "output_type": "display_data",
          "data": {
            "text/plain": [
              "<Figure size 640x480 with 1 Axes>"
            ],
            "image/png": "[encoded data removed]"
          },
          "metadata": {}
        }
      ]
    },
    {
      "cell_type": "code",
      "source": [
        "# calculate loss (SVM and Softmax) of new data\n",
        "score = W.T @ new_img_vector\n",
        "prediction = np.argmax(score)\n",
        "\n",
        "print(f'Predicted class is [{classes[np.argmax(score)]}].')\n",
        "print(f'Answer new yi class : {new_data_class}')\n",
        "print(f'Answer new yi score :{score[np.argmax(score)]: .4f}')"
      ],
      "metadata": {
        "colab": {
          "base_uri": "https://localhost:8080/"
        },
        "id": "iZFM3TncAMVH",
        "outputId": "200d3917-8f19-46f8-eb25-d9e36dbe53b1"
      },
      "execution_count": null,
      "outputs": [
        {
          "output_type": "stream",
          "name": "stdout",
          "text": [
            "Predicted class is [dog].\n",
            "Answer new yi class : car\n",
            "Answer new yi score : 19.1366\n"
          ]
        }
      ]
    },
    {
      "cell_type": "code",
      "source": [
        "# calculate both losses\n",
        "loss_smx = softmax_loss(new_yi, score)\n",
        "loss_svm_1 = svm_loss_1(new_yi, score)\n",
        "\n",
        "print(f'SVM loss: {loss_svm_1: .4f}')\n",
        "print(f'softmax loss: {loss_smx: .4f}')"
      ],
      "metadata": {
        "colab": {
          "base_uri": "https://localhost:8080/"
        },
        "id": "xZxLd-mePX-w",
        "outputId": "00b32e4d-b492-4684-e208-aeaf955da2ef"
      },
      "execution_count": null,
      "outputs": [
        {
          "output_type": "stream",
          "name": "stdout",
          "text": [
            "SVM loss:  25.0081\n",
            "softmax loss:  14.3469\n"
          ]
        }
      ]
    },
    {
      "cell_type": "code",
      "source": [
        "# Assume score of extreme case\n",
        "# This is a case where the value of the correct answer label in the score matrix is ​​large enough\n",
        "# so that all margin values ​​are 0.\n",
        "\n",
        "score[new_yi] = np.max(score) + 1\n",
        "\n",
        "loss_smx = softmax_loss(new_yi, score)\n",
        "loss_svm_1 = svm_loss_1(new_yi, score)\n",
        "\n",
        "print(f'SVM loss: {loss_svm_1: .4f}')\n",
        "print(f'softmax loss: {loss_smx: .4f}')"
      ],
      "metadata": {
        "colab": {
          "base_uri": "https://localhost:8080/"
        },
        "id": "T81w5YgsB9S4",
        "outputId": "125c94b1-fb5b-4be2-ce30-89a7446c9f9c"
      },
      "execution_count": null,
      "outputs": [
        {
          "output_type": "stream",
          "name": "stdout",
          "text": [
            "SVM loss:  0.0000\n",
            "softmax loss:  0.3142\n"
          ]
        }
      ]
    }
  ],
  "metadata": {
    "colab": {
      "provenance": []
    },
    "kernelspec": {
      "display_name": "Python 3",
      "name": "python3"
    },
    "language_info": {
      "name": "python"
    }
  },
  "nbformat": 4,
  "nbformat_minor": 0
}