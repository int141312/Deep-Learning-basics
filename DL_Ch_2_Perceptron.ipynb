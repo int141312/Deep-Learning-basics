{
  "cells": [
    {
      "cell_type": "markdown",
      "source": [
        "# 2 . 퍼셉트론"
      ],
      "metadata": {
        "id": "QwpJ3qHeZssr"
      },
      "id": "QwpJ3qHeZssr"
    },
    {
      "cell_type": "markdown",
      "source": [
        "## 2.1 Perceptron"
      ],
      "metadata": {
        "id": "GVRj70D0X6XZ"
      },
      "id": "GVRj70D0X6XZ"
    },
    {
      "cell_type": "markdown",
      "id": "stainless-manitoba",
      "metadata": {
        "id": "stainless-manitoba"
      },
      "source": [
        "\n",
        "## 2.2 단순한 논리회로\n",
        "### 2.2.1 AND gate\n",
        "### 2.2.2 NAND gate and OR gate\n"
      ]
    },
    {
      "cell_type": "markdown",
      "source": [
        "## 2.3 Percpetron 구현\n"
      ],
      "metadata": {
        "id": "RxGaQCHUXKjW"
      },
      "id": "RxGaQCHUXKjW"
    },
    {
      "cell_type": "markdown",
      "source": [
        "### 2.3.1 간단한 구현"
      ],
      "metadata": {
        "id": "PJlhCuqWXMZe"
      },
      "id": "PJlhCuqWXMZe"
    },
    {
      "cell_type": "markdown",
      "source": [
        "#### AND gate"
      ],
      "metadata": {
        "id": "JJ5kZmUAXOlA"
      },
      "id": "JJ5kZmUAXOlA"
    },
    {
      "cell_type": "code",
      "execution_count": null,
      "id": "alleged-density",
      "metadata": {
        "id": "alleged-density"
      },
      "outputs": [],
      "source": [
        "# 2.3.1.1 AND 게이트의 구현\n",
        "def AND (x1, x2) :\n",
        "    w1, w2, theta = 0.5, 0.5, 0.7\n",
        "    tmp = x1*w1 + x2*w2\n",
        "    if tmp <= theta :\n",
        "        return 0\n",
        "    elif tmp > theta :\n",
        "        return 1"
      ]
    },
    {
      "cell_type": "code",
      "execution_count": null,
      "id": "earlier-dispatch",
      "metadata": {
        "id": "earlier-dispatch",
        "colab": {
          "base_uri": "https://localhost:8080/"
        },
        "outputId": "bddb9cbc-c37d-4e73-e75e-1baf710e8d90"
      },
      "outputs": [
        {
          "output_type": "execute_result",
          "data": {
            "text/plain": [
              "0"
            ]
          },
          "metadata": {},
          "execution_count": 2
        }
      ],
      "source": [
        "# 2.3.1.2\n",
        "AND (0,0)  # 0"
      ]
    },
    {
      "cell_type": "code",
      "source": [
        "# 2.3.1.3\n",
        "AND (0,1)  # 0"
      ],
      "metadata": {
        "id": "OREg7nqVldZ5",
        "colab": {
          "base_uri": "https://localhost:8080/"
        },
        "outputId": "8c2ca029-2067-4a95-ae2f-f3c1a5e2aecf"
      },
      "id": "OREg7nqVldZ5",
      "execution_count": null,
      "outputs": [
        {
          "output_type": "execute_result",
          "data": {
            "text/plain": [
              "0"
            ]
          },
          "metadata": {},
          "execution_count": 3
        }
      ]
    },
    {
      "cell_type": "code",
      "execution_count": null,
      "id": "electronic-signal",
      "metadata": {
        "id": "electronic-signal",
        "colab": {
          "base_uri": "https://localhost:8080/"
        },
        "outputId": "2d9c1361-709a-4791-d2f6-f639844745e5"
      },
      "outputs": [
        {
          "output_type": "execute_result",
          "data": {
            "text/plain": [
              "0"
            ]
          },
          "metadata": {},
          "execution_count": 4
        }
      ],
      "source": [
        "# 2.3.1.4\n",
        "AND (0,1)  # 0"
      ]
    },
    {
      "cell_type": "code",
      "execution_count": null,
      "id": "filled-fountain",
      "metadata": {
        "id": "filled-fountain",
        "colab": {
          "base_uri": "https://localhost:8080/"
        },
        "outputId": "55335c46-46b6-4e74-af80-d9fa9912a56e"
      },
      "outputs": [
        {
          "output_type": "execute_result",
          "data": {
            "text/plain": [
              "1"
            ]
          },
          "metadata": {},
          "execution_count": 5
        }
      ],
      "source": [
        "# 2.3.1.5\n",
        "AND (1,1)  # 1"
      ]
    },
    {
      "cell_type": "markdown",
      "id": "starting-rates",
      "metadata": {
        "id": "starting-rates"
      },
      "source": [
        "### 2.3.2 가중치와 편향 도입"
      ]
    },
    {
      "cell_type": "code",
      "execution_count": null,
      "id": "quarterly-haven",
      "metadata": {
        "id": "quarterly-haven",
        "outputId": "94fb6aaf-8c50-4b41-c402-406088ba39aa",
        "colab": {
          "base_uri": "https://localhost:8080/"
        }
      },
      "outputs": [
        {
          "output_type": "execute_result",
          "data": {
            "text/plain": [
              "array([0. , 0.5])"
            ]
          },
          "metadata": {},
          "execution_count": 6
        }
      ],
      "source": [
        "# 2.3.2.1 넘파이 배열의 곱\n",
        "import numpy as np\n",
        "x = np.array([0,1])      # 입력\n",
        "w = np.array([0.5, 0.5]) # 가중치\n",
        "b = -0.7\n",
        "x*w"
      ]
    },
    {
      "cell_type": "code",
      "execution_count": null,
      "id": "above-paper",
      "metadata": {
        "id": "above-paper",
        "outputId": "4bf32603-8f29-4872-8051-7d5c0008e88e",
        "colab": {
          "base_uri": "https://localhost:8080/"
        }
      },
      "outputs": [
        {
          "output_type": "execute_result",
          "data": {
            "text/plain": [
              "0.5"
            ]
          },
          "metadata": {},
          "execution_count": 7
        }
      ],
      "source": [
        "# 2.3.2.2\n",
        "np.sum(x*w)"
      ]
    },
    {
      "cell_type": "code",
      "execution_count": null,
      "id": "contrary-belle",
      "metadata": {
        "id": "contrary-belle",
        "outputId": "2c14e2de-c8d3-4315-f64a-bbeaf6963f5a",
        "colab": {
          "base_uri": "https://localhost:8080/"
        }
      },
      "outputs": [
        {
          "output_type": "execute_result",
          "data": {
            "text/plain": [
              "-0.19999999999999996"
            ]
          },
          "metadata": {},
          "execution_count": 8
        }
      ],
      "source": [
        "# 2.3.2.3\n",
        "np.sum(x*w) +b"
      ]
    },
    {
      "cell_type": "markdown",
      "id": "liable-nature",
      "metadata": {
        "id": "liable-nature"
      },
      "source": [
        "### 2.3.3 가중치와 편향을 반영한 구현"
      ]
    },
    {
      "cell_type": "markdown",
      "source": [
        "#### AND gate"
      ],
      "metadata": {
        "id": "dOwWLYTcXWfI"
      },
      "id": "dOwWLYTcXWfI"
    },
    {
      "cell_type": "code",
      "execution_count": null,
      "id": "answering-watershed",
      "metadata": {
        "id": "answering-watershed"
      },
      "outputs": [],
      "source": [
        "# 2.3.3.1 가중치와 편향을 도입한 AND 게이트 구현\n",
        "def AND (x1, x2):\n",
        "    x = np.array([ 0,1 ])\n",
        "    w = np.array([0.5,0.5])\n",
        "    b= -0.7\n",
        "\n",
        "    x*w"
      ]
    },
    {
      "cell_type": "code",
      "execution_count": null,
      "id": "fatty-insulation",
      "metadata": {
        "id": "fatty-insulation",
        "outputId": "a9851a64-fc61-4051-80a6-c7f65c161e49",
        "colab": {
          "base_uri": "https://localhost:8080/"
        }
      },
      "outputs": [
        {
          "output_type": "execute_result",
          "data": {
            "text/plain": [
              "(None, None, None, None)"
            ]
          },
          "metadata": {},
          "execution_count": 10
        }
      ],
      "source": [
        "# 2.3.3.2\n",
        "AND (0,0) , AND (0,1) , AND(1,0), AND(1,1)"
      ]
    },
    {
      "cell_type": "markdown",
      "source": [
        "#### NAND gate"
      ],
      "metadata": {
        "id": "iRrVMZDjXZPa"
      },
      "id": "iRrVMZDjXZPa"
    },
    {
      "cell_type": "code",
      "execution_count": null,
      "id": "intensive-quarter",
      "metadata": {
        "id": "intensive-quarter"
      },
      "outputs": [],
      "source": [
        "# 2.3.3.3 NAND 게이트의 구현\n",
        "def NAND (x1, x2):\n",
        "\n",
        "    ***"
      ]
    },
    {
      "cell_type": "code",
      "execution_count": null,
      "id": "detailed-tobacco",
      "metadata": {
        "id": "detailed-tobacco",
        "outputId": "e1802c8f-d98e-4229-89ce-7938c5db0440",
        "colab": {
          "base_uri": "https://localhost:8080/"
        }
      },
      "outputs": [
        {
          "output_type": "execute_result",
          "data": {
            "text/plain": [
              "(1, 1, 1, 0)"
            ]
          },
          "metadata": {},
          "execution_count": 12
        }
      ],
      "source": [
        "# 2.3.3.4\n",
        "NAND (0,0) , NAND (0,1) , NAND(1,0), NAND(1,1)"
      ]
    },
    {
      "cell_type": "markdown",
      "source": [
        "####OR gate"
      ],
      "metadata": {
        "id": "PuJCwtoYXbJK"
      },
      "id": "PuJCwtoYXbJK"
    },
    {
      "cell_type": "code",
      "execution_count": null,
      "id": "afraid-portugal",
      "metadata": {
        "id": "afraid-portugal"
      },
      "outputs": [],
      "source": [
        "# 2.3.3.5 OR 게이트의 구현\n",
        "def OR (x1, x2):\n",
        "\n",
        "\n",
        "   ***"
      ]
    },
    {
      "cell_type": "code",
      "execution_count": null,
      "id": "champion-manufacturer",
      "metadata": {
        "id": "champion-manufacturer",
        "outputId": "1aaa2723-4170-4d0b-c1b7-6f37f707d79d",
        "colab": {
          "base_uri": "https://localhost:8080/"
        }
      },
      "outputs": [
        {
          "output_type": "execute_result",
          "data": {
            "text/plain": [
              "(0, 1, 1, 1)"
            ]
          },
          "metadata": {},
          "execution_count": 14
        }
      ],
      "source": [
        "# 2.3.3.6\n",
        "OR (0,0) , OR (0,1) , OR(1,0), OR(1,1)"
      ]
    },
    {
      "cell_type": "markdown",
      "id": "humanitarian-champion",
      "metadata": {
        "id": "humanitarian-champion"
      },
      "source": [
        "## 2.4 퍼셉트론의 한계\n",
        "### 2.4.1 XOR gate\n",
        "### 2.4.2 선형과 비선형\n"
      ]
    },
    {
      "cell_type": "markdown",
      "source": [
        "## 2.5 다층 퍼셉트론\n",
        "### 2.5.1 기존 게이트의 조합\n",
        "### 2.5.2 XOR gate의 구현"
      ],
      "metadata": {
        "id": "yhAzHTmeXmQG"
      },
      "id": "yhAzHTmeXmQG"
    },
    {
      "cell_type": "markdown",
      "source": [
        "#### XOR gate"
      ],
      "metadata": {
        "id": "45H_oe3MXo69"
      },
      "id": "45H_oe3MXo69"
    },
    {
      "cell_type": "code",
      "source": [
        "# 2.5.2.1 XOR 게이트의 구현\n",
        "def XOR (x1,x2) :\n",
        "    s1 = NAND(x1, x2)\n",
        "    s2 = OR(x1, x2)\n",
        "    y = AND(s1, s2)\n",
        "    return y"
      ],
      "metadata": {
        "id": "EmpSHTJWm9Y2"
      },
      "id": "EmpSHTJWm9Y2",
      "execution_count": null,
      "outputs": []
    },
    {
      "cell_type": "code",
      "execution_count": null,
      "id": "stuffed-dictionary",
      "metadata": {
        "id": "stuffed-dictionary"
      },
      "outputs": [],
      "source": [
        "# 2.5.2.2 XOR 게이트 축약형\n",
        "def XOR (x1,x2) :\n",
        "    return  AND(NAND(x1,x2), OR(x1,x2))"
      ]
    },
    {
      "cell_type": "code",
      "execution_count": null,
      "id": "adequate-packaging",
      "metadata": {
        "id": "adequate-packaging",
        "colab": {
          "base_uri": "https://localhost:8080/"
        },
        "outputId": "9466e7e5-4fbb-4e0c-efb3-9651dadd21b4"
      },
      "outputs": [
        {
          "output_type": "execute_result",
          "data": {
            "text/plain": [
              "0"
            ]
          },
          "metadata": {},
          "execution_count": 17
        }
      ],
      "source": [
        "# 2.5.2.3\n",
        "XOR (0,0) # 0"
      ]
    },
    {
      "cell_type": "code",
      "source": [
        "# 2.5.2.4\n",
        "XOR (1,0) # 1"
      ],
      "metadata": {
        "id": "hOSam7_NoAyy",
        "colab": {
          "base_uri": "https://localhost:8080/"
        },
        "outputId": "38f994a5-4c99-404c-8979-1db0ec057230"
      },
      "id": "hOSam7_NoAyy",
      "execution_count": null,
      "outputs": [
        {
          "output_type": "execute_result",
          "data": {
            "text/plain": [
              "1"
            ]
          },
          "metadata": {},
          "execution_count": 18
        }
      ]
    },
    {
      "cell_type": "code",
      "source": [
        "# 2.5.2.5\n",
        "XOR (0,1) # 0"
      ],
      "metadata": {
        "id": "JUkiFywxoAqs",
        "colab": {
          "base_uri": "https://localhost:8080/"
        },
        "outputId": "05716792-2c1f-47c2-de6b-e48f9f771342"
      },
      "id": "JUkiFywxoAqs",
      "execution_count": null,
      "outputs": [
        {
          "output_type": "execute_result",
          "data": {
            "text/plain": [
              "1"
            ]
          },
          "metadata": {},
          "execution_count": 19
        }
      ]
    },
    {
      "cell_type": "code",
      "source": [
        "# 2.5.2.6\n",
        "XOR (1,1) # 0"
      ],
      "metadata": {
        "id": "IqXrk0NaoAhB",
        "colab": {
          "base_uri": "https://localhost:8080/"
        },
        "outputId": "56cefbe2-3979-47a5-82c9-4e1d2fe7a211"
      },
      "id": "IqXrk0NaoAhB",
      "execution_count": null,
      "outputs": [
        {
          "output_type": "execute_result",
          "data": {
            "text/plain": [
              "0"
            ]
          },
          "metadata": {},
          "execution_count": 20
        }
      ]
    },
    {
      "cell_type": "markdown",
      "id": "neither-african",
      "metadata": {
        "id": "neither-african"
      },
      "source": [
        "## 2.6 NAND로부터 컴퓨터로 진화\n"
      ]
    }
  ],
  "metadata": {
    "kernelspec": {
      "display_name": "Python 3",
      "language": "python",
      "name": "python3"
    },
    "language_info": {
      "codemirror_mode": {
        "name": "ipython",
        "version": 3
      },
      "file_extension": ".py",
      "mimetype": "text/x-python",
      "name": "python",
      "nbconvert_exporter": "python",
      "pygments_lexer": "ipython3",
      "version": "3.8.3"
    },
    "colab": {
      "provenance": []
    }
  },
  "nbformat": 4,
  "nbformat_minor": 5
}