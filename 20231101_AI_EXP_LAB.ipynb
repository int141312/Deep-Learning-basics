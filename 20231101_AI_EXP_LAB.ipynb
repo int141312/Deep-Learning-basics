{
  "nbformat": 4,
  "nbformat_minor": 0,
  "metadata": {
    "colab": {
      "provenance": []
    },
    "kernelspec": {
      "name": "python3",
      "display_name": "Python 3"
    },
    "language_info": {
      "name": "python"
    }
  },
  "cells": [
    {
      "cell_type": "code",
      "source": [
        "import numpy as np"
      ],
      "metadata": {
        "id": "Qw1hGtEbb16k"
      },
      "execution_count": null,
      "outputs": []
    },
    {
      "cell_type": "markdown",
      "source": [
        "## Convolution"
      ],
      "metadata": {
        "id": "uoNJxt7fz2hX"
      }
    },
    {
      "cell_type": "code",
      "source": [
        "def im2col(input_data, filter_h, filter_w, stride=1, pad=0):\n",
        "  \"\"\"Flatten multiple images into 2D array\n",
        "\n",
        "  Parameters\n",
        "  ----------\n",
        "  input_data : a set of 4D shaped input images (N, C, H, W)\n",
        "  filter_h : filter height\n",
        "  filter_w : filter width\n",
        "  stride : stride of the kernel\n",
        "  pad : padding for the image\n",
        "\n",
        "  Returns\n",
        "  -------\n",
        "  col : 2D array (flattened input)\n",
        "  \"\"\"\n",
        "  N, C, H, W = input_data.shape\n",
        "  out_h = (H + 2*pad - filter_h)//stride + 1\n",
        "  out_w = (W + 2*pad - filter_w)//stride + 1\n",
        "\n",
        "  img = np.pad(input_data, [(0,0), (0,0), (pad, pad), (pad, pad)], 'constant')\n",
        "  col = np.zeros((N, C, filter_h, filter_w, out_h, out_w))\n",
        "\n",
        "  for y in range(filter_h):\n",
        "    y_max = y + stride*out_h\n",
        "    for x in range(filter_w):\n",
        "      x_max = x + stride*out_w\n",
        "      col[:, :, y, x, :, :] = img[:, :, y:y_max:stride, x:x_max:stride]\n",
        "\n",
        "  col = col.transpose(0, 4, 5, 1, 2, 3).reshape(N*out_h*out_w, -1)\n",
        "  return col"
      ],
      "metadata": {
        "id": "bH6hy-SqZZk1"
      },
      "execution_count": null,
      "outputs": []
    },
    {
      "cell_type": "code",
      "source": [
        "def col2im(col, input_shape, filter_h, filter_w, stride=1, pad=0):\n",
        "  \"\"\"reverse opreation of im2col\n",
        "\n",
        "  Parameters\n",
        "  ----------\n",
        "  col : 2D array (flattened input)\n",
        "  input_shape : shape of the original image (N, C, H, W)\n",
        "  filter_h : filter height\n",
        "  filter_w : filter width\n",
        "  stride : stride of the kernel\n",
        "  pad : padding for the image\n",
        "\n",
        "  Returns\n",
        "  -------\n",
        "  img : recovered images (N, C, H, W)\n",
        "  \"\"\"\n",
        "\n",
        "  # 'ppp' exercise\n",
        "\n",
        "  N, C, H, W = input_shape\n",
        "  out_h = (H + 2*pad - filter_h)//stride + 1\n",
        "  out_w = (W + 2*pad - filter_w)//stride + 1\n",
        "  col = col.reshape(N, out_h, out_w, C, filter_h, filter_w).transpose(0, 3, 4, 5, 1, 2)\n",
        "\n",
        "  img = np.zero(N, C, H + 2*pad + stride -1 , W + 2*pad + stride -1)\n",
        "  for y in range(filter_h):\n",
        "    y_max = y + stride*out_h\n",
        "\n",
        "    for x in rage(filter_w):\n",
        "      x_max = x + stride*out_w\n",
        "      img[:, :, y:y_max:stride, x:x_max:stride] += col[:, :, y, x, :, :]\n",
        "\n",
        "  return img[:, :, pad:H+pad, pad:W+pad]\n",
        "\n",
        "\n"
      ],
      "metadata": {
        "id": "ux4xj8UaK57-"
      },
      "execution_count": null,
      "outputs": []
    },
    {
      "cell_type": "code",
      "execution_count": null,
      "metadata": {
        "id": "C04w-P3QYp1p"
      },
      "outputs": [],
      "source": [
        "class Convolution:\n",
        "  def __init__(self, W, b, stride=1, pad=0):\n",
        "    self.W = W\n",
        "    self.b = b\n",
        "    self.stride = stride\n",
        "    self.pad = pad\n",
        "\n",
        "    # store data for backward\n",
        "    self.x = None\n",
        "    self.col = None\n",
        "    self.col_W = None\n",
        "\n",
        "    # derivative\n",
        "    self.dW = None\n",
        "    self.db = None\n",
        "\n",
        "  def forward(self, x):\n",
        "    FN, C, FH, FW = self.W.shape\n",
        "    N, C, H, W = x.shape\n",
        "    out_h = 1 + int((H + 2*self.pad - FH) / self.stride)\n",
        "    out_w = 1 + int((W + 2*self.pad - FW) / self.stride)\n",
        "\n",
        "    col = im2col(x, FH, FW, self.stride, self.pad)\n",
        "    col_W = self.W.reshape(FN, -1).T\n",
        "\n",
        "    out = np.dot(col, col_W) + self.b\n",
        "    out = out.reshape(N, out_h, out_w, -1).transpose(0, 3, 1, 2)\n",
        "\n",
        "    self.x = x\n",
        "    self.col = col\n",
        "    self.col_W = col_W\n",
        "\n",
        "    return out\n",
        "\n",
        "  def backward(self, dout):\n",
        "    # 'ppp' exercise\n",
        "    FC, C, FH, FW = self.W.shape\n",
        "    dout = dout.transpose(0, 2, 3, 1).reshape(-1, FN)\n",
        "\n",
        "    self.db = np.sum(dout, axis = 0)\n",
        "    self.dW = np.dot(self.col.T, dout)\n",
        "    self.dW = self.dW.transpoes(1,0).reshape(FC, C, FH, FW)\n",
        "\n",
        "    dcol = np.dot(dout, self.col_W.T)\n",
        "    dx = col2im(dcol, self.x.shape, FH, FW, self.stride, self.pad)\n"
      ]
    }
  ]
}