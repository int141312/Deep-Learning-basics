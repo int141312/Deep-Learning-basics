{
  "cells": [
    {
      "cell_type": "markdown",
      "metadata": {
        "id": "fX_fKHrFIGvU"
      },
      "source": [
        "# Scientific Computing in Python: Introduction to NumPy and Matplotlib"
      ]
    },
    {
      "cell_type": "markdown",
      "source": [
        "**Disclaimer.**\n",
        "This colab is based on\n",
        "\n",
        "1. [Introduction to NumPy and Matplotlib by Sebastian Raschka](https://sebastianraschka.com/blog/2020/numpy-intro.html)"
      ],
      "metadata": {
        "id": "3ornHEWzJMPO"
      }
    },
    {
      "cell_type": "markdown",
      "metadata": {
        "id": "XssvwQCRIGva"
      },
      "source": [
        "---\n",
        "\n",
        "## 1: NumPy Basics\n",
        "\n",
        "---"
      ]
    },
    {
      "cell_type": "markdown",
      "metadata": {
        "id": "iMzTU8UbIGva"
      },
      "source": [
        "### Introduction to NumPy"
      ]
    },
    {
      "cell_type": "markdown",
      "metadata": {
        "id": "6VVBFGMLIGvb"
      },
      "source": [
        "This section offers a quick tour of the NumPy library for working with multi-dimensional arrays in Python. NumPy (short for Numerical Python) was created in 2005 by merging Numarray into Numeric. Since then, the open source NumPy library has evolved into an essential library for scientific computing in Python. It has become a building block of many other scientific libraries, such as SciPy, Scikit-learn, Pandas, and others.\n",
        "What makes NumPy so incredibly attractive to the scientific community is that it provides a convenient Python interface for working with multi-dimensional array data structures efficiently; the NumPy array data structure is also called `ndarray`, which is short for *n*-dimensional array.\n",
        "\n",
        "In addition to being mostly implemented in C and using Python as a \"glue language,\" the main reason why NumPy is so efficient for numerical computations is that NumPy arrays use contiguous blocks of memory that can be efficiently cached by the CPU. In contrast, Python lists are arrays of pointers to objects in random locations in memory, which cannot be easily cached and come with a more expensive memory-look-up. However, the computational efficiency and low-memory footprint come at a cost: NumPy arrays have a fixed size and are homogeneous, which means that all elements must have the same type. Homogenous `ndarray` objects have the advantage that NumPy can carry out operations using efficient C code and avoid expensive type checks and other overheads of the Python API. While adding and removing elements from the end of a Python list is very efficient, altering the size of a NumPy array is very expensive since it requires to create a new array and carry over the contents of the old array that we want to expand or shrink.\n",
        "\n",
        "Besides being more efficient for numerical computations than native Python code, NumPy can also be more elegant and readable due to vectorized operations and broadcasting, which are features that we will explore in this article."
      ]
    },
    {
      "cell_type": "markdown",
      "metadata": {
        "id": "7McAoDVNIGvb"
      },
      "source": [
        "Today, NumPy forms the basis of the scientific Python computing ecosystem."
      ]
    },
    {
      "cell_type": "markdown",
      "metadata": {
        "id": "0CvwqZ0EIGvb"
      },
      "source": [
        "### Motivation: NumPy is fast!"
      ]
    },
    {
      "cell_type": "markdown",
      "metadata": {
        "id": "2fOttqB7IGvc"
      },
      "source": [
        "Here is some motivation before we discuss further details, highlighting why learning about and using NumPy is useful. We take a look at a speed comparison with regular Python code. In particular, we are computing a vector dot product in Python (using lists) and compare it with  NumPy's dot-product function. Mathematically, the dot product between two vectors $\\mathbf{x}$ and $\\mathbf{w}$ can be written as follows:"
      ]
    },
    {
      "cell_type": "markdown",
      "metadata": {
        "id": "ym2GUqBDIGvc"
      },
      "source": [
        "$$\n",
        "z = \\sum_i x_i w_i = x_1 \\times w_1 + x_2 \\times w_2 + ... + x_n \\times w_n = \\mathbf{x}^\\top \\mathbf{w}\n",
        "$$"
      ]
    },
    {
      "cell_type": "markdown",
      "metadata": {
        "id": "StYcyKNzIGvc"
      },
      "source": [
        "First, the Python implementation using a for-loop:"
      ]
    },
    {
      "cell_type": "code",
      "execution_count": null,
      "metadata": {
        "colab": {
          "base_uri": "https://localhost:8080/"
        },
        "id": "cExA8G2fIGvc",
        "outputId": "a9bc1b82-d11c-47d3-cbcb-a88bb4316223"
      },
      "outputs": [
        {
          "output_type": "stream",
          "name": "stdout",
          "text": [
            "32.0\n"
          ]
        }
      ],
      "source": [
        "def python_forloop_list_approach(x, w):\n",
        "    z = 0.\n",
        "    for i in range(len(x)):\n",
        "        z += x[i] * w[i]\n",
        "    return z\n",
        "\n",
        "\n",
        "a = [1., 2., 3.]\n",
        "b = [4., 5., 6.]\n",
        "\n",
        "print(python_forloop_list_approach(a, b))"
      ]
    },
    {
      "cell_type": "markdown",
      "metadata": {
        "id": "uqpV7CUZIGvc"
      },
      "source": [
        "Let us compute the runtime for two larger (1000-element) vectors using IPython's `%timeit` magic function:"
      ]
    },
    {
      "cell_type": "code",
      "execution_count": null,
      "metadata": {
        "colab": {
          "base_uri": "https://localhost:8080/"
        },
        "id": "gM4_Hp4MIGvc",
        "outputId": "10a200ee-adef-4759-8eec-cea2555c9171"
      },
      "outputs": [
        {
          "output_type": "stream",
          "name": "stdout",
          "text": [
            "141 µs ± 30.4 µs per loop (mean ± std. dev. of 7 runs, 10000 loops each)\n"
          ]
        }
      ],
      "source": [
        "large_a = list(range(1000))\n",
        "large_b = list(range(1000))\n",
        "\n",
        "\n",
        "%timeit python_forloop_list_approach(large_a, large_b)"
      ]
    },
    {
      "cell_type": "markdown",
      "metadata": {
        "id": "Ci5YhMHHIGvd"
      },
      "source": [
        "Next, we use the `dot` function/method implemented in NumPy to compute the dot product between two vectors and run `%timeit` afterwards:"
      ]
    },
    {
      "cell_type": "code",
      "execution_count": null,
      "metadata": {
        "colab": {
          "base_uri": "https://localhost:8080/"
        },
        "id": "6BJ4IleyIGvd",
        "outputId": "2edcbc43-3138-419d-d132-b0b47eab61a0"
      },
      "outputs": [
        {
          "output_type": "stream",
          "name": "stdout",
          "text": [
            "32.0\n"
          ]
        }
      ],
      "source": [
        "import numpy as np\n",
        "\n",
        "\n",
        "def numpy_dotproduct_approach(x, w):\n",
        "    # same as np.dot(x, w)\n",
        "    # and same as x @ w\n",
        "    return x.dot(w)\n",
        "\n",
        "\n",
        "a = np.array([1., 2., 3.])\n",
        "b = np.array([4., 5., 6.])\n",
        "\n",
        "print(numpy_dotproduct_approach(a, b))"
      ]
    },
    {
      "cell_type": "code",
      "execution_count": null,
      "metadata": {
        "colab": {
          "base_uri": "https://localhost:8080/"
        },
        "id": "8ymdgyV8IGvd",
        "outputId": "fdb76f11-8d7e-49b5-e5ef-cb309c4aa649"
      },
      "outputs": [
        {
          "output_type": "stream",
          "name": "stdout",
          "text": [
            "2.13 µs ± 343 ns per loop (mean ± std. dev. of 7 runs, 1000000 loops each)\n"
          ]
        }
      ],
      "source": [
        "large_a = np.arange(1000)\n",
        "large_b = np.arange(1000)\n",
        "\n",
        "%timeit numpy_dotproduct_approach(large_a, large_b)"
      ]
    },
    {
      "cell_type": "markdown",
      "metadata": {
        "id": "Rg_LorrGIGvd"
      },
      "source": [
        "As we can see, replacing the for-loop with NumPy's dot function makes the computation of the vector dot product approximately 100 times faster."
      ]
    },
    {
      "cell_type": "markdown",
      "metadata": {
        "id": "Otp5DE-pIGvd"
      },
      "source": [
        "### N-dimensional Arrays"
      ]
    },
    {
      "cell_type": "markdown",
      "metadata": {
        "id": "ng9UzCTlIGvd"
      },
      "source": [
        "NumPy is built around [`ndarrays`](https://docs.scipy.org/doc/numpy/reference/generated/numpy.ndarray.html) objects, which are high-performance multi-dimensional array data structures. Intuitively, we can think of a one-dimensional NumPy array as a data structure to represent a vector of elements -- you may think of it as a fixed-size Python list where all elements share the same type. Similarly, we can think of a two-dimensional array as a data structure to represent a matrix or a Python list of lists. While NumPy arrays can have up to 32 dimensions if it was compiled without alterations to the source code, we will focus on lower-dimensional arrays for the purpose of illustration in this introduction.\n",
        "\n",
        "Now, let us get started with NumPy by calling the `array` function to create a two-dimensional NumPy array, consisting of two rows and three columns, from a list of lists:"
      ]
    },
    {
      "cell_type": "code",
      "execution_count": null,
      "metadata": {
        "id": "hYPOwUd3IGve",
        "outputId": "9d22daf4-6f2e-47a2-ce6c-5adf8af86226",
        "colab": {
          "base_uri": "https://localhost:8080/"
        }
      },
      "outputs": [
        {
          "output_type": "execute_result",
          "data": {
            "text/plain": [
              "array([1., 2., 3.])"
            ]
          },
          "metadata": {},
          "execution_count": 5
        }
      ],
      "source": [
        "a = [1., 2., 3.]\n",
        "np.array(a)"
      ]
    },
    {
      "cell_type": "code",
      "execution_count": null,
      "metadata": {
        "id": "AxyLF7EJIGve",
        "outputId": "ea4e585d-aa74-480d-d716-aa45ade3cddf",
        "colab": {
          "base_uri": "https://localhost:8080/"
        }
      },
      "outputs": [
        {
          "output_type": "execute_result",
          "data": {
            "text/plain": [
              "array([[1, 2, 3],\n",
              "       [4, 5, 6]])"
            ]
          },
          "metadata": {},
          "execution_count": 6
        }
      ],
      "source": [
        "lst = [[1, 2, 3],\n",
        "       [4, 5, 6]]\n",
        "ary2d = np.array(lst)\n",
        "ary2d\n",
        "\n",
        "# rows x columns"
      ]
    },
    {
      "cell_type": "markdown",
      "source": [
        "<img src=\"https://drive.google.com/uc?export=view&id=1_6xjwY6fmuVi_p-qO6fxjzZv9bL2NopA\" alt=\"Drawing\" height=250 />"
      ],
      "metadata": {
        "id": "O-e64xU1PEOC"
      }
    },
    {
      "cell_type": "markdown",
      "metadata": {
        "id": "YecBcmgWIGvg"
      },
      "source": [
        "By default, NumPy infers the type of the array upon construction. Since we passed Python integers to the array, the `ndarray` object `ary2d` should be of type `int64` on a 64-bit machine, which we can confirm by accessing the `dtype` attribute:"
      ]
    },
    {
      "cell_type": "code",
      "execution_count": null,
      "metadata": {
        "id": "d7s05AQ2IGvg",
        "outputId": "cc3285a0-c349-4974-94a5-3de8326bdf80",
        "colab": {
          "base_uri": "https://localhost:8080/"
        }
      },
      "outputs": [
        {
          "output_type": "execute_result",
          "data": {
            "text/plain": [
              "dtype('int64')"
            ]
          },
          "metadata": {},
          "execution_count": 7
        }
      ],
      "source": [
        "ary2d.dtype"
      ]
    },
    {
      "cell_type": "markdown",
      "metadata": {
        "id": "WXodIcL_IGvg"
      },
      "source": [
        "If we want to construct NumPy arrays of different types, we can pass an argument to the `dtype` parameter of the `array` function, for example `np.int32`, to create 32-bit arrays. For a full list of supported data types, please refer to the official [NumPy documentation](https://docs.scipy.org/doc/numpy/user/basics.types.html). Once an array has been constructed, we can downcast or recast its type via the `astype` method as shown in the following examples:"
      ]
    },
    {
      "cell_type": "code",
      "execution_count": null,
      "metadata": {
        "id": "26B-YtnNIGvg",
        "outputId": "44eb7964-56d3-4dca-d930-08a2fd98ed46",
        "colab": {
          "base_uri": "https://localhost:8080/"
        }
      },
      "outputs": [
        {
          "output_type": "execute_result",
          "data": {
            "text/plain": [
              "array([[1, 2, 3],\n",
              "       [4, 5, 6]], dtype=int32)"
            ]
          },
          "metadata": {},
          "execution_count": 8
        }
      ],
      "source": [
        "int32_ary = ary2d.astype(np.int32)\n",
        "int32_ary"
      ]
    },
    {
      "cell_type": "code",
      "execution_count": null,
      "metadata": {
        "id": "AAELok80IGvh",
        "outputId": "c7a95afe-63b3-4426-c5e1-f5fd91706b76",
        "colab": {
          "base_uri": "https://localhost:8080/"
        }
      },
      "outputs": [
        {
          "output_type": "execute_result",
          "data": {
            "text/plain": [
              "array([[1., 2., 3.],\n",
              "       [4., 5., 6.]], dtype=float32)"
            ]
          },
          "metadata": {},
          "execution_count": 9
        }
      ],
      "source": [
        "float32_ary = ary2d.astype(np.float32)\n",
        "float32_ary"
      ]
    },
    {
      "cell_type": "code",
      "execution_count": null,
      "metadata": {
        "id": "6kNJA8osIGvh",
        "outputId": "e5d30d0e-fbf1-45bc-c8c4-b9bb8b14f599",
        "colab": {
          "base_uri": "https://localhost:8080/"
        }
      },
      "outputs": [
        {
          "output_type": "execute_result",
          "data": {
            "text/plain": [
              "dtype('float32')"
            ]
          },
          "metadata": {},
          "execution_count": 10
        }
      ],
      "source": [
        "float32_ary.dtype"
      ]
    },
    {
      "cell_type": "markdown",
      "metadata": {
        "id": "2XAaoL9BIGvh"
      },
      "source": [
        "The code snippet above returned `8`, which means that each element in the array (remember that `ndarray`s are homogeneous) takes up 8 bytes in memory. This result makes sense since the array `ary2d` has type `int64` (64-bit integer), which we determined earlier, and 8 bits equals 1 byte. (Note that `'int64'` is just a shorthand for `np.int64`.)\n",
        "\n",
        "To return the number of elements in an array, we can use the `size` attribute, as shown below:"
      ]
    },
    {
      "cell_type": "markdown",
      "metadata": {
        "id": "npWI72ZdIGvh"
      },
      "source": [
        "And the number of dimensions of our array (Intuitively, you may think of *dimensions* as the *rank* of a tensor) can be obtained via the `ndim` attribute:"
      ]
    },
    {
      "cell_type": "code",
      "execution_count": null,
      "metadata": {
        "id": "YM-IYW_5IGvh",
        "outputId": "186eed27-bd72-4ccb-967a-b489f5599664",
        "colab": {
          "base_uri": "https://localhost:8080/"
        }
      },
      "outputs": [
        {
          "output_type": "execute_result",
          "data": {
            "text/plain": [
              "array([[1, 2, 3],\n",
              "       [4, 5, 6]])"
            ]
          },
          "metadata": {},
          "execution_count": 11
        }
      ],
      "source": [
        "ary2d"
      ]
    },
    {
      "cell_type": "code",
      "execution_count": null,
      "metadata": {
        "id": "k6D66FKFIGvh",
        "outputId": "504dda47-187b-4c64-90bc-e7f2a7c85901",
        "colab": {
          "base_uri": "https://localhost:8080/"
        }
      },
      "outputs": [
        {
          "output_type": "execute_result",
          "data": {
            "text/plain": [
              "2"
            ]
          },
          "metadata": {},
          "execution_count": 12
        }
      ],
      "source": [
        "ary2d.ndim"
      ]
    },
    {
      "cell_type": "markdown",
      "metadata": {
        "id": "CXF_O-iTIGvi"
      },
      "source": [
        "If we are interested in the number of elements along each array dimension (in the context of NumPy arrays, we may also refer to them as *axes*), we can access the `shape` attribute as shown below:"
      ]
    },
    {
      "cell_type": "code",
      "execution_count": null,
      "metadata": {
        "id": "rrB_haU3IGvi",
        "outputId": "c32401c3-2578-480e-bda4-3f932c9796e4",
        "colab": {
          "base_uri": "https://localhost:8080/"
        }
      },
      "outputs": [
        {
          "output_type": "execute_result",
          "data": {
            "text/plain": [
              "2"
            ]
          },
          "metadata": {},
          "execution_count": 17
        }
      ],
      "source": [
        "len(ary2d.shape)"
      ]
    },
    {
      "cell_type": "code",
      "source": [
        "ary2d.shape"
      ],
      "metadata": {
        "colab": {
          "base_uri": "https://localhost:8080/"
        },
        "id": "eBHbZrzyVErs",
        "outputId": "83b4d1f6-f5f5-497b-f036-8419207e503f"
      },
      "execution_count": null,
      "outputs": [
        {
          "output_type": "execute_result",
          "data": {
            "text/plain": [
              "(2, 3)"
            ]
          },
          "metadata": {},
          "execution_count": 16
        }
      ]
    },
    {
      "cell_type": "markdown",
      "metadata": {
        "id": "480QXWaUIGvi"
      },
      "source": [
        "The `shape` is always a tuple; in the code example above, the two-dimensional `ary` object has two *rows* and *three* columns, `(2, 3)`, if we think of it as a matrix representation.\n",
        "\n",
        "Conversely, the `shape` (an object of type `tuple`) of a one-dimensional array only contains a single value:"
      ]
    },
    {
      "cell_type": "code",
      "execution_count": null,
      "metadata": {
        "id": "Ij00y1qeIGvi",
        "outputId": "ce97c821-c677-4f07-b3bf-be3a4d1814f1",
        "colab": {
          "base_uri": "https://localhost:8080/"
        }
      },
      "outputs": [
        {
          "output_type": "execute_result",
          "data": {
            "text/plain": [
              "(3,)"
            ]
          },
          "metadata": {},
          "execution_count": 14
        }
      ],
      "source": [
        "np.array([1., 2., 3.]).shape"
      ]
    },
    {
      "cell_type": "markdown",
      "metadata": {
        "id": "6323PqVKIGvm"
      },
      "source": [
        "---\n",
        "\n",
        "## 2: NumPy Array Construction and Indexing\n",
        "\n",
        "---"
      ]
    },
    {
      "cell_type": "markdown",
      "metadata": {
        "id": "LnPck4AdIGvm"
      },
      "source": [
        "### Array Construction Routines"
      ]
    },
    {
      "cell_type": "markdown",
      "metadata": {
        "id": "xYRbMJ2UIGvm"
      },
      "source": [
        "This section provides a non-comprehensive list of array construction functions. Simple yet useful functions exist to construct arrays containing ones or zeros:"
      ]
    },
    {
      "cell_type": "code",
      "execution_count": null,
      "metadata": {
        "id": "2dO2qC8NIGvm",
        "outputId": "c5556638-9788-47f5-d2a8-dd6b6a457e37",
        "colab": {
          "base_uri": "https://localhost:8080/"
        }
      },
      "outputs": [
        {
          "output_type": "execute_result",
          "data": {
            "text/plain": [
              "array([[1, 1, 1, 1],\n",
              "       [1, 1, 1, 1],\n",
              "       [1, 1, 1, 1]])"
            ]
          },
          "metadata": {},
          "execution_count": 19
        }
      ],
      "source": [
        "np.ones((3, 4), dtype=int)"
      ]
    },
    {
      "cell_type": "code",
      "execution_count": null,
      "metadata": {
        "id": "EK0QCuxLIGvm",
        "outputId": "4807189c-7435-4aeb-efbc-9cd164b565c6",
        "colab": {
          "base_uri": "https://localhost:8080/"
        }
      },
      "outputs": [
        {
          "output_type": "execute_result",
          "data": {
            "text/plain": [
              "array([[0., 0., 0.],\n",
              "       [0., 0., 0.],\n",
              "       [0., 0., 0.]])"
            ]
          },
          "metadata": {},
          "execution_count": 20
        }
      ],
      "source": [
        "np.zeros((3, 3))"
      ]
    },
    {
      "cell_type": "markdown",
      "metadata": {
        "id": "35_dED_6IGvm"
      },
      "source": [
        "We can use these functions to create arrays with arbitrary values, e.g., we can create an array containing the values 99 as follows:"
      ]
    },
    {
      "cell_type": "code",
      "execution_count": null,
      "metadata": {
        "id": "hKv90V4gIGvn",
        "outputId": "06b51330-fb81-4042-b78c-ce01f20e83f2",
        "colab": {
          "base_uri": "https://localhost:8080/"
        }
      },
      "outputs": [
        {
          "output_type": "execute_result",
          "data": {
            "text/plain": [
              "array([[99., 99., 99.],\n",
              "       [99., 99., 99.],\n",
              "       [99., 99., 99.]])"
            ]
          },
          "metadata": {},
          "execution_count": 21
        }
      ],
      "source": [
        "np.zeros((3, 3)) + 99"
      ]
    },
    {
      "cell_type": "markdown",
      "metadata": {
        "id": "VuAajDwpIGvn"
      },
      "source": [
        "Creating arrays of ones or zeros can also be useful as placeholder arrays, in cases where we do not want to use the initial values for computations but want to fill it with other values right away. If we do not need the initial values (for instance, `'0.'` or `'1.'`), there is also `numpy.empty`, which follows the same syntax as `numpy.ones` and `np.zeros`. However, instead of filling the array with a particular value, the `empty` function creates the array with non-sensical values from memory. We can think of `zeros` as a function that creates the array via `empty` and then sets all its values to `0.` -- in practice, a difference in speed is not noticeable, though.  "
      ]
    },
    {
      "cell_type": "markdown",
      "metadata": {
        "id": "Y35Xj2YMIGvn"
      },
      "source": [
        "NumPy also comes with functions to create identity matrices and diagonal matrices as `ndarrays` that can be useful in the context of linear algebra -- a topic that we will explore later in this article."
      ]
    },
    {
      "cell_type": "code",
      "execution_count": null,
      "metadata": {
        "id": "3mmatYI0IGvn",
        "outputId": "e93214ff-c0e2-40e2-c301-5cbf4e34ac64",
        "colab": {
          "base_uri": "https://localhost:8080/"
        }
      },
      "outputs": [
        {
          "output_type": "execute_result",
          "data": {
            "text/plain": [
              "array([[1., 0., 0.],\n",
              "       [0., 1., 0.],\n",
              "       [0., 0., 1.]])"
            ]
          },
          "metadata": {},
          "execution_count": 22
        }
      ],
      "source": [
        "np.eye(3)"
      ]
    },
    {
      "cell_type": "code",
      "execution_count": null,
      "metadata": {
        "id": "eURuKRdKIGvn",
        "outputId": "50e033f8-5d14-47cb-e200-bb907d73afc9",
        "colab": {
          "base_uri": "https://localhost:8080/"
        }
      },
      "outputs": [
        {
          "output_type": "execute_result",
          "data": {
            "text/plain": [
              "array([[1, 0, 0],\n",
              "       [0, 2, 0],\n",
              "       [0, 0, 3]])"
            ]
          },
          "metadata": {},
          "execution_count": 23
        }
      ],
      "source": [
        "np.diag((1, 2, 3))"
      ]
    },
    {
      "cell_type": "markdown",
      "metadata": {
        "id": "EaMVGj_FIGvn"
      },
      "source": [
        "Lastly, I want to mention two very useful functions for creating sequences of numbers within a specified range, namely, `arange` and `linspace`. NumPy's `arange` function follows the same syntax as Python's `range` objects: If two arguments are provided, the first argument represents the start value and the second value defines the stop value of a half-open interval:"
      ]
    },
    {
      "cell_type": "code",
      "execution_count": null,
      "metadata": {
        "id": "YUyPVyvwIGvo",
        "outputId": "a2c7caad-cbee-4ed0-caef-714391f2d26a",
        "colab": {
          "base_uri": "https://localhost:8080/"
        }
      },
      "outputs": [
        {
          "output_type": "execute_result",
          "data": {
            "text/plain": [
              "array([4, 5, 6, 7, 8, 9])"
            ]
          },
          "metadata": {},
          "execution_count": 24
        }
      ],
      "source": [
        "np.arange(4, 10)"
      ]
    },
    {
      "cell_type": "markdown",
      "metadata": {
        "id": "K3nS2gH7IGvo"
      },
      "source": [
        "Notice that `arange` also performs type inference similar to the `array` function. If we only provide a single function argument, the range object treats this number as the endpoint of the interval and starts at 0:"
      ]
    },
    {
      "cell_type": "code",
      "execution_count": null,
      "metadata": {
        "id": "Xd-hKeR9IGvo",
        "outputId": "6c50ce98-5980-4207-d504-a5e3c1fced3b",
        "colab": {
          "base_uri": "https://localhost:8080/"
        }
      },
      "outputs": [
        {
          "output_type": "execute_result",
          "data": {
            "text/plain": [
              "array([0, 1, 2, 3, 4])"
            ]
          },
          "metadata": {},
          "execution_count": 25
        }
      ],
      "source": [
        "np.arange(5)"
      ]
    },
    {
      "cell_type": "markdown",
      "metadata": {
        "id": "mXqhIVl4IGvo"
      },
      "source": [
        "Similar to Python's `range`, a third argument can be provided to define the *step* (the default step size is 1). For example, we can obtain an array of all uneven values between one and ten as follows:"
      ]
    },
    {
      "cell_type": "code",
      "execution_count": null,
      "metadata": {
        "id": "eMdjKH2-IGvo",
        "outputId": "8aaeffa7-026d-44cd-9019-e75c131a0925",
        "colab": {
          "base_uri": "https://localhost:8080/"
        }
      },
      "outputs": [
        {
          "output_type": "execute_result",
          "data": {
            "text/plain": [
              "array([ 1. ,  1.1,  1.2,  1.3,  1.4,  1.5,  1.6,  1.7,  1.8,  1.9,  2. ,\n",
              "        2.1,  2.2,  2.3,  2.4,  2.5,  2.6,  2.7,  2.8,  2.9,  3. ,  3.1,\n",
              "        3.2,  3.3,  3.4,  3.5,  3.6,  3.7,  3.8,  3.9,  4. ,  4.1,  4.2,\n",
              "        4.3,  4.4,  4.5,  4.6,  4.7,  4.8,  4.9,  5. ,  5.1,  5.2,  5.3,\n",
              "        5.4,  5.5,  5.6,  5.7,  5.8,  5.9,  6. ,  6.1,  6.2,  6.3,  6.4,\n",
              "        6.5,  6.6,  6.7,  6.8,  6.9,  7. ,  7.1,  7.2,  7.3,  7.4,  7.5,\n",
              "        7.6,  7.7,  7.8,  7.9,  8. ,  8.1,  8.2,  8.3,  8.4,  8.5,  8.6,\n",
              "        8.7,  8.8,  8.9,  9. ,  9.1,  9.2,  9.3,  9.4,  9.5,  9.6,  9.7,\n",
              "        9.8,  9.9, 10. , 10.1, 10.2, 10.3, 10.4, 10.5, 10.6, 10.7, 10.8,\n",
              "       10.9])"
            ]
          },
          "metadata": {},
          "execution_count": 26
        }
      ],
      "source": [
        "np.arange(1., 11., 0.1)"
      ]
    },
    {
      "cell_type": "markdown",
      "metadata": {
        "id": "h54NDmtDIGvp"
      },
      "source": [
        "The `linspace` function is especially useful if we want to create a particular number of evenly spaced values in a specified half-open interval:"
      ]
    },
    {
      "cell_type": "code",
      "execution_count": null,
      "metadata": {
        "id": "VaftZ-fzIGvp",
        "outputId": "20b00286-e49a-4eb9-8301-969788ae6146",
        "colab": {
          "base_uri": "https://localhost:8080/"
        }
      },
      "outputs": [
        {
          "output_type": "execute_result",
          "data": {
            "text/plain": [
              "array([ 6.,  7.,  8.,  9., 10., 11., 12., 13., 14., 15.])"
            ]
          },
          "metadata": {},
          "execution_count": 27
        }
      ],
      "source": [
        "np.linspace(6., 15., num=10)"
      ]
    },
    {
      "cell_type": "markdown",
      "metadata": {
        "id": "jOM3hG1RIGvp"
      },
      "source": [
        "### Array Indexing"
      ]
    },
    {
      "cell_type": "markdown",
      "metadata": {
        "id": "g-ExbWIxIGvp"
      },
      "source": [
        "In this section, we will go over the basics of retrieving NumPy array elements via different indexing methods. Simple NumPy indexing and slicing works similar to Python lists, which we will demonstrate in the following code snippet, where we retrieve the first element of a one-dimensional array:"
      ]
    },
    {
      "cell_type": "code",
      "execution_count": null,
      "metadata": {
        "id": "haSp0PhKIGvq",
        "outputId": "330f68da-503d-458f-e2be-640f0effd65e",
        "colab": {
          "base_uri": "https://localhost:8080/"
        }
      },
      "outputs": [
        {
          "output_type": "execute_result",
          "data": {
            "text/plain": [
              "1"
            ]
          },
          "metadata": {},
          "execution_count": 28
        }
      ],
      "source": [
        "ary = np.array([1, 2, 3])\n",
        "ary[0]"
      ]
    },
    {
      "cell_type": "markdown",
      "metadata": {
        "id": "oz3jL7xqIGvq"
      },
      "source": [
        "Also, the same Python semantics apply to slicing operations. The following example shows how to fetch the first two elements in `ary`:"
      ]
    },
    {
      "cell_type": "code",
      "execution_count": null,
      "metadata": {
        "id": "nPrCALMCIGvq",
        "outputId": "74c8d6d4-ec69-47bf-88c9-23e05de90397",
        "colab": {
          "base_uri": "https://localhost:8080/"
        }
      },
      "outputs": [
        {
          "output_type": "execute_result",
          "data": {
            "text/plain": [
              "array([1, 2, 3])"
            ]
          },
          "metadata": {},
          "execution_count": 29
        }
      ],
      "source": [
        "ary[0:3]"
      ]
    },
    {
      "cell_type": "markdown",
      "metadata": {
        "id": "b4bH2NXoIGvq"
      },
      "source": [
        "If we work with arrays that have more than one dimension or axis, we separate our indexing or slicing operations by commas as shown in the series of examples below:"
      ]
    },
    {
      "cell_type": "code",
      "execution_count": null,
      "metadata": {
        "id": "o-3-seE-IGvq",
        "outputId": "a7b61d75-1c3e-4025-acd2-644f19beade4",
        "colab": {
          "base_uri": "https://localhost:8080/"
        }
      },
      "outputs": [
        {
          "output_type": "execute_result",
          "data": {
            "text/plain": [
              "2"
            ]
          },
          "metadata": {},
          "execution_count": 30
        }
      ],
      "source": [
        "ary = np.array([[1, 2, 3],\n",
        "                [4, 5, 6]])\n",
        "\n",
        "ary[0, -2] # first row, second from last element"
      ]
    },
    {
      "cell_type": "code",
      "execution_count": null,
      "metadata": {
        "id": "LkOOoHYBIGvq",
        "outputId": "391c4494-b046-4077-bd59-23b85b62d86e",
        "colab": {
          "base_uri": "https://localhost:8080/"
        }
      },
      "outputs": [
        {
          "output_type": "execute_result",
          "data": {
            "text/plain": [
              "6"
            ]
          },
          "metadata": {},
          "execution_count": 31
        }
      ],
      "source": [
        "ary[-1, -1] # lower right. -1은 가장 마지막을 의미한다."
      ]
    },
    {
      "cell_type": "code",
      "execution_count": null,
      "metadata": {
        "id": "bq9tHOmVIGvr",
        "outputId": "6803cff4-9bba-4c22-e5cb-9bd71fffdc14",
        "colab": {
          "base_uri": "https://localhost:8080/"
        }
      },
      "outputs": [
        {
          "output_type": "execute_result",
          "data": {
            "text/plain": [
              "5"
            ]
          },
          "metadata": {},
          "execution_count": 32
        }
      ],
      "source": [
        "ary[1, 1] # first row, second column"
      ]
    },
    {
      "cell_type": "markdown",
      "metadata": {
        "id": "2oJaJcYPIGvr"
      },
      "source": [
        "<img src=\"https://drive.google.com/uc?export=view&id=1fh-H3I8EMbate18Zz8--27dn_NzYgEih\" alt=\"Drawing\" height=250 />"
      ]
    },
    {
      "cell_type": "code",
      "execution_count": null,
      "metadata": {
        "id": "EFOClbxeIGvr",
        "outputId": "91d9458f-85b6-473b-e61d-4d059db63a64",
        "colab": {
          "base_uri": "https://localhost:8080/"
        }
      },
      "outputs": [
        {
          "output_type": "execute_result",
          "data": {
            "text/plain": [
              "array([1, 4])"
            ]
          },
          "metadata": {},
          "execution_count": 33
        }
      ],
      "source": [
        "ary[:, 0] # entire first column"
      ]
    },
    {
      "cell_type": "code",
      "execution_count": null,
      "metadata": {
        "id": "XaIj4eDUIGvr",
        "outputId": "a5e48c46-1b5e-4a32-858d-184d8e53d0b6",
        "colab": {
          "base_uri": "https://localhost:8080/"
        }
      },
      "outputs": [
        {
          "output_type": "execute_result",
          "data": {
            "text/plain": [
              "array([[1, 2],\n",
              "       [4, 5]])"
            ]
          },
          "metadata": {},
          "execution_count": 34
        }
      ],
      "source": [
        "ary[:, :2] # first two columns"
      ]
    },
    {
      "cell_type": "markdown",
      "source": [
        "**ppp Exercise**\n",
        "\n",
        "You are given an array as follows"
      ],
      "metadata": {
        "id": "btEFCMoXigbo"
      }
    },
    {
      "cell_type": "code",
      "source": [
        "a = np.linspace(1,48,48).reshape(3,4,4)"
      ],
      "metadata": {
        "id": "784Ysk2Aip86"
      },
      "execution_count": null,
      "outputs": []
    },
    {
      "cell_type": "code",
      "source": [
        "a"
      ],
      "metadata": {
        "colab": {
          "base_uri": "https://localhost:8080/"
        },
        "id": "Zsm2RpTfX_zB",
        "outputId": "eadbde48-f30b-44f4-b620-3464630e2926"
      },
      "execution_count": null,
      "outputs": [
        {
          "output_type": "execute_result",
          "data": {
            "text/plain": [
              "array([[[ 1.,  2.,  3.,  4.],\n",
              "        [ 5.,  6.,  7.,  8.],\n",
              "        [ 9., 10., 11., 12.],\n",
              "        [13., 14., 15., 16.]],\n",
              "\n",
              "       [[17., 18., 19., 20.],\n",
              "        [21., 22., 23., 24.],\n",
              "        [25., 26., 27., 28.],\n",
              "        [29., 30., 31., 32.]],\n",
              "\n",
              "       [[33., 34., 35., 36.],\n",
              "        [37., 38., 39., 40.],\n",
              "        [41., 42., 43., 44.],\n",
              "        [45., 46., 47., 48.]]])"
            ]
          },
          "metadata": {},
          "execution_count": 36
        }
      ]
    },
    {
      "cell_type": "code",
      "source": [
        "a[1][0][3]"
      ],
      "metadata": {
        "colab": {
          "base_uri": "https://localhost:8080/"
        },
        "id": "Id3_7DliYQVJ",
        "outputId": "63d14742-4e8a-4eda-e1cd-d9f3762df821"
      },
      "execution_count": null,
      "outputs": [
        {
          "output_type": "execute_result",
          "data": {
            "text/plain": [
              "20.0"
            ]
          },
          "metadata": {},
          "execution_count": 37
        }
      ]
    },
    {
      "cell_type": "code",
      "source": [
        "a[0][2,:]"
      ],
      "metadata": {
        "colab": {
          "base_uri": "https://localhost:8080/"
        },
        "id": "DMiyqt8lY8MA",
        "outputId": "b9140c2e-d331-4441-96a8-a4c0fa2f4982"
      },
      "execution_count": null,
      "outputs": [
        {
          "output_type": "execute_result",
          "data": {
            "text/plain": [
              "array([ 9., 10., 11., 12.])"
            ]
          },
          "metadata": {},
          "execution_count": 62
        }
      ]
    },
    {
      "cell_type": "code",
      "source": [
        "a[2]"
      ],
      "metadata": {
        "colab": {
          "base_uri": "https://localhost:8080/"
        },
        "id": "XRmR897cZTRr",
        "outputId": "c19911ee-7456-4f41-c4db-3f57f4c2ee5d"
      },
      "execution_count": null,
      "outputs": [
        {
          "output_type": "execute_result",
          "data": {
            "text/plain": [
              "array([[33., 34., 35., 36.],\n",
              "       [37., 38., 39., 40.],\n",
              "       [41., 42., 43., 44.],\n",
              "       [45., 46., 47., 48.]])"
            ]
          },
          "metadata": {},
          "execution_count": 43
        }
      ]
    },
    {
      "cell_type": "code",
      "source": [
        "a[:, 1:2, :2]"
      ],
      "metadata": {
        "colab": {
          "base_uri": "https://localhost:8080/"
        },
        "id": "2eztL6F7ZW0y",
        "outputId": "a82b06ea-cc6a-47cb-a514-8d8ff66875c2"
      },
      "execution_count": null,
      "outputs": [
        {
          "output_type": "execute_result",
          "data": {
            "text/plain": [
              "array([[[ 5.,  6.]],\n",
              "\n",
              "       [[21., 22.]],\n",
              "\n",
              "       [[37., 38.]]])"
            ]
          },
          "metadata": {},
          "execution_count": 45
        }
      ]
    },
    {
      "cell_type": "code",
      "source": [
        "a[2][:,:1:-1] # 1:-1 방식으로 뒤집을 수 있음"
      ],
      "metadata": {
        "colab": {
          "base_uri": "https://localhost:8080/"
        },
        "id": "fYM7AHryZ67g",
        "outputId": "0ddf5a13-42b1-4b68-8df8-a11115fedd9d"
      },
      "execution_count": null,
      "outputs": [
        {
          "output_type": "execute_result",
          "data": {
            "text/plain": [
              "array([[36., 35.],\n",
              "       [40., 39.],\n",
              "       [44., 43.],\n",
              "       [48., 47.]])"
            ]
          },
          "metadata": {},
          "execution_count": 53
        }
      ]
    },
    {
      "cell_type": "code",
      "source": [
        "a[:, ::-1, 0] # ::방식으로 순서를 뒤집을 수 있다."
      ],
      "metadata": {
        "colab": {
          "base_uri": "https://localhost:8080/"
        },
        "id": "9EEagQEVa8k-",
        "outputId": "b25c42e7-2734-407d-d068-6a144ce6d50b"
      },
      "execution_count": null,
      "outputs": [
        {
          "output_type": "execute_result",
          "data": {
            "text/plain": [
              "array([[13.,  9.,  5.,  1.],\n",
              "       [29., 25., 21., 17.],\n",
              "       [45., 41., 37., 33.]])"
            ]
          },
          "metadata": {},
          "execution_count": 60
        }
      ]
    },
    {
      "cell_type": "markdown",
      "source": [
        "What indexing or sliding do you need to do to get the following results?\n",
        "\n",
        "(1) ```20.0```\n",
        "\n",
        "(2) ```[  9.  10.  11.  12.]```\n",
        "\n",
        "(3)\n",
        "```\n",
        "[[ 33.  34.  35.  36.]\n",
        " [ 37.  38.  39.  40.]\n",
        " [ 41.  42.  43.  44.]\n",
        " [ 45.  46.  47.  48.]]\n",
        "```\n",
        "\n",
        "(4)\n",
        "```\n",
        "[[  5.,   6.],\n",
        " [ 21.,  22.],\n",
        " [ 37.,  38.]]\n",
        "```\n",
        "\n",
        "(5)\n",
        "```\n",
        "[[ 36.  35.]\n",
        " [ 40.  39.]\n",
        " [ 44.  43.]\n",
        " [ 48.  47.]]\n",
        "```\n",
        "\n",
        "(6)\n",
        "```\n",
        "[[ 13.   9.   5.   1.]\n",
        " [ 29.  25.  21.  17.]\n",
        " [ 45.  41.  37.  33.]]\n",
        "```\n"
      ],
      "metadata": {
        "id": "8LUWMQgAi7Fd"
      }
    },
    {
      "cell_type": "markdown",
      "metadata": {
        "id": "Ag9oGCzIIGvr"
      },
      "source": [
        "---\n",
        "\n",
        "## 3: NumPy Array Math and Universal Functions\n",
        "\n",
        "---"
      ]
    },
    {
      "cell_type": "markdown",
      "metadata": {
        "id": "2bOn8mY1IGvs"
      },
      "source": [
        "### Array Math and Universal Functions"
      ]
    },
    {
      "cell_type": "markdown",
      "metadata": {
        "id": "aWdw-rbpIGvs"
      },
      "source": [
        "In the previous sections, you learned how to create NumPy arrays and how to access different elements in an array. It is about time that we introduce one of the core features of NumPy that makes working with `ndarray` so efficient and convenient: vectorization. While we typically use for-loops if we want to perform arithmetic operations on sequence-like objects, NumPy provides vectorized wrappers for performing element-wise operations implicitly via so-called *ufuncs* -- \"*ufuncs*\" is short for universal functions.\n",
        "\n",
        "As of this writing, there are more than 60 ufuncs available in NumPy; ufuncs are implemented in compiled C code and very fast and efficient compared to vanilla Python. In this section, we will take a look at the most commonly used ufuncs, and I recommend you to check out the [official documentation](https://docs.scipy.org/doc/numpy/reference/ufuncs.html#available-ufuncs) for a complete list.\n",
        "\n",
        "To provide an example of a simple ufunc for element-wise addition, consider the following example, where we add a scalar (here: 1) to each element in a nested Python list:"
      ]
    },
    {
      "cell_type": "code",
      "execution_count": null,
      "metadata": {
        "id": "Hw_uGx8vIGvs",
        "outputId": "f59a4571-1069-4fd3-b9dd-66332e6f23b3",
        "colab": {
          "base_uri": "https://localhost:8080/"
        }
      },
      "outputs": [
        {
          "output_type": "execute_result",
          "data": {
            "text/plain": [
              "[[2, 3, 4], [5, 6, 7]]"
            ]
          },
          "metadata": {},
          "execution_count": 64
        }
      ],
      "source": [
        "lst = [[1, 2, 3],\n",
        "       [4, 5, 6]] # 2d array\n",
        "\n",
        "for row_idx, row_val in enumerate(lst):\n",
        "    for col_idx, col_val in enumerate(row_val):\n",
        "        lst[row_idx][col_idx] += 1\n",
        "lst"
      ]
    },
    {
      "cell_type": "markdown",
      "metadata": {
        "id": "iXvXrbpxIGvs"
      },
      "source": [
        "This for-loop approach is very verbose, and we could achieve the same goal more elegantly using list comprehensions:"
      ]
    },
    {
      "cell_type": "code",
      "execution_count": null,
      "metadata": {
        "id": "5wy-dI3LIGvs",
        "outputId": "f05c2fe7-7015-497f-b556-f480b326d1f8",
        "colab": {
          "base_uri": "https://localhost:8080/"
        }
      },
      "outputs": [
        {
          "output_type": "execute_result",
          "data": {
            "text/plain": [
              "[[2, 3, 4], [5, 6, 7]]"
            ]
          },
          "metadata": {},
          "execution_count": 65
        }
      ],
      "source": [
        "lst = [[1, 2, 3], [4, 5, 6]]\n",
        "[[cell + 1 for cell in row] for row in lst]"
      ]
    },
    {
      "cell_type": "markdown",
      "metadata": {
        "id": "VBmL9zoQIGvs"
      },
      "source": [
        "We can accomplish the same using NumPy's ufunc for element-wise scalar addition as shown below:"
      ]
    },
    {
      "cell_type": "code",
      "execution_count": null,
      "metadata": {
        "id": "j801bx0ZIGvt",
        "outputId": "8b565a2f-ee5a-4460-8f09-a493becc5a62",
        "colab": {
          "base_uri": "https://localhost:8080/"
        }
      },
      "outputs": [
        {
          "output_type": "execute_result",
          "data": {
            "text/plain": [
              "array([[2, 3, 4],\n",
              "       [5, 6, 7]])"
            ]
          },
          "metadata": {},
          "execution_count": 66
        }
      ],
      "source": [
        "ary = np.array([[1, 2, 3], [4, 5, 6]])\n",
        "ary = np.add(ary, 1) # binary ufunc\n",
        "ary"
      ]
    },
    {
      "cell_type": "markdown",
      "metadata": {
        "id": "ZAlN9z5BIGvt"
      },
      "source": [
        "The ufuncs for basic arithmetic operations are `add`, `subtract`, `divide`, `multiply`, `power`, and `exp` (exponential). However, NumPy uses operator overloading so that we can use mathematical operators (`+`, `-`, `/`, `*`, and `**`) directly:"
      ]
    },
    {
      "cell_type": "code",
      "execution_count": null,
      "metadata": {
        "id": "k2Mwe_C0IGvt",
        "outputId": "bfa57e25-51e9-41df-aebb-2156fad4c073",
        "colab": {
          "base_uri": "https://localhost:8080/"
        }
      },
      "outputs": [
        {
          "output_type": "execute_result",
          "data": {
            "text/plain": [
              "array([[3, 4, 5],\n",
              "       [6, 7, 8]])"
            ]
          },
          "metadata": {},
          "execution_count": 67
        }
      ],
      "source": [
        "np.add(ary, 1)"
      ]
    },
    {
      "cell_type": "code",
      "execution_count": null,
      "metadata": {
        "id": "UmxW_2jCIGvt",
        "outputId": "a07292b9-cee4-48a2-e4ec-d098c8d08e03",
        "colab": {
          "base_uri": "https://localhost:8080/"
        }
      },
      "outputs": [
        {
          "output_type": "execute_result",
          "data": {
            "text/plain": [
              "array([[3, 4, 5],\n",
              "       [6, 7, 8]])"
            ]
          },
          "metadata": {},
          "execution_count": 68
        }
      ],
      "source": [
        "ary + 1"
      ]
    },
    {
      "cell_type": "code",
      "execution_count": null,
      "metadata": {
        "id": "xFNSFjSKIGvt",
        "outputId": "ec6e4c98-4d16-439b-8800-1bd47597a402",
        "colab": {
          "base_uri": "https://localhost:8080/"
        }
      },
      "outputs": [
        {
          "output_type": "execute_result",
          "data": {
            "text/plain": [
              "array([[ 4,  9, 16],\n",
              "       [25, 36, 49]])"
            ]
          },
          "metadata": {},
          "execution_count": 69
        }
      ],
      "source": [
        "np.power(ary, 2)"
      ]
    },
    {
      "cell_type": "code",
      "execution_count": null,
      "metadata": {
        "id": "CWFQjAdxIGvt",
        "outputId": "2f11a7d0-a4bd-467d-aa6a-0a90158b0bd0",
        "colab": {
          "base_uri": "https://localhost:8080/"
        }
      },
      "outputs": [
        {
          "output_type": "execute_result",
          "data": {
            "text/plain": [
              "array([[ 4,  9, 16],\n",
              "       [25, 36, 49]])"
            ]
          },
          "metadata": {},
          "execution_count": 70
        }
      ],
      "source": [
        "ary**2"
      ]
    },
    {
      "cell_type": "markdown",
      "metadata": {
        "id": "jLUZVD_OIGvu"
      },
      "source": [
        "Above, we have seen examples of *binary* ufuncs, which are ufuncs that take two arguments as an input. In addition, NumPy implements several useful *unary* ufuncs, such as `log` (natural logarithm), `log10` (base-10 logarithm), and `sqrt` (square root):\n",
        "\n"
      ]
    },
    {
      "cell_type": "code",
      "execution_count": null,
      "metadata": {
        "id": "ej5MgKhOIGvu",
        "outputId": "fe9aa14f-cba3-43bf-cd2e-29ff4bc01463",
        "colab": {
          "base_uri": "https://localhost:8080/"
        }
      },
      "outputs": [
        {
          "output_type": "execute_result",
          "data": {
            "text/plain": [
              "array([[1.41421356, 1.73205081, 2.        ],\n",
              "       [2.23606798, 2.44948974, 2.64575131]])"
            ]
          },
          "metadata": {},
          "execution_count": 71
        }
      ],
      "source": [
        "np.sqrt(ary)"
      ]
    },
    {
      "cell_type": "markdown",
      "metadata": {
        "id": "uWo0Ejr9IGvu"
      },
      "source": [
        "Often, we want to compute the sum or product of array element along a given axis. For this purpose, we can use a ufunc's `reduce` operation. By default, `reduce` applies an operation along the first axis (`axis=0`). In the case of a two-dimensional array, we can think of the first axis as the rows of a matrix. Thus, adding up elements along rows yields the column sums of that matrix as shown below:"
      ]
    },
    {
      "cell_type": "code",
      "execution_count": null,
      "metadata": {
        "id": "ZdbV--BaIGvu",
        "outputId": "f24adc01-f308-4471-9a94-af56c93f99ab",
        "colab": {
          "base_uri": "https://localhost:8080/"
        }
      },
      "outputs": [
        {
          "output_type": "execute_result",
          "data": {
            "text/plain": [
              "array([5, 7, 9])"
            ]
          },
          "metadata": {},
          "execution_count": 72
        }
      ],
      "source": [
        "ary = np.array([[1, 2, 3],\n",
        "                [4, 5, 6]]) # rolling over the 1st axis, axis 0\n",
        "\n",
        "np.add.reduce(ary, axis=0)"
      ]
    },
    {
      "cell_type": "markdown",
      "metadata": {
        "id": "LSO5KZHRIGvu"
      },
      "source": [
        "To compute the row sums of the array above, we can specify `axis=1`:"
      ]
    },
    {
      "cell_type": "code",
      "execution_count": null,
      "metadata": {
        "id": "tIH6OOQPIGvu",
        "outputId": "624b2319-eac7-461e-d56f-8c2acd1225a7",
        "colab": {
          "base_uri": "https://localhost:8080/"
        }
      },
      "outputs": [
        {
          "output_type": "execute_result",
          "data": {
            "text/plain": [
              "array([ 6, 15])"
            ]
          },
          "metadata": {},
          "execution_count": 74
        }
      ],
      "source": [
        "np.add.reduce(ary, axis=1) # row sums"
      ]
    },
    {
      "cell_type": "markdown",
      "metadata": {
        "id": "jTlogT5ZIGvv"
      },
      "source": [
        "While it can be more intuitive to use `reduce` as a more general operation, NumPy also provides shorthands for specific operations such as `product` and `sum`. For example, `sum(axis=0)` is equivalent to `add.reduce`:"
      ]
    },
    {
      "cell_type": "code",
      "execution_count": null,
      "metadata": {
        "id": "eRY18TuGIGvv",
        "outputId": "9d22537c-e7da-46b9-cd2e-9519d6755e5a",
        "colab": {
          "base_uri": "https://localhost:8080/"
        }
      },
      "outputs": [
        {
          "output_type": "execute_result",
          "data": {
            "text/plain": [
              "array([5, 7, 9])"
            ]
          },
          "metadata": {},
          "execution_count": 75
        }
      ],
      "source": [
        "ary.sum(axis=0) # column sums"
      ]
    },
    {
      "cell_type": "code",
      "execution_count": null,
      "metadata": {
        "id": "BRwKUUk0IGvv",
        "outputId": "9969ae60-f5ac-4047-cba9-6bd08bba069d",
        "colab": {
          "base_uri": "https://localhost:8080/"
        }
      },
      "outputs": [
        {
          "output_type": "execute_result",
          "data": {
            "text/plain": [
              "array([ 6, 15])"
            ]
          },
          "metadata": {},
          "execution_count": 76
        }
      ],
      "source": [
        "ary.sum(axis=1) # row sums"
      ]
    },
    {
      "cell_type": "markdown",
      "metadata": {
        "id": "2tK--IvOIGvv"
      },
      "source": [
        "<img src=\"https://drive.google.com/uc?export=view&id=1iF0FTozgRB1igkSn_6mSfbJHcHpD8EiS\" alt=\"Drawing\" height=250 />"
      ]
    },
    {
      "cell_type": "markdown",
      "metadata": {
        "id": "FdyBCimwIGvv"
      },
      "source": [
        "As a word of caution, keep in mind that `product` and `sum` both compute the product or sum of the entire array if we do not specify an axis:"
      ]
    },
    {
      "cell_type": "code",
      "execution_count": null,
      "metadata": {
        "id": "Ov5WUVD6IGvv",
        "outputId": "093bc2c0-bcf0-48e3-8504-1063b4a3115f",
        "colab": {
          "base_uri": "https://localhost:8080/"
        }
      },
      "outputs": [
        {
          "output_type": "execute_result",
          "data": {
            "text/plain": [
              "21"
            ]
          },
          "metadata": {},
          "execution_count": 77
        }
      ],
      "source": [
        "ary.sum()"
      ]
    },
    {
      "cell_type": "markdown",
      "metadata": {
        "id": "X-yvr7lUIGvw"
      },
      "source": [
        "Other useful unary ufuncs are:\n",
        "    \n",
        "- `np.mean` (computes arithmetic mean or average)\n",
        "- `np.std` (computes the standard deviation)\n",
        "- `np.var` (computes variance)\n",
        "- `np.sort` (sorts an array)\n",
        "- `np.argsort` (returns indices that would sort an array)\n",
        "- `np.min` (returns the minimum value of an array)\n",
        "- `np.max` (returns the maximum value of an array)\n",
        "- `np.argmin` (returns the index of the minimum value)\n",
        "- `np.argmax` (returns the index of the maximum value)\n",
        "- `np.array_equal` (checks if two arrays have the same shape and elements)"
      ]
    },
    {
      "cell_type": "markdown",
      "metadata": {
        "id": "zQge8jpqIGvy"
      },
      "source": [
        "---\n",
        "\n",
        "## 4: NumPy Broadcasting\n",
        "\n",
        "---"
      ]
    },
    {
      "cell_type": "markdown",
      "metadata": {
        "id": "2gRKlyp4IGvy"
      },
      "source": [
        "### Broadcasting"
      ]
    },
    {
      "cell_type": "markdown",
      "metadata": {
        "id": "MzIj31TGIGvy"
      },
      "source": [
        "A topic we glanced over in the previous section is broadcasting. Broadcasting allows us to perform vectorized operations between two arrays even if their dimensions do not match by creating implicit multidimensional grids. You already learned about ufuncs in the previous section where we performed element-wise addition between a scalar and a multidimensional array, which is just one example of broadcasting.\n",
        "\n",
        "<img src=\"https://drive.google.com/uc?export=view&id=1nVBHe2uzIOsEMRx-7qsZ0iipAvWRCIf_\" alt=\"Drawing\" height=150 />\n",
        "\n",
        "Naturally, we can also perform element-wise operations between arrays of equal dimensions:"
      ]
    },
    {
      "cell_type": "markdown",
      "metadata": {
        "id": "Ut6c4BOFIGvy"
      },
      "source": [
        "In contrast to what we are used from linear algebra, we can also add arrays of different shapes. In the example above, we will add a one-dimensional to a two-dimensional array, where NumPy creates an implicit multidimensional grid from the one-dimensional array `ary1`:"
      ]
    },
    {
      "cell_type": "code",
      "execution_count": null,
      "metadata": {
        "id": "wVaUBsqPIGvy",
        "outputId": "f7b708da-4802-4b94-8746-f6d998ef7920",
        "colab": {
          "base_uri": "https://localhost:8080/"
        }
      },
      "outputs": [
        {
          "output_type": "execute_result",
          "data": {
            "text/plain": [
              "array([2, 3, 4])"
            ]
          },
          "metadata": {},
          "execution_count": 78
        }
      ],
      "source": [
        "ary = np.array([1, 2, 3])\n",
        "ary + 1"
      ]
    },
    {
      "cell_type": "code",
      "execution_count": null,
      "metadata": {
        "id": "iDmCuzKwIGvy",
        "outputId": "11a4b60a-8b54-4c2c-cf9e-573fd5c2d685",
        "colab": {
          "base_uri": "https://localhost:8080/"
        }
      },
      "outputs": [
        {
          "output_type": "execute_result",
          "data": {
            "text/plain": [
              "array([2, 3, 4])"
            ]
          },
          "metadata": {},
          "execution_count": 79
        }
      ],
      "source": [
        "ary + np.array([1, 1, 1])"
      ]
    },
    {
      "cell_type": "markdown",
      "metadata": {
        "id": "sJ6mQPryIGvz"
      },
      "source": [
        "<img src=\"https://drive.google.com/uc?export=view&id=1LSi_okFE3ZYnC9kBG0yvWptELy-6DVmg\" alt=\"Drawing\" height=250 />"
      ]
    },
    {
      "cell_type": "code",
      "execution_count": null,
      "metadata": {
        "id": "yCHh2EGBIGvz",
        "outputId": "284ebfb5-f571-46fc-9ca8-ee489948b4e7",
        "colab": {
          "base_uri": "https://localhost:8080/"
        }
      },
      "outputs": [
        {
          "output_type": "stream",
          "name": "stdout",
          "text": [
            "(2, 3)\n",
            "(3,)\n",
            "[[ 5  7  9]\n",
            " [ 8 10 12]]\n"
          ]
        }
      ],
      "source": [
        "ary2 = np.array([[4, 5, 6],\n",
        "                 [7, 8, 9]])\n",
        "print(ary2.shape)\n",
        "print(ary.shape)\n",
        "print(ary2 + ary)"
      ]
    },
    {
      "cell_type": "markdown",
      "metadata": {
        "id": "NXJaZyyvIGvz"
      },
      "source": [
        "---\n",
        "\n",
        "## 5: NumPy Advanced Indexing -- Memory Views and Copies\n",
        "\n",
        "---"
      ]
    },
    {
      "cell_type": "markdown",
      "metadata": {
        "id": "3lWJP_grIGvz"
      },
      "source": [
        "### Advanced Indexing -- Memory Views and Copies"
      ]
    },
    {
      "cell_type": "markdown",
      "metadata": {
        "id": "Cs1xASyCIGvz"
      },
      "source": [
        "In the previous sections, we have used basic indexing and slicing routines. It is important to note that basic integer-based indexing and slicing create so-called *views* of NumPy arrays in memory. Working with views can be highly desirable since it avoids making unnecessary copies of arrays to save memory resources. To illustrate the concept of memory views, let us walk through a simple example where we access the first row in an array, assign it to a variable, and modify that variable:"
      ]
    },
    {
      "cell_type": "code",
      "execution_count": null,
      "metadata": {
        "id": "Mi7g55o6IGvz"
      },
      "outputs": [],
      "source": [
        "ary = np.array([[1, 2, 3],\n",
        "                [4, 5, 6]])\n",
        "\n",
        "first_row = ary[0]"
      ]
    },
    {
      "cell_type": "code",
      "execution_count": null,
      "metadata": {
        "id": "HIalj9NfIGv0",
        "outputId": "37dfc8db-5cc7-4e31-99f5-54f0e3db5e0c",
        "colab": {
          "base_uri": "https://localhost:8080/"
        }
      },
      "outputs": [
        {
          "output_type": "execute_result",
          "data": {
            "text/plain": [
              "array([1, 2, 3])"
            ]
          },
          "metadata": {},
          "execution_count": 82
        }
      ],
      "source": [
        "first_row"
      ]
    },
    {
      "cell_type": "code",
      "execution_count": null,
      "metadata": {
        "id": "tJWsyos7IGv0"
      },
      "outputs": [],
      "source": [
        "first_row += 99"
      ]
    },
    {
      "cell_type": "markdown",
      "metadata": {
        "id": "SCPuvxQ0IGv0"
      },
      "source": [
        "As expected, `first_row` was modified, now containing the original values in the first row incremented by 99:"
      ]
    },
    {
      "cell_type": "code",
      "execution_count": null,
      "metadata": {
        "id": "S7Sf8DwlIGv0",
        "outputId": "4c84967f-b451-4594-8d1a-a711b63be900",
        "colab": {
          "base_uri": "https://localhost:8080/"
        }
      },
      "outputs": [
        {
          "output_type": "execute_result",
          "data": {
            "text/plain": [
              "array([100, 101, 102])"
            ]
          },
          "metadata": {},
          "execution_count": 84
        }
      ],
      "source": [
        "first_row"
      ]
    },
    {
      "cell_type": "markdown",
      "metadata": {
        "id": "7NACIEEZIGv0"
      },
      "source": [
        "Note, however, that the original array was modified as well:"
      ]
    },
    {
      "cell_type": "code",
      "execution_count": null,
      "metadata": {
        "id": "I6NIvYs1IGv0",
        "outputId": "d80769f3-f279-4fa1-d753-70f1461e71f9",
        "colab": {
          "base_uri": "https://localhost:8080/"
        }
      },
      "outputs": [
        {
          "output_type": "execute_result",
          "data": {
            "text/plain": [
              "array([[100, 101, 102],\n",
              "       [  4,   5,   6]])"
            ]
          },
          "metadata": {},
          "execution_count": 85
        }
      ],
      "source": [
        "ary"
      ]
    },
    {
      "cell_type": "markdown",
      "metadata": {
        "id": "cpQaM_0tIGv0"
      },
      "source": [
        "As we saw in the example above, changing the value of `first_row` also affected the original array. The reason for this is that `ary[0]` created a view of the first row in `ary`, and its elements were then incremented by 99. The same concept applies to slicing operations:"
      ]
    },
    {
      "cell_type": "code",
      "execution_count": null,
      "metadata": {
        "id": "edq1XahuIGv1",
        "outputId": "df104647-1e63-4c58-8ad6-55e03f9324b7",
        "colab": {
          "base_uri": "https://localhost:8080/"
        }
      },
      "outputs": [
        {
          "output_type": "execute_result",
          "data": {
            "text/plain": [
              "array([[  1,   2,   3],\n",
              "       [103, 104, 105]])"
            ]
          },
          "metadata": {},
          "execution_count": 86
        }
      ],
      "source": [
        "ary = np.array([[1, 2, 3],\n",
        "                [4, 5, 6]])\n",
        "\n",
        "first_row = ary[1:3]\n",
        "first_row += 99\n",
        "ary"
      ]
    },
    {
      "cell_type": "code",
      "execution_count": null,
      "metadata": {
        "id": "nVHPyXqSIGv1",
        "outputId": "892ce01d-236c-474b-827f-908d2ec462ea",
        "colab": {
          "base_uri": "https://localhost:8080/"
        }
      },
      "outputs": [
        {
          "output_type": "execute_result",
          "data": {
            "text/plain": [
              "array([[  1,   2, 102],\n",
              "       [  4,   5, 105]])"
            ]
          },
          "metadata": {},
          "execution_count": 87
        }
      ],
      "source": [
        "ary = np.array([[1, 2, 3],\n",
        "                [4, 5, 6]])\n",
        "\n",
        "center_col = ary[:, 2]\n",
        "center_col += 99\n",
        "ary"
      ]
    },
    {
      "cell_type": "markdown",
      "metadata": {
        "id": "uxzpcNBSIGv1"
      },
      "source": [
        "If we are working with NumPy arrays, it is always important to be aware that **slicing creates views** -- sometimes it is desirable since it can speed up our code by avoiding to create unnecessary copies in memory. However, in certain scenarios we want force a copy of an array; we can do this via the `copy` method as shown below:"
      ]
    },
    {
      "cell_type": "code",
      "execution_count": null,
      "metadata": {
        "id": "4ApzQTXZIGv1"
      },
      "outputs": [],
      "source": [
        "ary = np.array([[1, 2, 3],\n",
        "                [4, 5, 6]])\n",
        "\n",
        "first_row = ary[0].copy()\n",
        "first_row += 99"
      ]
    },
    {
      "cell_type": "code",
      "execution_count": null,
      "metadata": {
        "id": "j95bCF18IGv1",
        "outputId": "34648c5a-c580-4392-c4cc-b049959492f0",
        "colab": {
          "base_uri": "https://localhost:8080/"
        }
      },
      "outputs": [
        {
          "output_type": "execute_result",
          "data": {
            "text/plain": [
              "array([100, 101, 102])"
            ]
          },
          "metadata": {},
          "execution_count": 89
        }
      ],
      "source": [
        "first_row"
      ]
    },
    {
      "cell_type": "code",
      "execution_count": null,
      "metadata": {
        "id": "2oRj273jIGv1",
        "outputId": "34864961-c2ec-4dad-9069-84a0d8e429d2",
        "colab": {
          "base_uri": "https://localhost:8080/"
        }
      },
      "outputs": [
        {
          "output_type": "execute_result",
          "data": {
            "text/plain": [
              "array([[1, 2, 3],\n",
              "       [4, 5, 6]])"
            ]
          },
          "metadata": {},
          "execution_count": 90
        }
      ],
      "source": [
        "ary"
      ]
    },
    {
      "cell_type": "code",
      "source": [
        "z = np.array([[ 3.31,  4.71,  0.4 ],\n",
        "              [ 0.21,  2.85,  3.21],\n",
        "              [-3.77,  4.53, -1.15]])\n",
        "\n",
        "# `subarray` is column-0 of `z`, via\n",
        "# basic indexing\n",
        "subarray = z[:, 0]\n",
        "print(subarray)\n",
        "\n",
        "# `subarray` is a view of the array data\n",
        "# referenced by `z`\n",
        "print(np.shares_memory(subarray, z))\n",
        "\n",
        "# A single number does not create a view\n",
        "print(z[0, 0])\n",
        "print(np.shares_memory(z[0, 0], z))\n",
        "\n",
        "# creating a distinct copy of an array\n",
        "new_subarray = np.copy(subarray)\n",
        "print(new_subarray)\n",
        "\n",
        "print(np.shares_memory(new_subarray, z))\n",
        "\n",
        "# mathematical expressions like `subarray + 2`\n",
        "# produce distinct arrays, not views\n",
        "print(np.shares_memory(subarray + 2, subarray))"
      ],
      "metadata": {
        "id": "ar02_1DvlDh_",
        "colab": {
          "base_uri": "https://localhost:8080/"
        },
        "outputId": "b8306fbf-b81d-4c4e-b938-c247ac469233"
      },
      "execution_count": null,
      "outputs": [
        {
          "output_type": "stream",
          "name": "stdout",
          "text": [
            "[ 3.31  0.21 -3.77]\n",
            "True\n",
            "3.31\n",
            "False\n",
            "[ 3.31  0.21 -3.77]\n",
            "False\n",
            "False\n"
          ]
        }
      ]
    },
    {
      "cell_type": "markdown",
      "source": [
        "***ppp exercise***\n",
        "\n",
        "Can you guess the results of executing the following code block?"
      ],
      "metadata": {
        "id": "YvdMU_fzlsko"
      }
    },
    {
      "cell_type": "code",
      "source": [
        "a = np.array([0, 1, 2, 3, 4])\n",
        "b = a[:]\n",
        "print(np.shares_memory(a, b))\n",
        "\n",
        "a = np.array([0, -1, -2, -3, -4])\n",
        "\n",
        "print(b)\n",
        "print(np.shares_memory(a, b))\n",
        "\n",
        "a = np.array([0, 1, 2, 3, 4])\n",
        "b = a[:]\n",
        "\n",
        "# assigning an array to a *view* of `a`\n",
        "# causes NumPy to update the data in-place\n",
        "a[:] = np.array([0, -1, -2, -3, -4])\n",
        "print(a)\n",
        "\n",
        "# `b` a view of the same data, thus\n",
        "# it is affected by this in-place assignment\n",
        "print(b)\n",
        "print(np.shares_memory(a, b))"
      ],
      "metadata": {
        "id": "ipkK9moBlya-",
        "colab": {
          "base_uri": "https://localhost:8080/"
        },
        "outputId": "40261781-7b34-4876-ae46-a0116678f924"
      },
      "execution_count": null,
      "outputs": [
        {
          "output_type": "stream",
          "name": "stdout",
          "text": [
            "True\n",
            "[0 1 2 3 4]\n",
            "False\n",
            "[ 0 -1 -2 -3 -4]\n",
            "[ 0 -1 -2 -3 -4]\n",
            "True\n"
          ]
        }
      ]
    },
    {
      "cell_type": "markdown",
      "metadata": {
        "id": "CijYUh0WIGv2"
      },
      "source": [
        "### Fancy Indexing"
      ]
    },
    {
      "cell_type": "markdown",
      "metadata": {
        "id": "mJ2HgxtjIGv2"
      },
      "source": [
        "In addition to basic single-integer indexing and slicing operations, NumPy supports advanced indexing routines called *fancy* indexing. Via fancy indexing, we can use tuple or list objects of non-contiguous integer indices to return desired array elements. Since fancy indexing can be performed with non-contiguous sequences, it cannot return a view -- a contiguous slice from memory. Thus, fancy indexing always returns a copy of an array -- it is important to keep that in mind. The following code snippets show some fancy indexing examples:"
      ]
    },
    {
      "cell_type": "code",
      "execution_count": null,
      "metadata": {
        "id": "KXwEiiDKIGv2",
        "outputId": "cda7868a-15b7-43c8-8038-5afd4cbbe6c6",
        "colab": {
          "base_uri": "https://localhost:8080/"
        }
      },
      "outputs": [
        {
          "output_type": "execute_result",
          "data": {
            "text/plain": [
              "array([[1, 3],\n",
              "       [4, 6]])"
            ]
          },
          "metadata": {},
          "execution_count": 94
        }
      ],
      "source": [
        "ary = np.array([[1, 2, 3],\n",
        "                [4, 5, 6]])\n",
        "\n",
        "ary[:, [0, 2]] # first and and last column"
      ]
    },
    {
      "cell_type": "code",
      "execution_count": null,
      "metadata": {
        "id": "z7_EOCZyIGv2"
      },
      "outputs": [],
      "source": [
        "this_is_a_copy = ary[:, [0, 2]]\n",
        "this_is_a_copy += 99"
      ]
    },
    {
      "cell_type": "markdown",
      "metadata": {
        "id": "3-LXD3e6IGv2"
      },
      "source": [
        "Note that the values in `this_is_a_copy` were incremented as expected:"
      ]
    },
    {
      "cell_type": "code",
      "execution_count": null,
      "metadata": {
        "id": "baYiQgQeIGv2",
        "outputId": "20055de1-6615-4694-f0c5-4bf5f5bb6667",
        "colab": {
          "base_uri": "https://localhost:8080/"
        }
      },
      "outputs": [
        {
          "output_type": "execute_result",
          "data": {
            "text/plain": [
              "array([[100, 102],\n",
              "       [103, 105]])"
            ]
          },
          "metadata": {},
          "execution_count": 96
        }
      ],
      "source": [
        "this_is_a_copy"
      ]
    },
    {
      "cell_type": "markdown",
      "metadata": {
        "id": "eMg2zdsdIGv3"
      },
      "source": [
        "However, the contents of the original array remain unaffected:"
      ]
    },
    {
      "cell_type": "code",
      "execution_count": null,
      "metadata": {
        "id": "ngCM4WxIIGv3",
        "outputId": "263aa86f-4d03-466e-9639-5a5421aef00e",
        "colab": {
          "base_uri": "https://localhost:8080/"
        }
      },
      "outputs": [
        {
          "output_type": "execute_result",
          "data": {
            "text/plain": [
              "array([[1, 2, 3],\n",
              "       [4, 5, 6]])"
            ]
          },
          "metadata": {},
          "execution_count": 97
        }
      ],
      "source": [
        "ary"
      ]
    },
    {
      "cell_type": "markdown",
      "metadata": {
        "id": "leE0hrUSIGv3"
      },
      "source": [
        "### Boolean Masks for Indexing"
      ]
    },
    {
      "cell_type": "markdown",
      "metadata": {
        "id": "t-0SzTHrIGv3"
      },
      "source": [
        "Finally, we can also use Boolean masks for indexing -- that is, arrays of `True` and `False` values. Consider the following example, where we return all values in the array that are greater than 3:"
      ]
    },
    {
      "cell_type": "code",
      "execution_count": null,
      "metadata": {
        "id": "qVsmeTlLIGv4",
        "outputId": "ca2b9c17-9532-451e-ed17-ba8c36bfa4d1",
        "colab": {
          "base_uri": "https://localhost:8080/"
        }
      },
      "outputs": [
        {
          "output_type": "execute_result",
          "data": {
            "text/plain": [
              "array([[False, False, False],\n",
              "       [ True,  True,  True]])"
            ]
          },
          "metadata": {},
          "execution_count": 98
        }
      ],
      "source": [
        "ary = np.array([[1, 2, 3],\n",
        "                [4, 5, 6]])\n",
        "\n",
        "greater3_mask = ary > 3\n",
        "greater3_mask"
      ]
    },
    {
      "cell_type": "markdown",
      "metadata": {
        "id": "ziEnwuqkIGv4"
      },
      "source": [
        "Using these masks, we can select elements given our desired criteria:"
      ]
    },
    {
      "cell_type": "code",
      "execution_count": null,
      "metadata": {
        "id": "iSKJrL-uIGv4",
        "outputId": "8bc405fd-d63a-4210-9216-34405dfe94da",
        "colab": {
          "base_uri": "https://localhost:8080/"
        }
      },
      "outputs": [
        {
          "output_type": "execute_result",
          "data": {
            "text/plain": [
              "array([4, 5, 6])"
            ]
          },
          "metadata": {},
          "execution_count": 99
        }
      ],
      "source": [
        "ary[greater3_mask]"
      ]
    },
    {
      "cell_type": "markdown",
      "metadata": {
        "id": "GUAzf9grIGv4"
      },
      "source": [
        "We can also chain different selection criteria using the logical *and* operator '&' or the logical *or* operator '|'. The example below demonstrates how we can select array elements that are greater than 3 and divisible by 2:"
      ]
    },
    {
      "cell_type": "code",
      "execution_count": null,
      "metadata": {
        "id": "0g9ZzO26IGv4",
        "outputId": "cdae79fd-b2ea-4e99-da26-1d45b9ffac2b",
        "colab": {
          "base_uri": "https://localhost:8080/"
        }
      },
      "outputs": [
        {
          "output_type": "execute_result",
          "data": {
            "text/plain": [
              "array([[False, False, False],\n",
              "       [ True, False,  True]])"
            ]
          },
          "metadata": {},
          "execution_count": 100
        }
      ],
      "source": [
        "(ary > 3) & (ary % 2 == 0)"
      ]
    },
    {
      "cell_type": "markdown",
      "metadata": {
        "id": "pyhoYrh5IGv5"
      },
      "source": [
        "Similar to the previous example, we can use this boolean array as a mask for selecting the respective elements from the array:"
      ]
    },
    {
      "cell_type": "code",
      "execution_count": null,
      "metadata": {
        "id": "Ptn0hKF1IGv5",
        "outputId": "4da20fc7-1a86-4ee0-ab0c-bab40ffeb0dd",
        "colab": {
          "base_uri": "https://localhost:8080/"
        }
      },
      "outputs": [
        {
          "output_type": "execute_result",
          "data": {
            "text/plain": [
              "array([4, 6])"
            ]
          },
          "metadata": {},
          "execution_count": 101
        }
      ],
      "source": [
        "ary[(ary > 3) & (ary % 2 == 0)]"
      ]
    },
    {
      "cell_type": "markdown",
      "metadata": {
        "id": "BdmEJjz0IGv5"
      },
      "source": [
        "Note that indexing using Boolean arrays is also considered \"fancy indexing\" and thus returns a copy of the array."
      ]
    },
    {
      "cell_type": "markdown",
      "metadata": {
        "id": "rTHaVINJIGv5"
      },
      "source": [
        "---\n",
        "\n",
        "## 6: Random Number Generators\n",
        "\n",
        "---"
      ]
    },
    {
      "cell_type": "markdown",
      "metadata": {
        "id": "zh-b2rm3IGv6"
      },
      "source": [
        "### Random Number Generators"
      ]
    },
    {
      "cell_type": "markdown",
      "metadata": {
        "id": "3D4n4HPSIGv6"
      },
      "source": [
        "In machine learning and deep learning, we often have to generate arrays of random numbers -- for example, the initial values of our model parameters before optimization. NumPy has a `random` subpackage to create random numbers and samples from a variety of distributions conveniently. Again, I encourage you to browse through the more comprehensive [numpy.random documentation](https://docs.scipy.org/doc/numpy-1.14.0/reference/routines.random.html) for a complete list of functions for random sampling.\n",
        "\n",
        "To provide a brief overview of the pseudo-random number generators that we will use most commonly, let's start with drawing a random sample from a uniform distribution:"
      ]
    },
    {
      "cell_type": "code",
      "execution_count": null,
      "metadata": {
        "id": "BzcHqlX3IGv6",
        "outputId": "ad18a331-0d97-4317-9a97-e4b054bdd3b9",
        "colab": {
          "base_uri": "https://localhost:8080/"
        }
      },
      "outputs": [
        {
          "output_type": "execute_result",
          "data": {
            "text/plain": [
              "array([0.69646919, 0.28613933, 0.22685145])"
            ]
          },
          "metadata": {},
          "execution_count": 102
        }
      ],
      "source": [
        "np.random.seed(123)\n",
        "\n",
        "np.random.rand(3)"
      ]
    },
    {
      "cell_type": "markdown",
      "metadata": {
        "id": "8_56ebm6IGv6"
      },
      "source": [
        "In the code snippet above, we first seeded NumPy's random number generator. Then, we drew three random samples from a uniform distribution via `random.rand` in the half-open interval [0, 1). I highly recommend the seeding step in practical applications as well as in research projects, since it ensures that our results are reproducible. If we run our code sequentially -- for example, if we execute a Python script -- it should be sufficient to seed the random number generator only once at the beginning to enforce reproducible outcomes between different runs. However, it is often useful to create separate `RandomState` objects for various parts of our code, so that we can test methods of functions reliably in unit tests. Working with multiple, separate `RandomState` objects can also be useful if we run our code in non-sequential order -- for example if we are experimenting with our code in interactive sessions or Jupyter Notebook environments.\n",
        "\n",
        "The example below shows how we can use a `RandomState` object to create the same results that we obtained via `np.random.rand` in the previous code snippet:"
      ]
    },
    {
      "cell_type": "code",
      "execution_count": null,
      "metadata": {
        "id": "tMtElukkIGv6",
        "outputId": "a2d0bbfa-f385-4d01-bcb7-bf047cd86bcf",
        "colab": {
          "base_uri": "https://localhost:8080/"
        }
      },
      "outputs": [
        {
          "output_type": "execute_result",
          "data": {
            "text/plain": [
              "array([0.68980796, 0.35494577, 0.94994208])"
            ]
          },
          "metadata": {},
          "execution_count": 103
        }
      ],
      "source": [
        "rng2 = np.random.RandomState(seed=531)\n",
        "rng2.rand(3)"
      ]
    },
    {
      "cell_type": "markdown",
      "metadata": {
        "id": "nHGfsX_RIGv6"
      },
      "source": [
        "Also, the NumPy developer community developed new random number generation method in recent versions of NumPy. For more details, please see the [new random `Generator` documentation](https://numpy.org/doc/stable/reference/random/generator.html#numpy.random.default_rng):"
      ]
    },
    {
      "cell_type": "code",
      "execution_count": null,
      "metadata": {
        "id": "XLN6eJaSIGv7",
        "outputId": "f7ecf97c-fe58-492d-d84b-9368fe573b8d",
        "colab": {
          "base_uri": "https://localhost:8080/"
        }
      },
      "outputs": [
        {
          "output_type": "execute_result",
          "data": {
            "text/plain": [
              "array([0.68235186, 0.05382102, 0.22035987])"
            ]
          },
          "metadata": {},
          "execution_count": 104
        }
      ],
      "source": [
        "rng2 = np.random.default_rng(seed=123)\n",
        "rng2.random(3)"
      ]
    },
    {
      "cell_type": "markdown",
      "metadata": {
        "id": "epHX6Q5mIGv7"
      },
      "source": [
        "---\n",
        "\n",
        "## 7: Reshaping NumPy Arrays\n",
        "\n",
        "---"
      ]
    },
    {
      "cell_type": "markdown",
      "metadata": {
        "id": "tISALb5tIGv7"
      },
      "source": [
        "### Reshaping Arrays"
      ]
    },
    {
      "cell_type": "markdown",
      "metadata": {
        "id": "vUPnQnAkIGv7"
      },
      "source": [
        "In practice, we often run into situations where existing arrays do not have the *right* shape to perform certain computations. As you might remember from the beginning of this article, the size of NumPy arrays is fixed. Fortunately, this does not mean that we have to create new arrays and copy values from the old array to the new one if we want arrays of different shapes -- the size is fixed, but the shape is not. NumPy provides a `reshape` methods that allow us to obtain a view of an array with a different shape.\n",
        "\n",
        "For example, we can reshape a one-dimensional array into a two-dimensional one using `reshape` as follows:"
      ]
    },
    {
      "cell_type": "code",
      "execution_count": null,
      "metadata": {
        "id": "JJFlanzwIGv7",
        "outputId": "dafd4f81-e5a0-4d84-e6e1-7116d1fe83e2",
        "colab": {
          "base_uri": "https://localhost:8080/"
        }
      },
      "outputs": [
        {
          "output_type": "execute_result",
          "data": {
            "text/plain": [
              "array([[1, 2, 3],\n",
              "       [4, 5, 6]])"
            ]
          },
          "metadata": {},
          "execution_count": 105
        }
      ],
      "source": [
        "ary1d = np.array([1, 2, 3, 4, 5, 6])\n",
        "ary2d_view = ary1d.reshape(2, 3)\n",
        "ary2d_view"
      ]
    },
    {
      "cell_type": "markdown",
      "metadata": {
        "id": "yZK7VSTSIGv7"
      },
      "source": [
        "The `True` value returned from `np.may_share_memory` indicates that the reshape operation returns a memory view, not a copy:"
      ]
    },
    {
      "cell_type": "code",
      "execution_count": null,
      "metadata": {
        "id": "ghcpmuJhIGv7",
        "outputId": "1e42b3d6-8b29-4be7-cd1f-277dcd5fe256",
        "colab": {
          "base_uri": "https://localhost:8080/"
        }
      },
      "outputs": [
        {
          "output_type": "execute_result",
          "data": {
            "text/plain": [
              "True"
            ]
          },
          "metadata": {},
          "execution_count": 106
        }
      ],
      "source": [
        "np.may_share_memory(ary2d_view, ary1d)"
      ]
    },
    {
      "cell_type": "markdown",
      "metadata": {
        "id": "QToYpO2MIGv8"
      },
      "source": [
        "While we need to specify the desired elements along each axis, we need to make sure that the reshaped array has the same number of elements as the original one. However, we do not need to specify the number elements in each axis; NumPy is smart enough to figure out how many elements to put along an axis if only one axis is unspecified (by using the placeholder `-1`):"
      ]
    },
    {
      "cell_type": "code",
      "execution_count": null,
      "metadata": {
        "id": "dq2FkJTEIGv8",
        "outputId": "ab143fbb-708e-4afa-c9fb-8355eb265f75",
        "colab": {
          "base_uri": "https://localhost:8080/"
        }
      },
      "outputs": [
        {
          "output_type": "execute_result",
          "data": {
            "text/plain": [
              "array([[1, 2],\n",
              "       [3, 4],\n",
              "       [5, 6]])"
            ]
          },
          "metadata": {},
          "execution_count": 107
        }
      ],
      "source": [
        "ary1d.reshape(-1, 2)"
      ]
    },
    {
      "cell_type": "markdown",
      "metadata": {
        "id": "qjGETPDTIGv8"
      },
      "source": [
        "We can, of course, also use `reshape` to flatten an array:"
      ]
    },
    {
      "cell_type": "code",
      "execution_count": null,
      "metadata": {
        "id": "eiJ7eiCFIGv8",
        "outputId": "273f1586-7fc8-433d-85f1-1f1897903c65",
        "colab": {
          "base_uri": "https://localhost:8080/"
        }
      },
      "outputs": [
        {
          "output_type": "execute_result",
          "data": {
            "text/plain": [
              "array([1, 2, 3, 4, 5, 6])"
            ]
          },
          "metadata": {},
          "execution_count": 108
        }
      ],
      "source": [
        "ary = np.array([[[1, 2, 3],\n",
        "                 [4, 5, 6]]])\n",
        "\n",
        "ary.reshape(-1)"
      ]
    },
    {
      "cell_type": "markdown",
      "metadata": {
        "id": "trgBUJpWIGv-"
      },
      "source": [
        "Other methods for flattening arrays exist, namely `flatten`, which creates a copy of the array, and `ravel`, which creates a memory view like reshape:"
      ]
    },
    {
      "cell_type": "code",
      "execution_count": null,
      "metadata": {
        "id": "k9BZt4q2IGv-",
        "outputId": "031cc1eb-1c7b-4326-b6b9-0d43f6105bf1",
        "colab": {
          "base_uri": "https://localhost:8080/"
        }
      },
      "outputs": [
        {
          "output_type": "execute_result",
          "data": {
            "text/plain": [
              "array([1, 2, 3, 4, 5, 6])"
            ]
          },
          "metadata": {},
          "execution_count": 109
        }
      ],
      "source": [
        "ary.flatten()"
      ]
    },
    {
      "cell_type": "code",
      "execution_count": null,
      "metadata": {
        "id": "f4zMyJvsIGv-",
        "outputId": "6f2adb5c-ef38-4d04-b809-ed228ee8b2ec",
        "colab": {
          "base_uri": "https://localhost:8080/"
        }
      },
      "outputs": [
        {
          "output_type": "execute_result",
          "data": {
            "text/plain": [
              "array([1, 2, 3, 4, 5, 6])"
            ]
          },
          "metadata": {},
          "execution_count": 110
        }
      ],
      "source": [
        "ary.ravel()"
      ]
    },
    {
      "cell_type": "markdown",
      "metadata": {
        "id": "P7ObwzExIGv-"
      },
      "source": [
        "Sometimes, we are interested in merging different arrays. Unfortunately, there is no efficient way to do this without creating a new array, since NumPy arrays have a fixed size. While combining arrays should be avoided if possible -- for reasons of computational efficiency -- it is sometimes necessary. To combine two or more array objects, we can use NumPy's `concatenate` function as shown in the following examples:"
      ]
    },
    {
      "cell_type": "code",
      "execution_count": null,
      "metadata": {
        "id": "MHOfOZuFIGv-",
        "outputId": "8cb29b6f-45b7-4430-d1a5-c24afc1daeb0",
        "colab": {
          "base_uri": "https://localhost:8080/"
        }
      },
      "outputs": [
        {
          "output_type": "execute_result",
          "data": {
            "text/plain": [
              "array([1, 2, 3, 1, 2, 3])"
            ]
          },
          "metadata": {},
          "execution_count": 111
        }
      ],
      "source": [
        "ary = np.array([1, 2, 3])\n",
        "\n",
        "# stack along the first axis\n",
        "np.concatenate((ary, ary))"
      ]
    },
    {
      "cell_type": "code",
      "execution_count": null,
      "metadata": {
        "id": "OfGyki7oIGv-",
        "outputId": "f65d867b-5f0f-4a96-d898-1bad4b47d6b1",
        "colab": {
          "base_uri": "https://localhost:8080/"
        }
      },
      "outputs": [
        {
          "output_type": "execute_result",
          "data": {
            "text/plain": [
              "array([[1, 2, 3],\n",
              "       [1, 2, 3]])"
            ]
          },
          "metadata": {},
          "execution_count": 112
        }
      ],
      "source": [
        "ary = np.array([[1, 2, 3]])\n",
        "\n",
        "# stack along the first axis (here: rows)\n",
        "np.concatenate((ary, ary), axis=0)"
      ]
    },
    {
      "cell_type": "code",
      "execution_count": null,
      "metadata": {
        "id": "2To3rcQkIGv_",
        "outputId": "a076f967-098e-4ffe-ad87-965c057c4a6b",
        "colab": {
          "base_uri": "https://localhost:8080/"
        }
      },
      "outputs": [
        {
          "output_type": "execute_result",
          "data": {
            "text/plain": [
              "array([[1, 2, 3, 1, 2, 3]])"
            ]
          },
          "metadata": {},
          "execution_count": 113
        }
      ],
      "source": [
        "# stack along the second axis (here: column)\n",
        "np.concatenate((ary, ary), axis=1)"
      ]
    },
    {
      "cell_type": "markdown",
      "metadata": {
        "id": "cg3u7xLRIGv_"
      },
      "source": [
        "---\n",
        "\n",
        "## 8: NumPy Comparison Operators and Masks\n",
        "\n",
        "---"
      ]
    },
    {
      "cell_type": "markdown",
      "metadata": {
        "id": "1ppMPmGIIGv_"
      },
      "source": [
        "### Comparison Operators and Masks"
      ]
    },
    {
      "cell_type": "markdown",
      "metadata": {
        "id": "dQNGwHveIGv_"
      },
      "source": [
        "*Section 4.5* already briefly introduced the concept of Boolean masks in NumPy. Boolean masks are `bool`-type arrays (storing `True` and `False` values) that have the same shape as a certain target array. For example, consider the following 4-element array below. Using comparison operators (such as `<`, `>`, `<=`, and `>=`), we can create a Boolean mask of that array which consists of `True` and `False` elements depending on whether a condition is met in the target array (here: `ary`):"
      ]
    },
    {
      "cell_type": "code",
      "execution_count": null,
      "metadata": {
        "id": "zJHAP2diIGv_",
        "outputId": "5cef4b8e-1f1d-40fb-a6dc-34f4fed48199",
        "colab": {
          "base_uri": "https://localhost:8080/"
        }
      },
      "outputs": [
        {
          "output_type": "execute_result",
          "data": {
            "text/plain": [
              "array([False, False,  True,  True,  True])"
            ]
          },
          "metadata": {},
          "execution_count": 114
        }
      ],
      "source": [
        "ary = np.array([1, 2, 3, 4, 5])\n",
        "mask = ary > 2\n",
        "mask"
      ]
    },
    {
      "cell_type": "markdown",
      "metadata": {
        "id": "QB-SsunZIGv_"
      },
      "source": [
        "One we created such a Boolean mask, we can use it to select certain entries from the target array -- those entries that match the condition upon which the mask was created):"
      ]
    },
    {
      "cell_type": "code",
      "execution_count": null,
      "metadata": {
        "id": "Ia93ulonIGv_",
        "outputId": "814e67ce-4a95-427c-d02a-b89a63c346d1",
        "colab": {
          "base_uri": "https://localhost:8080/"
        }
      },
      "outputs": [
        {
          "output_type": "execute_result",
          "data": {
            "text/plain": [
              "array([3, 4, 5])"
            ]
          },
          "metadata": {},
          "execution_count": 115
        }
      ],
      "source": [
        "ary[mask]"
      ]
    },
    {
      "cell_type": "markdown",
      "metadata": {
        "id": "vWiBLCMxIGwA"
      },
      "source": [
        "Beyond the selection of elements from an array, Boolean masks can also come in handy when we want to count how many elements in an array meet a certain condition:"
      ]
    },
    {
      "cell_type": "code",
      "execution_count": null,
      "metadata": {
        "id": "hnKGsV82IGwA",
        "outputId": "c2e83cbc-0a33-4bfc-bbd1-ef732979606b",
        "colab": {
          "base_uri": "https://localhost:8080/"
        }
      },
      "outputs": [
        {
          "output_type": "execute_result",
          "data": {
            "text/plain": [
              "3"
            ]
          },
          "metadata": {},
          "execution_count": 116
        }
      ],
      "source": [
        "mask.sum()"
      ]
    },
    {
      "cell_type": "markdown",
      "metadata": {
        "id": "S-rQo4WYIGwA"
      },
      "source": [
        "A related, useful function to assign values to specific elements in an array is the `np.where` function. In the example below, we assign a 1 to all values in the array that are greater than 2 -- and 0, otherwise:"
      ]
    },
    {
      "cell_type": "code",
      "execution_count": null,
      "metadata": {
        "id": "2JSQdtj1IGwA",
        "outputId": "cf9dce28-9f99-4cbd-8f4e-f7781137c410"
      },
      "outputs": [
        {
          "data": {
            "text/plain": [
              "array([0, 0, 1, 1, 1])"
            ]
          },
          "execution_count": 82,
          "metadata": {},
          "output_type": "execute_result"
        }
      ],
      "source": [
        "ary = np.array([1, 2, 3, 4, 5])\n",
        "\n",
        "np.where(ary > 2, 1, 0)"
      ]
    },
    {
      "cell_type": "markdown",
      "metadata": {
        "id": "jJaPV2sxIGwA"
      },
      "source": [
        "There are also so-called bit-wise operators that we can use to specify more complex selection criteria:"
      ]
    },
    {
      "cell_type": "code",
      "execution_count": null,
      "metadata": {
        "id": "wLNCE4FdIGwA",
        "outputId": "992510a1-fd94-4785-ebe2-9f7dae5de0fc",
        "colab": {
          "base_uri": "https://localhost:8080/"
        }
      },
      "outputs": [
        {
          "output_type": "execute_result",
          "data": {
            "text/plain": [
              "array([0, 0, 1, 1, 1])"
            ]
          },
          "metadata": {},
          "execution_count": 117
        }
      ],
      "source": [
        "ary = np.array([1, 2, 3, 4, 5])\n",
        "mask = ary > 2\n",
        "ary[mask] = 1\n",
        "ary[~mask] = 0\n",
        "ary"
      ]
    },
    {
      "cell_type": "markdown",
      "metadata": {
        "id": "rJVW6fkoIGwB"
      },
      "source": [
        "The `~` operator in the example above is one of the logical operators in NumPy:\n",
        "    \n",
        "- A: `&`  or `np.bitwise_and`\n",
        "- Or: `|` or `np.bitwise_or`\n",
        "- Xor: `^` or `np.bitwise_xor`\n",
        "- Not: `~` or `np.bitwise_not`"
      ]
    },
    {
      "cell_type": "markdown",
      "metadata": {
        "id": "7pEbzL3TIGwB"
      },
      "source": [
        "These logical operators allow us to chain an arbitrary number of conditions to create even more \"complex\" Boolean masks. For example, using the \"Or\" operator, we can select all elements that are greater than 3 or smaller than 2 as follows:"
      ]
    },
    {
      "cell_type": "code",
      "execution_count": null,
      "metadata": {
        "id": "MRHVE9kTIGwB",
        "outputId": "64725430-2786-4c61-eb57-27c81e0095b8",
        "colab": {
          "base_uri": "https://localhost:8080/"
        }
      },
      "outputs": [
        {
          "output_type": "execute_result",
          "data": {
            "text/plain": [
              "array([1, 4, 5])"
            ]
          },
          "metadata": {},
          "execution_count": 118
        }
      ],
      "source": [
        "ary = np.array([1, 2, 3, 4, 5])\n",
        "\n",
        "ary[(ary > 3) | (ary < 2)]"
      ]
    },
    {
      "cell_type": "markdown",
      "metadata": {
        "id": "xV6LaNlnIGwB"
      },
      "source": [
        "And, for example, to negate the condition, we can use the `~` operator:"
      ]
    },
    {
      "cell_type": "code",
      "execution_count": null,
      "metadata": {
        "id": "Qmxq86_0IGwB",
        "outputId": "82e1123a-0180-402f-a82f-10a41b6d54e9",
        "colab": {
          "base_uri": "https://localhost:8080/"
        }
      },
      "outputs": [
        {
          "output_type": "execute_result",
          "data": {
            "text/plain": [
              "array([2, 3])"
            ]
          },
          "metadata": {},
          "execution_count": 119
        }
      ],
      "source": [
        "ary[~((ary > 3) | (ary < 2))]"
      ]
    },
    {
      "cell_type": "code",
      "source": [
        "x = np.array([[ 0.58,  0.05,  0.84,  0.21],\n",
        "              [ 0.88,  0.98,  0.45,  0.13],\n",
        "              [ 0.1 ,  0.52,  0.58,  0.38],\n",
        "              [ 0.84,  0.76,  0.25,  0.07]])\n",
        "\n",
        "x[np.arange(4), np.arange(4)] = range(4)\n",
        "x[x > 0.8] += 1\n",
        "x"
      ],
      "metadata": {
        "colab": {
          "base_uri": "https://localhost:8080/"
        },
        "id": "bx588HjcpQb2",
        "outputId": "5a51a404-c1ea-4502-d2d7-b42f84ae55cc"
      },
      "execution_count": null,
      "outputs": [
        {
          "output_type": "execute_result",
          "data": {
            "text/plain": [
              "array([[0.  , 0.05, 1.84, 0.21],\n",
              "       [1.88, 2.  , 0.45, 0.13],\n",
              "       [0.1 , 0.52, 3.  , 0.38],\n",
              "       [1.84, 0.76, 0.25, 4.  ]])"
            ]
          },
          "metadata": {},
          "execution_count": 129
        }
      ]
    },
    {
      "cell_type": "markdown",
      "source": [
        "**ppp exercise**\n",
        "\n",
        "Given the array\n",
        "\n",
        "```python\n",
        "x = np.array([[ 0.58,  0.05,  0.84,  0.21],\n",
        "              [ 0.88,  0.98,  0.45,  0.13],\n",
        "              [ 0.1 ,  0.52,  0.58,  0.38],\n",
        "              [ 0.84,  0.76,  0.25,  0.07]])\n",
        "```\n",
        "Replace the diagonal elements of x with (0, 1, 2, 3), and add 1 to all values in x that are greater than 0.8."
      ],
      "metadata": {
        "id": "OaVdy6w0m_Hj"
      }
    },
    {
      "cell_type": "markdown",
      "metadata": {
        "id": "kaAqZs1cIGwB"
      },
      "source": [
        "---\n",
        "\n",
        "## 9: Linear Algebra with NumPy\n",
        "\n",
        "---"
      ]
    },
    {
      "cell_type": "markdown",
      "metadata": {
        "id": "uuaSqbCsIGwC"
      },
      "source": [
        "### Linear Algebra with NumPy Arrays"
      ]
    },
    {
      "cell_type": "markdown",
      "metadata": {
        "id": "QH29LxHiIGwC"
      },
      "source": [
        "Intuitively, we can think of one-dimensional NumPy arrays as data structures that represent row vectors:"
      ]
    },
    {
      "cell_type": "code",
      "execution_count": null,
      "metadata": {
        "id": "zuirVChaIGwC",
        "outputId": "4fe345cd-6996-4191-a189-284147cacc91",
        "colab": {
          "base_uri": "https://localhost:8080/"
        }
      },
      "outputs": [
        {
          "output_type": "execute_result",
          "data": {
            "text/plain": [
              "array([1, 2, 3])"
            ]
          },
          "metadata": {},
          "execution_count": 130
        }
      ],
      "source": [
        "row_vector = np.array([1, 2, 3])\n",
        "row_vector"
      ]
    },
    {
      "cell_type": "markdown",
      "metadata": {
        "id": "GsK9V-cOIGwC"
      },
      "source": [
        "Similarly, we can use two-dimensional arrays to create column vectors:"
      ]
    },
    {
      "cell_type": "code",
      "execution_count": null,
      "metadata": {
        "id": "HmWD-kSqIGwC",
        "outputId": "a11dcdf3-5179-449f-817e-16487da9c14e",
        "colab": {
          "base_uri": "https://localhost:8080/"
        }
      },
      "outputs": [
        {
          "output_type": "execute_result",
          "data": {
            "text/plain": [
              "array([[1],\n",
              "       [2],\n",
              "       [3]])"
            ]
          },
          "metadata": {},
          "execution_count": 131
        }
      ],
      "source": [
        "column_vector = np.array([1, 2, 3]).reshape(-1, 1)\n",
        "column_vector"
      ]
    },
    {
      "cell_type": "markdown",
      "metadata": {
        "id": "mRq7AslyIGwC"
      },
      "source": [
        "Instead of reshaping a one-dimensional array into a two-dimensional one, we can simply add a new axis as shown below:"
      ]
    },
    {
      "cell_type": "code",
      "execution_count": null,
      "metadata": {
        "id": "M3eS_2I2IGwC",
        "outputId": "b9821a84-880f-4a47-bee5-0340955aac4e",
        "colab": {
          "base_uri": "https://localhost:8080/"
        }
      },
      "outputs": [
        {
          "output_type": "execute_result",
          "data": {
            "text/plain": [
              "array([[1],\n",
              "       [2],\n",
              "       [3]])"
            ]
          },
          "metadata": {},
          "execution_count": 132
        }
      ],
      "source": [
        "row_vector[:, np.newaxis]"
      ]
    },
    {
      "cell_type": "markdown",
      "metadata": {
        "id": "e1Oo-eq2IGwD"
      },
      "source": [
        "Note that in this context, `np.newaxis` behaves like `None`:"
      ]
    },
    {
      "cell_type": "code",
      "execution_count": null,
      "metadata": {
        "id": "DOeoJbWxIGwD",
        "outputId": "691c45da-a957-4a98-ac28-f3c81f1ce029",
        "colab": {
          "base_uri": "https://localhost:8080/"
        }
      },
      "outputs": [
        {
          "output_type": "execute_result",
          "data": {
            "text/plain": [
              "array([[1],\n",
              "       [2],\n",
              "       [3]])"
            ]
          },
          "metadata": {},
          "execution_count": 133
        }
      ],
      "source": [
        "row_vector[:, None]"
      ]
    },
    {
      "cell_type": "markdown",
      "metadata": {
        "id": "XlCqaG59IGwD"
      },
      "source": [
        "All three approaches listed above, using `reshape(-1, 1)`, `np.newaxis`, or `None` yield the same results -- all three approaches create views not copies of the `row_vector` array.\n",
        "\n",
        "We can think of a column vector as a matrix consisting only of one column. To perform matrix multiplication between matrices, we learned that number of columns of the left matrix must match the number of rows of the matrix to the right. In NumPy, we can perform matrix multiplication via the `matmul` function:"
      ]
    },
    {
      "cell_type": "code",
      "execution_count": null,
      "metadata": {
        "id": "0Loqz8f3IGwD"
      },
      "outputs": [],
      "source": [
        "matrix = np.array([[1, 2, 3],\n",
        "                   [4, 5, 6]])"
      ]
    },
    {
      "cell_type": "code",
      "execution_count": null,
      "metadata": {
        "id": "TuTz6sTiIGwD",
        "outputId": "72669507-da36-4a64-9d6b-5b4f8d53db71",
        "colab": {
          "base_uri": "https://localhost:8080/"
        }
      },
      "outputs": [
        {
          "output_type": "execute_result",
          "data": {
            "text/plain": [
              "array([[14],\n",
              "       [32]])"
            ]
          },
          "metadata": {},
          "execution_count": 135
        }
      ],
      "source": [
        "np.matmul(matrix, column_vector) #매트릭스 연산에 대해서 지원"
      ]
    },
    {
      "cell_type": "markdown",
      "metadata": {
        "id": "66jX8zdjIGwD"
      },
      "source": [
        "<img src=\"https://drive.google.com/uc?export=view&id=129U6aFfOEy7bYoB5N4pulI14NkDkRXRF\" alt=\"Drawing\" height=250 />\n"
      ]
    },
    {
      "cell_type": "markdown",
      "metadata": {
        "id": "uOiLb9RVIGwD"
      },
      "source": [
        "However, if we are working with matrices and vectors, NumPy can be quite forgiving if the dimensions of matrices and one-dimensional arrays do not match exactly -- thanks to broadcasting. The following example yields the same result as the matrix-column vector multiplication, except that it returns a one-dimensional array instead of a two-dimensional one:"
      ]
    },
    {
      "cell_type": "code",
      "execution_count": null,
      "metadata": {
        "id": "gYOoU76BIGwD",
        "outputId": "41c4daec-6611-43d6-bd2b-4268949d2332",
        "colab": {
          "base_uri": "https://localhost:8080/"
        }
      },
      "outputs": [
        {
          "output_type": "execute_result",
          "data": {
            "text/plain": [
              "array([14, 32])"
            ]
          },
          "metadata": {},
          "execution_count": 136
        }
      ],
      "source": [
        "np.matmul(matrix, row_vector)"
      ]
    },
    {
      "cell_type": "markdown",
      "metadata": {
        "id": "hgvJ0cT-IGwE"
      },
      "source": [
        "Similarly, we can compute the dot-product between two vectors (here: the vector norm)"
      ]
    },
    {
      "cell_type": "code",
      "execution_count": null,
      "metadata": {
        "id": "XBVJl6pfIGwE",
        "outputId": "3165dcac-8c3d-46e9-d1fe-372311769111",
        "colab": {
          "base_uri": "https://localhost:8080/"
        }
      },
      "outputs": [
        {
          "output_type": "execute_result",
          "data": {
            "text/plain": [
              "14"
            ]
          },
          "metadata": {},
          "execution_count": 137
        }
      ],
      "source": [
        "np.matmul(row_vector, row_vector)"
      ]
    },
    {
      "cell_type": "markdown",
      "metadata": {
        "id": "UvrPEFqPIGwE"
      },
      "source": [
        "NumPy has a special `dot` function that behaves similar to `matmul` on pairs of one- or two-dimensional arrays -- its underlying implementation is different though, and one or the other can be slightly faster on specific machines and versions of [BLAS](https://en.wikipedia.org/wiki/Basic_Linear_Algebra_Subprograms):"
      ]
    },
    {
      "cell_type": "code",
      "execution_count": null,
      "metadata": {
        "id": "dh8lcEcnIGwE",
        "outputId": "20a9bcaa-119c-4d2d-d06e-40eeff3f9c41",
        "colab": {
          "base_uri": "https://localhost:8080/"
        }
      },
      "outputs": [
        {
          "output_type": "execute_result",
          "data": {
            "text/plain": [
              "array([14, 32])"
            ]
          },
          "metadata": {},
          "execution_count": 138
        }
      ],
      "source": [
        "np.dot(matrix, row_vector)"
      ]
    },
    {
      "cell_type": "markdown",
      "metadata": {
        "id": "F2qZ4_0KIGwE"
      },
      "source": [
        "Note that an even more convenient way for executing `np.dot` is using the `@` symbol with NumPy arrays:"
      ]
    },
    {
      "cell_type": "code",
      "execution_count": null,
      "metadata": {
        "id": "uhdQpj2fIGwF",
        "outputId": "298495ad-96c5-4f49-a5d5-a292ee1adc24",
        "colab": {
          "base_uri": "https://localhost:8080/"
        }
      },
      "outputs": [
        {
          "output_type": "execute_result",
          "data": {
            "text/plain": [
              "array([14, 32])"
            ]
          },
          "metadata": {},
          "execution_count": 139
        }
      ],
      "source": [
        "matrix @ row_vector"
      ]
    },
    {
      "cell_type": "markdown",
      "metadata": {
        "id": "lx8rCVc8IGwF"
      },
      "source": [
        "Similar to the examples above we can use `matmul` or `dot` to multiply two matrices (here: two-dimensional arrays). In this context, NumPy arrays have a handy `transpose` method to transpose matrices if necessary:"
      ]
    },
    {
      "cell_type": "code",
      "execution_count": null,
      "metadata": {
        "id": "s1I8k79uIGwF",
        "outputId": "c2eaa399-3a6d-402b-f359-2ab7c423b3c6",
        "colab": {
          "base_uri": "https://localhost:8080/"
        }
      },
      "outputs": [
        {
          "output_type": "execute_result",
          "data": {
            "text/plain": [
              "array([[1, 4],\n",
              "       [2, 5],\n",
              "       [3, 6]])"
            ]
          },
          "metadata": {},
          "execution_count": 140
        }
      ],
      "source": [
        "matrix = np.array([[1, 2, 3],\n",
        "                   [4, 5, 6]])\n",
        "\n",
        "matrix.transpose()"
      ]
    },
    {
      "cell_type": "markdown",
      "metadata": {
        "id": "vEjzadUvIGwF"
      },
      "source": [
        "<img src=\"https://drive.google.com/uc?export=view&id=1SCLpibMUHMvnWe1GB0uIgFIJD0ugaOkC\" alt=\"Drawing\" height=250 />\n"
      ]
    },
    {
      "cell_type": "code",
      "execution_count": null,
      "metadata": {
        "id": "GAu_1jSJIGwF",
        "outputId": "554073f7-0f3f-4ab5-90f9-a205a26ddffa",
        "colab": {
          "base_uri": "https://localhost:8080/"
        }
      },
      "outputs": [
        {
          "output_type": "execute_result",
          "data": {
            "text/plain": [
              "array([[14, 32],\n",
              "       [32, 77]])"
            ]
          },
          "metadata": {},
          "execution_count": 141
        }
      ],
      "source": [
        "np.dot(matrix, matrix.transpose())"
      ]
    },
    {
      "cell_type": "markdown",
      "metadata": {
        "id": "2tSlcC-fIGwG"
      },
      "source": [
        "<img src=\"https://drive.google.com/uc?export=view&id=1zEEUc8yOK2w_9caFc5l-ntMSHrwNsPBH\" alt=\"Drawing\" height=250 />\n",
        "\n"
      ]
    },
    {
      "cell_type": "markdown",
      "metadata": {
        "id": "NYEViwNzIGwG"
      },
      "source": [
        "While `transpose` can be annoyingly verbose for implementing linear algebra operations -- think of [PEP8's](https://www.python.org/dev/peps/pep-0008/) *80 character per line* recommendation -- NumPy has a shorthand for that: `T`:"
      ]
    },
    {
      "cell_type": "code",
      "execution_count": null,
      "metadata": {
        "id": "TRXgZMQPIGwG",
        "outputId": "f1c2872e-0913-4c99-eeee-e47e76abe371",
        "colab": {
          "base_uri": "https://localhost:8080/"
        }
      },
      "outputs": [
        {
          "output_type": "execute_result",
          "data": {
            "text/plain": [
              "array([[1, 4],\n",
              "       [2, 5],\n",
              "       [3, 6]])"
            ]
          },
          "metadata": {},
          "execution_count": 142
        }
      ],
      "source": [
        "matrix.T"
      ]
    },
    {
      "cell_type": "markdown",
      "metadata": {
        "id": "J1usiGDYIGwG"
      },
      "source": [
        "While this section demonstrates some of the basic linear algebra operations carried out on NumPy arrays that we use in practice, you can find an additional function in the documentation of NumPy's submodule for linear algebra: [`numpy.linalg`](https://docs.scipy.org/doc/numpy/reference/routines.linalg.html). If you want to perform a particular linear algebra routine that is not implemented in NumPy, it is also worth consulting the [`scipy.linalg` documentation](https://docs.scipy.org/doc/scipy/reference/linalg.html) -- SciPy is a library for scientific computing built on top of NumPy."
      ]
    },
    {
      "cell_type": "markdown",
      "metadata": {
        "id": "7VKh4RIIIGwG"
      },
      "source": [
        "---\n",
        "\n",
        "I want to mention that there is also a special [`matrix`](https://docs.scipy.org/doc/numpy/reference/generated/numpy.matrix.html) type in NumPy. NumPy `matrix` objects are analogous to NumPy arrays but are restricted to two dimensions. Also, matrices define certain operations differently than arrays; for instance, the `*` operator performs matrix multiplication instead of element-wise multiplication. However, NumPy `matrix` is less popular in the science community compared to the more general array data structure.\n",
        "\n",
        "---"
      ]
    },
    {
      "cell_type": "markdown",
      "metadata": {
        "id": "4wMbV_fLIGwG"
      },
      "source": [
        "### SciPy"
      ]
    },
    {
      "cell_type": "markdown",
      "metadata": {
        "id": "WxPrT8rAIGwH"
      },
      "source": [
        "SciPy is another open-source library from Python's scientific computing stack. SciPy includes submodules for integration, optimization, and many other kinds of computations that are out of the scope of NumPy itself. We will not cover SciPy as a library here, since it can be more considered as an \"add-on\" library on top of NumPy.\n",
        "\n",
        "I recommend you to take a look at the SciPy documentation to get a brief overview of the different function that exists within this library: [https://docs.scipy.org/doc/scipy/reference/](https://docs.scipy.org/doc/scipy/reference/)"
      ]
    },
    {
      "cell_type": "markdown",
      "metadata": {
        "id": "CnplIOSRIGwH"
      },
      "source": [
        "---\n",
        "\n",
        "## 10: Matplotlib\n",
        "\n",
        "---"
      ]
    },
    {
      "cell_type": "markdown",
      "metadata": {
        "id": "N3JpJVjqIGwH"
      },
      "source": [
        "### What is Matplotlib?"
      ]
    },
    {
      "cell_type": "markdown",
      "metadata": {
        "id": "AJe2fToJIGwH"
      },
      "source": [
        "Lastly, we will briefly cover Matplotlib in this article. Matplotlib is a plotting library for Python created by John D. Hunter in 2003. Unfortunately, John D. Hunter became ill and past away in 2012. However, Matplot is still the most mature plotting library, and is being maintained until this day.\n",
        "\n",
        "In general, Matplotlib is a rather \"low-level\" plotting library, which means that it has a lot of room for customization. The advantage of Matplotlib is that it is so customizable; the disadvantage of Matplotlib is that it is so customizable -- some people find it a little bit too verbose due to all the different options.\n",
        "\n",
        "In any case, Matplotlib is among the most widely used plotting library and the go-to choice for many data scientists and machine learning researchers and practictioners.\n",
        "\n",
        "In my opinion, the best way to work with Matplotlib is to use the Matplotlib gallery on the official website at [https://matplotlib.org/gallery/index.html](https://matplotlib.org/gallery/index.html) often. It contains code examples for creating various different kinds of plots, which are useful as templates for creating your own plots. Also, if you are completely new to Matplotlib, I recommend the tutorials at [https://matplotlib.org/tutorials/index.html](https://matplotlib.org/tutorials/index.html).\n",
        "\n",
        "In this section, we will look at a few very simple examples, which should be very intuitive and shouldn't require much explanation."
      ]
    },
    {
      "cell_type": "code",
      "execution_count": null,
      "metadata": {
        "id": "LN9n5QOHIGwH"
      },
      "outputs": [],
      "source": [
        "%matplotlib inline\n",
        "import matplotlib.pyplot as plt"
      ]
    },
    {
      "cell_type": "markdown",
      "metadata": {
        "id": "JUxjmh1BIGwI"
      },
      "source": [
        "The main plotting functions of Matplotlib are contained in the pyplot module, which we imported above. Note that the `%matplotlib inline` command is an \"IPython magic\" command. This particular `%matplotlib inline` is specific to Jupyter notebooks (which, in our case, use an IPython kernel) to show the plots \"inline,\" that is, the notebook itself."
      ]
    },
    {
      "cell_type": "markdown",
      "metadata": {
        "id": "Gpo1JpJDIGwJ"
      },
      "source": [
        "#### Plotting Functions and Lines"
      ]
    },
    {
      "cell_type": "code",
      "execution_count": null,
      "metadata": {
        "id": "OTJJ_ZgyIGwJ",
        "outputId": "003cdf57-22ff-4de6-f1ae-c2dc4da67349",
        "colab": {
          "base_uri": "https://localhost:8080/",
          "height": 430
        }
      },
      "outputs": [
        {
          "output_type": "display_data",
          "data": {
            "text/plain": [
              "<Figure size 640x480 with 1 Axes>"
            ],
            "image/png": "[encoded data removed]"
          },
          "metadata": {}
        }
      ],
      "source": [
        "x = np.linspace(0, 10, 100)\n",
        "plt.plot(x, np.sin(x))\n",
        "\n",
        "plt.show()"
      ]
    },
    {
      "cell_type": "markdown",
      "metadata": {
        "id": "lYq1epYcIGwJ"
      },
      "source": [
        "Add axis ranges and labels:"
      ]
    },
    {
      "cell_type": "code",
      "execution_count": null,
      "metadata": {
        "id": "hbFAD6aJIGwJ",
        "outputId": "84114d8a-f7fd-4c0d-be60-93fa3a713883",
        "colab": {
          "base_uri": "https://localhost:8080/",
          "height": 449
        }
      },
      "outputs": [
        {
          "output_type": "display_data",
          "data": {
            "text/plain": [
              "<Figure size 640x480 with 1 Axes>"
            ],
            "image/png": "[encoded data removed]"
          },
          "metadata": {}
        }
      ],
      "source": [
        "x = np.linspace(0, 10, 100)\n",
        "plt.plot(x, np.sin(x))\n",
        "\n",
        "plt.xlim([2, 8])\n",
        "plt.ylim([0, 0.75])\n",
        "\n",
        "plt.xlabel('x-axis')\n",
        "plt.ylabel('y-axis')\n",
        "\n",
        "plt.show()"
      ]
    },
    {
      "cell_type": "code",
      "execution_count": null,
      "metadata": {
        "id": "6Ro6VdIdIGwJ",
        "colab": {
          "base_uri": "https://localhost:8080/",
          "height": 430
        },
        "outputId": "bf7c5954-4059-4992-9482-2fb685a3f176"
      },
      "outputs": [
        {
          "output_type": "display_data",
          "data": {
            "text/plain": [
              "<Figure size 640x480 with 1 Axes>"
            ],
            "image/png": "[encoded data removed]"
          },
          "metadata": {}
        }
      ],
      "source": [
        "x = np.linspace(0, 10, 10)\n",
        "\n",
        "plt.plot(x, np.sin(x), label=('sin(x)'), linestyle='', marker='o')\n",
        "plt.show()"
      ]
    },
    {
      "cell_type": "markdown",
      "source": [
        "Refering to the official document of plt, add labels to x and y axes and put a legend to the above figure."
      ],
      "metadata": {
        "id": "vYdiaV7koAwP"
      }
    },
    {
      "cell_type": "code",
      "source": [
        "#@title Solution 👀\n",
        "\n",
        "x = np.linspace(0, 10, 10)\n",
        "\n",
        "plt.plot(x, np.sin(x), label=('sin(x)'), linestyle='', marker='o')\n",
        "\n",
        "plt.ylabel('f(x)')\n",
        "plt.xlabel('x')\n",
        "\n",
        "plt.legend(loc='lower left')\n",
        "plt.show()\n"
      ],
      "metadata": {
        "id": "WqqFwLmjnwVa",
        "colab": {
          "base_uri": "https://localhost:8080/",
          "height": 449
        },
        "outputId": "78561639-9b59-4977-8920-124484268dd1"
      },
      "execution_count": null,
      "outputs": [
        {
          "output_type": "display_data",
          "data": {
            "text/plain": [
              "<Figure size 640x480 with 1 Axes>"
            ],
            "image/png": "[encoded data removed]"
          },
          "metadata": {}
        }
      ]
    },
    {
      "cell_type": "markdown",
      "metadata": {
        "id": "Yy6LqsDqIGwJ"
      },
      "source": [
        "#### Scatter Plots"
      ]
    },
    {
      "cell_type": "code",
      "execution_count": null,
      "metadata": {
        "id": "pikgTSkCIGwJ",
        "outputId": "eea415ff-125c-44ac-a38c-62479df1c9be",
        "colab": {
          "base_uri": "https://localhost:8080/",
          "height": 430
        }
      },
      "outputs": [
        {
          "output_type": "display_data",
          "data": {
            "text/plain": [
              "<Figure size 640x480 with 1 Axes>"
            ],
            "image/png": "[encoded data removed]"
          },
          "metadata": {}
        }
      ],
      "source": [
        "rng = np.random.RandomState(123)\n",
        "x = rng.normal(size=500)\n",
        "y = rng.normal(size=500)\n",
        "\n",
        "\n",
        "plt.scatter(x, y)\n",
        "plt.show()"
      ]
    },
    {
      "cell_type": "markdown",
      "metadata": {
        "id": "X4SMq5UUIGwK"
      },
      "source": [
        "#### Bar Plots"
      ]
    },
    {
      "cell_type": "code",
      "execution_count": null,
      "metadata": {
        "id": "E0fXwsINIGwK",
        "outputId": "197deaa0-bad3-40cb-e17d-623bc50a065a",
        "colab": {
          "base_uri": "https://localhost:8080/",
          "height": 430
        }
      },
      "outputs": [
        {
          "output_type": "display_data",
          "data": {
            "text/plain": [
              "<Figure size 640x480 with 1 Axes>"
            ],
            "image/png": "[encoded data removed]"
          },
          "metadata": {}
        }
      ],
      "source": [
        "# input data\n",
        "means = [5, 8, 10]\n",
        "stddevs = [0.2, 0.4, 0.5]\n",
        "bar_labels = ['bar 1', 'bar 2', 'bar 3']\n",
        "\n",
        "\n",
        "# plot bars\n",
        "x_pos = list(range(len(bar_labels)))\n",
        "plt.bar(x_pos, means, yerr=stddevs)\n",
        "\n",
        "plt.show()"
      ]
    },
    {
      "cell_type": "markdown",
      "metadata": {
        "id": "vKhB1ObJIGwK"
      },
      "source": [
        "#### Histograms"
      ]
    },
    {
      "cell_type": "code",
      "execution_count": null,
      "metadata": {
        "id": "s6jtm2APIGwK",
        "outputId": "272c4b2d-df75-4510-9c18-aee52fbbe235",
        "colab": {
          "base_uri": "https://localhost:8080/",
          "height": 430
        }
      },
      "outputs": [
        {
          "output_type": "display_data",
          "data": {
            "text/plain": [
              "<Figure size 640x480 with 1 Axes>"
            ],
            "image/png": "[encoded data removed]"
          },
          "metadata": {}
        }
      ],
      "source": [
        "rng = np.random.RandomState(123)\n",
        "x = rng.normal(0, 20, 1000)\n",
        "\n",
        "# fixed bin size\n",
        "bins = np.arange(-100, 100, 5) # fixed bin size\n",
        "\n",
        "plt.hist(x, bins=bins)\n",
        "plt.show()"
      ]
    },
    {
      "cell_type": "code",
      "execution_count": null,
      "metadata": {
        "id": "13E1gONhIGwK",
        "outputId": "ee6a44ec-577e-4ef5-ffec-20273d923482",
        "colab": {
          "base_uri": "https://localhost:8080/",
          "height": 430
        }
      },
      "outputs": [
        {
          "output_type": "display_data",
          "data": {
            "text/plain": [
              "<Figure size 640x480 with 1 Axes>"
            ],
            "image/png": "[encoded data removed]"
          },
          "metadata": {}
        }
      ],
      "source": [
        "rng = np.random.RandomState(123)\n",
        "x1 = rng.normal(0, 20, 1000)\n",
        "x2 = rng.normal(15, 10, 1000)\n",
        "\n",
        "# fixed bin size\n",
        "bins = np.arange(-100, 100, 5) # fixed bin size\n",
        "\n",
        "plt.hist(x1, bins=bins, alpha=0.5)\n",
        "plt.hist(x2, bins=bins, alpha=0.5)\n",
        "plt.show()"
      ]
    },
    {
      "cell_type": "markdown",
      "metadata": {
        "id": "z8Imwf7WIGwK"
      },
      "source": [
        "#### Subplots"
      ]
    },
    {
      "cell_type": "code",
      "execution_count": null,
      "metadata": {
        "id": "uBakI9XgIGwK",
        "outputId": "54dc8cf7-6a0e-4a25-d3b9-562c4fb4b354",
        "colab": {
          "base_uri": "https://localhost:8080/",
          "height": 430
        }
      },
      "outputs": [
        {
          "output_type": "display_data",
          "data": {
            "text/plain": [
              "<Figure size 640x480 with 6 Axes>"
            ],
            "image/png": "[encoded data removed]"
          },
          "metadata": {}
        }
      ],
      "source": [
        "x = range(11)\n",
        "y = range(11)\n",
        "\n",
        "fig, ax = plt.subplots(nrows=2, ncols=3,\n",
        "                       sharex=True, sharey=True)\n",
        "\n",
        "for row in ax:\n",
        "    for col in row:\n",
        "        col.plot(x, y)\n",
        "\n",
        "plt.show()"
      ]
    },
    {
      "cell_type": "markdown",
      "metadata": {
        "id": "6Tiatnu7IGwL"
      },
      "source": [
        "#### Colors and Markers"
      ]
    },
    {
      "cell_type": "code",
      "execution_count": null,
      "metadata": {
        "id": "JFdv0Y30IGwL",
        "outputId": "e79b9da4-cc4b-4108-c787-993d181314b6",
        "colab": {
          "base_uri": "https://localhost:8080/",
          "height": 430
        }
      },
      "outputs": [
        {
          "output_type": "display_data",
          "data": {
            "text/plain": [
              "<Figure size 640x480 with 1 Axes>"
            ],
            "image/png": "[encoded data removed]"
          },
          "metadata": {}
        }
      ],
      "source": [
        "x = np.linspace(0, 10, 100)\n",
        "plt.plot(x, np.sin(x),\n",
        "         color='blue',\n",
        "         marker='^',\n",
        "         linestyle='')\n",
        "plt.show()"
      ]
    },
    {
      "cell_type": "markdown",
      "metadata": {
        "id": "vjIiYq9fIGwL"
      },
      "source": [
        "#### Saving Plots"
      ]
    },
    {
      "cell_type": "markdown",
      "metadata": {
        "id": "oWCxEbLdIGwL"
      },
      "source": [
        "The file format for saving plots can be conveniently specified via the file suffix (.eps, .svg, .jpg, .png, .pdf, .tiff, etc.). Personally, I recommend using a vector graphics format (.eps, .svg, .pdf) whenever you can, which usually results in smaller file sizes than bitmap graphics (.jpg, .png, .bmp, tiff) and does not have a limited resolution."
      ]
    },
    {
      "cell_type": "code",
      "execution_count": null,
      "metadata": {
        "id": "YfYaByWAIGwL",
        "outputId": "8f7448d2-318f-4323-bcbd-b8787015a553"
      },
      "outputs": [
        {
          "data": {
            "image/png": "[encoded data removed]",
            "text/plain": [
              "<Figure size 432x288 with 1 Axes>"
            ]
          },
          "metadata": {
            "needs_background": "light"
          },
          "output_type": "display_data"
        }
      ],
      "source": [
        "x = np.linspace(0, 10, 100)\n",
        "plt.plot(x, np.sin(x))\n",
        "\n",
        "plt.savefig('myplot.png', dpi=300)\n",
        "plt.savefig('myplot.pdf')\n",
        "\n",
        "plt.show()"
      ]
    },
    {
      "cell_type": "markdown",
      "metadata": {
        "id": "uxDIC1oVIGwL"
      },
      "source": [
        "## Resources"
      ]
    },
    {
      "cell_type": "markdown",
      "metadata": {
        "id": "3-VPhDN-IGwL"
      },
      "source": [
        "NumPy and Matplotlib reference material:\n",
        "\n",
        "- [The official NumPy documentation](https://docs.scipy.org/doc/numpy/reference/index.html)\n",
        "- [The official Matplotlib Gallery](https://matplotlib.org/gallery/index.html)\n",
        "- [The official Matplotlib Tutorials](https://matplotlib.org/tutorials/index.html)\n",
        "\n",
        "\n",
        "Optional references books for using NumPy and SciPy:\n",
        "\n",
        "- Rougier, N.P., 2016. [From Python to NumPy](http://www.labri.fr/perso/nrougier/from-python-to-numpy/).\n",
        "- Oliphant, T.E., 2015. [A Guide to NumPy: 2nd Edition](https://www.amazon.com/Guide-NumPy-Travis-Oliphant-PhD/dp/151730007X). USA: Travis Oliphant, independent publishing.\n",
        "- Varoquaux, G., Gouillart, E., Vahtras, O., Haenel, V., Rougier, N.P., Gommers, R., Pedregosa, F., Jędrzejewski-Szmek, Z., Virtanen, P., Combelles, C. and Pinte, D., 2015. [SciPy Lecture Notes](http://www.scipy-lectures.org/intro/numpy/index.html).\n",
        "- Harris, C.R., Millman, K.J., van der Walt, S.J. et al. [Array Programming with NumPy](https://www.nature.com/articles/s41586-020-2649-2). Nature 585, 357–362 (2020)."
      ]
    }
  ],
  "metadata": {
    "anaconda-cloud": {},
    "kernelspec": {
      "display_name": "Python 3",
      "language": "python",
      "name": "python3"
    },
    "language_info": {
      "codemirror_mode": {
        "name": "ipython",
        "version": 3
      },
      "file_extension": ".py",
      "mimetype": "text/x-python",
      "name": "python",
      "nbconvert_exporter": "python",
      "pygments_lexer": "ipython3",
      "version": "3.9.2"
    },
    "toc": {
      "nav_menu": {},
      "number_sections": true,
      "sideBar": true,
      "skip_h1_title": false,
      "title_cell": "Table of Contents",
      "title_sidebar": "Contents",
      "toc_cell": false,
      "toc_position": {},
      "toc_section_display": true,
      "toc_window_display": false
    },
    "colab": {
      "provenance": []
    }
  },
  "nbformat": 4,
  "nbformat_minor": 0
}