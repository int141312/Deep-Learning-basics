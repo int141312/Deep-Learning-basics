{
  "nbformat": 4,
  "nbformat_minor": 0,
  "metadata": {
    "colab": {
      "provenance": []
    },
    "kernelspec": {
      "name": "python3",
      "display_name": "Python 3"
    },
    "language_info": {
      "name": "python"
    }
  },
  "cells": [
    {
      "cell_type": "markdown",
      "source": [
        "## Optimization algorithms"
      ],
      "metadata": {
        "id": "7mh82p7Y413k"
      }
    },
    {
      "cell_type": "code",
      "source": [
        "network = AwesomeNetwork()\n",
        "optimizer = SGD()  # Momentum()  # Adam()\n",
        "\n",
        "for i in range(num_iter):\n",
        "  ...\n",
        "  x_batch, y_batch = get_mini_batch(...)\n",
        "  grads = network.gradient(x_batch, y_batch)\n",
        "  params = network.params\n",
        "  optimizer.update(params, grads)\n",
        "  ..."
      ],
      "metadata": {
        "id": "wJVcNmsXnu1A"
      },
      "execution_count": null,
      "outputs": []
    },
    {
      "cell_type": "code",
      "execution_count": null,
      "metadata": {
        "id": "NhW5Ngzpylk4"
      },
      "outputs": [],
      "source": [
        "# coding: utf-8\n",
        "import numpy as np\n",
        "\n",
        "class SGD:\n",
        "\n",
        "  \"\"\"Stochastic Gradient Descent\"\"\"\n",
        "\n",
        "  def __init__(self, lr=0.01):\n",
        "    self.lr = lr\n",
        "\n",
        "  def update(self, params, grads):\n",
        "    for key in params.keys():\n",
        "      params[key] -= self.lr * grads[key]"
      ]
    },
    {
      "cell_type": "code",
      "source": [
        "class Momentum:\n",
        "\n",
        "  \"\"\"Momentum SGD\"\"\"\n",
        "\n",
        "  def __init__(self, lr=0.01, momentum=0.9):\n",
        "    self.lr = lr\n",
        "    self.momentum = momentum\n",
        "    self.v = None\n",
        "\n",
        "  def update(self, params, grads):\n",
        "    if self.v is None:\n",
        "      self.v = {}\n",
        "      for key, val in params.items():\n",
        "        self.v[key] = np.zeros_like(val)\n",
        "\n",
        "    for key in params.keys():\n",
        "      self.v[key] = self.momentum * self.v[key] - self.lr * grads[key]\n",
        "      params[key] += self.v[key]"
      ],
      "metadata": {
        "id": "5W_0zYldnfyn"
      },
      "execution_count": null,
      "outputs": []
    },
    {
      "cell_type": "code",
      "source": [
        "class Nesterov:\n",
        "\n",
        "  \"\"\"Nesterov's Accelerated Gradient (http://arxiv.org/abs/1212.0901)\"\"\"\n",
        "\n",
        "  def __init__(self, lr=0.01, momentum=0.9):\n",
        "    self.lr = lr\n",
        "    self.momentum = momentum\n",
        "    self.v = None\n",
        "\n",
        "  def update(self, params, grads):\n",
        "    # 'ppp' exercise\n",
        "    if self.v is None:\n",
        "      self.v = {}\n",
        "      for key, val in params.items():\n",
        "        self.v[key] = np.zeros_like(val)\n",
        "\n",
        "    for key in params.key():\n",
        "      self.v[key] *= self.momentum\n",
        "      self.v[key] -= self.lr * grads[key]\n",
        "\n",
        "      params[key] += self.momentum * self.v[key]\n",
        "      params[key] -= self.lr * grads[key]\n",
        "\n",
        "      # Nesterov's accelerated gradient\n",
        "      params[key] += self.momentum * self.momentum * self.v[key]\n",
        "      params[key] -= (1 + self.momentum) * self.lr * grads[key]"
      ],
      "metadata": {
        "id": "-X7-H0e8nd1a"
      },
      "execution_count": null,
      "outputs": []
    },
    {
      "cell_type": "code",
      "source": [
        "class AdaGrad:\n",
        "\n",
        "  \"\"\"AdaGrad\"\"\"\n",
        "\n",
        "  def __init__(self, lr=0.01):\n",
        "    self.lr = lr\n",
        "    self.h = None\n",
        "\n",
        "  def update(self, params, grads):\n",
        "    if self.h is None:\n",
        "      self.h = {}\n",
        "      for key, val in params.items():\n",
        "        self.h[key] = np.zeros_like(val)\n",
        "\n",
        "    for key in params.keys():\n",
        "      self.h[key] += grads[key] * grads[key]\n",
        "      params[key] -= self.lr * grads[key] / (np.sqrt(self.h[key]) + 1e-7)"
      ],
      "metadata": {
        "id": "CzINhKpDnbZ5"
      },
      "execution_count": null,
      "outputs": []
    },
    {
      "cell_type": "code",
      "source": [
        "class RMSprop:\n",
        "\n",
        "  \"\"\"RMSprop\"\"\"\n",
        "\n",
        "  def __init__(self, lr=0.01, decay_rate = 0.99):\n",
        "    self.lr = lr\n",
        "    self.decay_rate = decay_rate\n",
        "    self.h = None\n",
        "\n",
        "  def update(self, params, grads):\n",
        "    # 'ppp' exercise\n",
        "    if self.h is None:\n",
        "      self.h = {}\n",
        "      for key, val in params.items():\n",
        "        self.h[key] = np.zeros_like(val)\n",
        "\n",
        "    for key, val in params.keys():\n",
        "      self.h[key] *= self.decay_rate\n",
        "      self.h[key] += (1- self.decay_rate) * grads[key] * grads[key]\n",
        "      params[key] -= self.lr * grads[key] / (np.sqrt(self.h[key]) + 1e-7)"
      ],
      "metadata": {
        "id": "nobTPRVJnZmH"
      },
      "execution_count": null,
      "outputs": []
    },
    {
      "cell_type": "code",
      "source": [
        "class Adam:\n",
        "\n",
        "  \"\"\"Adam (http://arxiv.org/abs/1412.6980v8)\"\"\"\n",
        "\n",
        "  def __init__(self, lr=0.001, beta1=0.9, beta2=0.999):\n",
        "    self.lr = lr\n",
        "    self.beta1 = beta1\n",
        "    self.beta2 = beta2\n",
        "    self.iter = 0  # for bias correction\n",
        "    self.m = None\n",
        "    self.v = None\n",
        "\n",
        "  def update(self, params, grads):\n",
        "    # 'ppp' exercise\n",
        "    if self.m is None:\n",
        "      self.m, self.v = {}, {}\n",
        "      for key, val in params.items():\n",
        "        self.m[key] = np.zeros_like(val)\n",
        "        self.v[key] = np.zeros_like(val)\n",
        "\n",
        "    self.iter += 1\n",
        "    lr_t = self.lr * np.sqrt(1.0 - self.beta2 ** self.iter) / (1.0 - self.beta1 ** self.iter)\n",
        "\n",
        "    for key in params.keys():\n",
        "      self.m[key] = self.beta1 * self.m[key] + (1 - self.beta1) * grads[key]\n",
        "      self.v[key] = self.beta2 * self.m[key] + (1 - self.beta2) * (grads[key]**2)\n",
        "\n",
        "      params[key] -= lr_t * self.m[key]/  (np.sqrt(self.v[key]) + 1e-7)\n",
        "\n"
      ],
      "metadata": {
        "id": "yjQ1Z8xOnV-z"
      },
      "execution_count": null,
      "outputs": []
    }
  ]
}