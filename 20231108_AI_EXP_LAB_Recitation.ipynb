{
  "cells": [
    {
      "cell_type": "markdown",
      "metadata": {
        "id": "YYxJO2subhVZ"
      },
      "source": [
        "## Review\n",
        "### This recitation (11.08) covers two following lectures below:\n",
        "- **10.30 (Wed)**\n",
        "- **11.06 (Wed)**\n"
      ]
    },
    {
      "cell_type": "code",
      "source": [
        "import matplotlib.pyplot as plt\n",
        "import numpy as np\n",
        "# import torchvision and matplotlib to download and visualize cifar10\n",
        "import torchvision\n",
        "from matplotlib.pyplot import imshow\n",
        "import cv2\n",
        "np.random.seed(231108)"
      ],
      "metadata": {
        "id": "zHEQPXXUdn-c"
      },
      "execution_count": null,
      "outputs": []
    },
    {
      "cell_type": "markdown",
      "metadata": {
        "id": "8gRJNcwfgyJd"
      },
      "source": [
        "### Image Features\n",
        "\n",
        "<img src=\"https://drive.google.com/uc?export=view&id=1PJTmYQQpRi9g9niUm8BknHVx9GEDsXOr\" alt=\"Drawing\" height=500 />\n",
        "\n",
        "In computer vision and image processing, *a **feature is a piece of information about the content** of an image*;  typically about whether a certain region of the image has certain properties.\n",
        "\n",
        "\n",
        "\n",
        "*    **Features** may be specific structures in the image such as points, edges or objects.\n",
        "*   **Features** may also be the result of a general neighborhood operation or feature detection applied to the image.\n",
        "\n",
        "\n",
        "More broadly a feature is <u>any piece of information which is relevant for\n",
        "solving the computational task related to a certain application.\n",
        "\n",
        "\n"
      ]
    },
    {
      "cell_type": "markdown",
      "source": [
        "Let’s look at the two main features we covered in class!"
      ],
      "metadata": {
        "id": "S1NxcGhbozLF"
      }
    },
    {
      "cell_type": "markdown",
      "source": [
        "### Histogram of Oriented Gradients (HoG Feature)\n",
        "\n",
        "<img src=\"https://drive.google.com/uc?export=view&id=1ccRgiWGOgjuHLNPvRWBzNVDi6dtNV4MV\" alt=\"Drawing\" height=300 />\n",
        "\n",
        "**The histogram of oriented gradients (HOG)** is a feature descriptor used in computer vision and image processing for the purpose of object detection. The technique counts occurrences of gradient orientation in localized portions of an image."
      ],
      "metadata": {
        "id": "xXlQUYT4nnTV"
      }
    },
    {
      "cell_type": "markdown",
      "source": [
        "### CNN Features\n",
        "\n",
        "\n",
        "<img src=\"https://drive.google.com/uc?export=view&id=1Ny4M9PwnP0EJxhS6M6AYilgYCUtxHEUT\" alt=\"Drawing\" height=360 />\n",
        "\n",
        "\n",
        "A **CNN feature**, in the context of Convolutional Neural Networks (CNNs), refers to a representation of a specific pattern or feature within an image. CNNs use layers of **convolutional operations** (what we are going to implement today) to detect various features like edges, textures, and more complex structures in images. These features are essential for tasks such as image recognition, object detection, and image classification.\n"
      ],
      "metadata": {
        "id": "B0Zazg7uo7rI"
      }
    },
    {
      "cell_type": "markdown",
      "source": [
        "### Various CNNs\n",
        "\n",
        "<img src=\"https://drive.google.com/uc?export=view&id=1OzcLkg1NSgEYeb0DLOSNOSYXWsKrl6_-\" alt=\"Drawing\" height=450 />"
      ],
      "metadata": {
        "id": "T6IFqhcmRE4z"
      }
    },
    {
      "cell_type": "markdown",
      "source": [
        "There are a variety of CNN models available today, and you can use them as is or modify them to suit your task. It's all your choice!"
      ],
      "metadata": {
        "id": "5s3ymKb4rQcT"
      }
    },
    {
      "cell_type": "markdown",
      "source": [
        "Now, let's visualize CNN features just like we have seen in HoG features!"
      ],
      "metadata": {
        "id": "rKNZwuEqrV7z"
      }
    },
    {
      "cell_type": "markdown",
      "source": [
        "## Visualize Features"
      ],
      "metadata": {
        "id": "h96Vd8afmNI7"
      }
    },
    {
      "cell_type": "markdown",
      "metadata": {
        "id": "05sYwNvOSh7v"
      },
      "source": [
        "<img src=\"https://drive.google.com/uc?export=view&id=1_--V7VJMvHGjjQZ4tyUWYRPK4LhBhqgJ\" alt=\"Drawing\" height=300 />\n",
        "\n",
        "The **CIFAR-10** dataset consists of 60000 32x32 color images in 10 classes, with 6000 images per class."
      ]
    },
    {
      "cell_type": "markdown",
      "source": [
        "### Download a image from CIFAR-10\n"
      ],
      "metadata": {
        "id": "kgM-TsFUV7Xo"
      }
    },
    {
      "cell_type": "code",
      "execution_count": null,
      "metadata": {
        "id": "5pAdOvzBpfYl",
        "colab": {
          "base_uri": "https://localhost:8080/"
        },
        "outputId": "9a283785-b0a3-4dec-aae8-afa778091ee8"
      },
      "outputs": [
        {
          "output_type": "stream",
          "name": "stdout",
          "text": [
            "Files already downloaded and verified\n"
          ]
        }
      ],
      "source": [
        "# download cifar10\n",
        "dataset = torchvision.datasets.CIFAR10(root='./data', train=True, download=True)\n",
        "classes = ['plane', 'car', 'bird', 'cat', 'deer', 'dog', 'frog', 'horse', 'ship', 'truck']"
      ]
    },
    {
      "cell_type": "code",
      "source": [
        "# select random image among index 0-49999\n",
        "# In this class, we will take a dog image\n",
        "\n",
        "n = 40489\n",
        "\n",
        "sample_img = np.asarray(dataset[n][0])\n",
        "\n",
        "yi = dataset[n][1]\n",
        "img_class = classes[dataset[n][1]]\n",
        "imshow(np.asarray(sample_img))\n",
        "\n",
        "print(f\"image shape : {sample_img.shape}\")\n",
        "print(f'This is an image of [{img_class}].')"
      ],
      "metadata": {
        "colab": {
          "base_uri": "https://localhost:8080/",
          "height": 467
        },
        "id": "hzATjoiDVcFQ",
        "outputId": "9e7de0b7-10bf-4f0d-a270-1cfdb04438ca"
      },
      "execution_count": null,
      "outputs": [
        {
          "output_type": "stream",
          "name": "stdout",
          "text": [
            "image shape : (32, 32, 3)\n",
            "This is an image of [dog].\n"
          ]
        },
        {
          "output_type": "display_data",
          "data": {
            "text/plain": [
              "<Figure size 640x480 with 1 Axes>"
            ],
            "image/png": "[encoded data removed]"
          },
          "metadata": {}
        }
      ]
    },
    {
      "cell_type": "markdown",
      "source": [
        "We are going to extract **features** from the sample image. First, let's start with image preprocessing."
      ],
      "metadata": {
        "id": "H1dNSbQGjTmF"
      }
    },
    {
      "cell_type": "markdown",
      "metadata": {
        "id": "srlgjrqCGDst"
      },
      "source": [
        "### Preprocessing\n",
        "\n",
        "**Min-max scaling:** This is a data preprocessing technique that transforms numerical data to a specific range, typically between 0 and 1, by rescaling values using a formula.\n",
        "\n",
        "<img src=\"https://drive.google.com/uc?export=view&id=1JuC_Xcu7VzdrdkBlDgYmfmSuPVj6IUxJ\" alt=\"Drawing\" height=100 />\n"
      ]
    },
    {
      "cell_type": "code",
      "execution_count": null,
      "metadata": {
        "id": "BCD1SaMuFMlF",
        "colab": {
          "base_uri": "https://localhost:8080/"
        },
        "outputId": "04269a17-50dd-4c23-c060-06cd65b20ac0"
      },
      "outputs": [
        {
          "output_type": "stream",
          "name": "stdout",
          "text": [
            "We are going to preprocess our image using min:19-max:249 scaling.\n",
            "Scaled image: max=1.0, min=0.0\n",
            "Preproccesed image shape (1, 3, 32, 32)\n"
          ]
        }
      ],
      "source": [
        "# get the maximum and minimum pixel value from the image\n",
        "max = np.max(sample_img)\n",
        "min = np.min(sample_img)\n",
        "print(f'We are going to preprocess our image using min:{min}-max:{max} scaling.')\n",
        "\n",
        "# Apply the formula\n",
        "sample_img = (sample_img - min) / (max - min)\n",
        "max_ = np.max(sample_img)\n",
        "min_ = np.min(sample_img)\n",
        "\n",
        "# result\n",
        "print(f'Scaled image: max={max_}, min={min_}')\n",
        "sample_img = sample_img.transpose(2,0,1)[np.newaxis, :, :, :]\n",
        "print(f'Preproccesed image shape {sample_img.shape}')"
      ]
    },
    {
      "cell_type": "markdown",
      "metadata": {
        "id": "xcqnuilWK7We"
      },
      "source": [
        "### Build Covolution Operations\n",
        "Let's make two forward convolution operations using **img2col function**. (Review: 06_cnns_ind_0.ipynb)"
      ]
    },
    {
      "cell_type": "code",
      "source": [
        "def im2col(input_data, filters, stride=1, pad=0):\n",
        "\n",
        "    # init shape of image & filter\n",
        "    N, C, H, W = input_data.shape\n",
        "    f_N, _, f_H, f_W = filters.shape\n",
        "\n",
        "    # output shape\n",
        "    output_H = (H + 2 * pad - f_H) // stride + 1\n",
        "    output_W = (W + 2 * pad - f_W) // stride + 1\n",
        "\n",
        "    # add padding to height and width\n",
        "    pad_data = np.pad(input_data, [(0, 0), (0, 0), (pad, pad), (pad, pad)], 'constant')\n",
        "\n",
        "    # make output tensor\n",
        "    output = np.zeros((N, C, f_H, f_W, output_H, output_W))\n",
        "\n",
        "    for h in range(f_H):\n",
        "        h_end = h + stride * output_H\n",
        "        for w in range(f_W):\n",
        "            w_end = w + stride * output_W\n",
        "            output[:, :, h, w, :, :] = pad_data[:, :, h:h_end:stride, w:w_end:stride]\n",
        "\n",
        "    output = output.transpose(0, 4, 5, 1, 2, 3).reshape(N * output_H * output_W, -1)\n",
        "\n",
        "    return output"
      ],
      "metadata": {
        "id": "NG6EyzDZcUPF"
      },
      "execution_count": null,
      "outputs": []
    },
    {
      "cell_type": "code",
      "source": [
        "# Note that the dim order is in (b,c,h,w)\n",
        "print(sample_img.shape)"
      ],
      "metadata": {
        "colab": {
          "base_uri": "https://localhost:8080/"
        },
        "id": "rrPwQw9xfTZE",
        "outputId": "27cf7c87-9946-478b-c536-e4b4f425c0a4"
      },
      "execution_count": null,
      "outputs": [
        {
          "output_type": "stream",
          "name": "stdout",
          "text": [
            "(1, 3, 32, 32)\n"
          ]
        }
      ]
    },
    {
      "cell_type": "markdown",
      "source": [
        "### Build Random Gaussian Filters\n",
        "\n",
        "\n",
        "\n",
        "*   First step contains **five filters** and  should have **kernel size of 3**.\n",
        "*   Second step contains **ten filters** and  should have **kernel size of 3**.\n",
        "\n"
      ],
      "metadata": {
        "id": "n01QztQptDo0"
      }
    },
    {
      "cell_type": "code",
      "source": [
        "# Note that the dim order is in (out_f, in_f, f_h, f_w)\n",
        "filters_1 = np.random.randn(5,3,3,3)\n",
        "filters_2 = np.random.randn(10,5,3,3)\n",
        "\n",
        "print('Filters:', filters_1.shape)\n",
        "print('Filters:', filters_2.shape)"
      ],
      "metadata": {
        "colab": {
          "base_uri": "https://localhost:8080/"
        },
        "id": "Q4GkeTp5SO26",
        "outputId": "6b71faf8-67bf-4eed-d76b-307e927bce56"
      },
      "execution_count": null,
      "outputs": [
        {
          "output_type": "stream",
          "name": "stdout",
          "text": [
            "Filters: (5, 3, 3, 3)\n",
            "Filters: (10, 5, 3, 3)\n"
          ]
        }
      ]
    },
    {
      "cell_type": "markdown",
      "source": [
        "### Forward Convolution Operations"
      ],
      "metadata": {
        "id": "rwyqKPN9tw7i"
      }
    },
    {
      "cell_type": "code",
      "source": [
        "# First Convolution Operation\n",
        "\n",
        "stride = 2\n",
        "pad = 2\n",
        "X_col = im2col(sample_img, filters_1, stride=stride, pad=pad)\n",
        "N, C, H, W = sample_img.shape\n",
        "f_N, f_C, f_H, f_W = filters_1.shape\n",
        "output_H = (H + 2 * pad - f_H) // stride + 1\n",
        "output_W = (W + 2 * pad - f_W) // stride + 1\n",
        "output = np.matmul(X_col, filters_1.reshape(f_N, -1).T)\n",
        "output = output.reshape(N, output_H, output_W, f_N)\n",
        "output = output.transpose(0, 3, 1, 2)\n",
        "\n",
        "print('Output: ', output.shape)"
      ],
      "metadata": {
        "colab": {
          "base_uri": "https://localhost:8080/"
        },
        "id": "yMGZgLMsfHfq",
        "outputId": "6358581e-e51f-4f05-e070-4e3664a15937"
      },
      "execution_count": null,
      "outputs": [
        {
          "output_type": "stream",
          "name": "stdout",
          "text": [
            "Output:  (1, 5, 17, 17)\n"
          ]
        }
      ]
    },
    {
      "cell_type": "code",
      "source": [
        "# Second Convolution Operation\n",
        "\n",
        "stride = 2\n",
        "pad = 2\n",
        "X_col = im2col(output, filters_2, stride=stride, pad=pad)\n",
        "N, C, H, W = output.shape\n",
        "f_N, f_C, f_H, f_W = filters_2.shape\n",
        "output_H = (H + 2 * pad - f_H) // stride + 1\n",
        "output_W = (W + 2 * pad - f_W) // stride + 1\n",
        "final = np.matmul(X_col, filters_2.reshape(f_N, -1).T)\n",
        "final = final.reshape(N, output_H, output_W, f_N)\n",
        "final = final.transpose(0, 3, 1, 2)\n",
        "\n",
        "print('Final: ', final.shape)"
      ],
      "metadata": {
        "colab": {
          "base_uri": "https://localhost:8080/"
        },
        "id": "rs3x7Zu5iYxi",
        "outputId": "3a186d5b-756f-4019-fc81-7a0ab188be42"
      },
      "execution_count": null,
      "outputs": [
        {
          "output_type": "stream",
          "name": "stdout",
          "text": [
            "Final:  (1, 10, 10, 10)\n"
          ]
        }
      ]
    },
    {
      "cell_type": "markdown",
      "source": [
        "#### Discussion\n",
        "\n",
        "*   Why were the height and width of the image reduced so much?\n",
        "*   Why did the number of image channels increase?\n"
      ],
      "metadata": {
        "id": "AJOrikHvuByQ"
      }
    },
    {
      "cell_type": "markdown",
      "metadata": {
        "id": "66DyxvT0Aft2"
      },
      "source": [
        "### Intercept Features\n",
        "\n",
        "Let's intercept the two CNN feature we have calculated."
      ]
    },
    {
      "cell_type": "code",
      "source": [
        "feature_1 = output\n",
        "feature_2 = final\n",
        "\n",
        "# process to visualize the features\n",
        "feature_1 = feature_1.squeeze(0)\n",
        "feature_1 = feature_1.transpose(1,2,0)\n",
        "feature_1 = np.sum(feature_1, axis=2)\n",
        "\n",
        "feature_2 = feature_2.squeeze(0)\n",
        "feature_2 = feature_2.transpose(1,2,0)\n",
        "feature_2 = np.sum(feature_2, axis=2)"
      ],
      "metadata": {
        "id": "41INauq2SNOy"
      },
      "execution_count": null,
      "outputs": []
    },
    {
      "cell_type": "markdown",
      "source": [
        "### Visualization of CNN\n",
        "Let's now get a insight of the CNN feautures."
      ],
      "metadata": {
        "id": "3meUV3UZk-no"
      }
    },
    {
      "cell_type": "code",
      "source": [
        "fig = plt.figure(figsize=(9,9))\n",
        "\n",
        "plt.subplot(141)\n",
        "imshow(sample_img.squeeze(0).transpose(1,2,0))\n",
        "plt.title('Original Image')\n",
        "plt.axis('off')\n",
        "\n",
        "plt.subplot(142)\n",
        "imshow(feature_1, cmap='gray')\n",
        "plt.title('After Conv1 ')\n",
        "plt.axis('off')\n",
        "plt.show()"
      ],
      "metadata": {
        "colab": {
          "base_uri": "https://localhost:8080/",
          "height": 210
        },
        "id": "idO9EQ_1jNyf",
        "outputId": "1a058454-e559-4386-cdb1-78d89b40dbea"
      },
      "execution_count": null,
      "outputs": [
        {
          "output_type": "display_data",
          "data": {
            "text/plain": [
              "<Figure size 900x900 with 2 Axes>"
            ],
            "image/png": "[encoded data removed]"
          },
          "metadata": {}
        }
      ]
    },
    {
      "cell_type": "code",
      "source": [
        "fig = plt.figure(figsize=(9,9))\n",
        "\n",
        "plt.subplot(141)\n",
        "imshow(sample_img.squeeze(0).transpose(1,2,0))\n",
        "plt.title('Original Image')\n",
        "plt.axis('off')\n",
        "\n",
        "plt.subplot(142)\n",
        "imshow(feature_1, cmap='gray')\n",
        "plt.title('After Conv1 ')\n",
        "plt.axis('off')\n",
        "\n",
        "plt.subplot(143)\n",
        "imshow(feature_2, cmap='gray')\n",
        "plt.title('After Conv2 ')\n",
        "plt.axis('off')\n",
        "plt.show()"
      ],
      "metadata": {
        "colab": {
          "base_uri": "https://localhost:8080/",
          "height": 210
        },
        "id": "OjJJCRBqkhwH",
        "outputId": "401df23e-578b-47d0-fb30-e9cc0bfc538c"
      },
      "execution_count": null,
      "outputs": [
        {
          "output_type": "display_data",
          "data": {
            "text/plain": [
              "<Figure size 900x900 with 3 Axes>"
            ],
            "image/png": "[encoded data removed]"
          },
          "metadata": {}
        }
      ]
    },
    {
      "cell_type": "markdown",
      "metadata": {
        "id": "D5gyzaGEGpjl"
      },
      "source": [
        "#### Discussion\n",
        "\n",
        "\n",
        "*  Can you see the difference in results depending on the depth of the CNN layers?\n"
      ]
    }
  ],
  "metadata": {
    "colab": {
      "provenance": [],
      "toc_visible": true
    },
    "kernelspec": {
      "display_name": "Python 3",
      "name": "python3"
    },
    "language_info": {
      "name": "python"
    }
  },
  "nbformat": 4,
  "nbformat_minor": 0
}