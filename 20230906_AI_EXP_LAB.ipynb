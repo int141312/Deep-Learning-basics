{
  "nbformat": 4,
  "nbformat_minor": 0,
  "metadata": {
    "colab": {
      "provenance": []
    },
    "kernelspec": {
      "name": "python3",
      "display_name": "Python 3"
    },
    "language_info": {
      "name": "python"
    }
  },
  "cells": [
    {
      "cell_type": "markdown",
      "source": [
        "**Disclaimer.**\n",
        "This colab is based on\n",
        "\n",
        "1. [Introduction to deep learning](https://github.com/rasbt/stat453-deep-learning-ss21)\n",
        "2. [Deep learning from scratch](https://github.com/WegraLee/deep-learning-from-scratch/tree/master/c)"
      ],
      "metadata": {
        "id": "hl0ajtE8l22w"
      }
    },
    {
      "cell_type": "code",
      "source": [
        "import numpy as np\n",
        "import doctest\n",
        "import matplotlib.pyplot as plt"
      ],
      "metadata": {
        "id": "3LDr1qJMqxYy"
      },
      "execution_count": null,
      "outputs": []
    },
    {
      "cell_type": "markdown",
      "source": [
        "## Basic gates"
      ],
      "metadata": {
        "id": "cDyrox7HakUn"
      }
    },
    {
      "cell_type": "code",
      "source": [
        "def AND(x1, x2):\n",
        "  \"\"\"\n",
        "  >>> AND(0, 0)\n",
        "  0\n",
        "  >>> AND(0, 1)\n",
        "  0\n",
        "  >>> AND(1, 0)\n",
        "  0\n",
        "  >>> AND(1, 1)\n",
        "  1\n",
        "  \"\"\"\n",
        "  x = np.array([x1, x2])\n",
        "  w = np.array([0.5, 0.5])\n",
        "  b = -0.7\n",
        "  tmp = np.sum(w*x) + b\n",
        "  if tmp <= 0:\n",
        "      return 0\n",
        "  else:\n",
        "      return 1"
      ],
      "metadata": {
        "id": "jvro1EbeamwE"
      },
      "execution_count": null,
      "outputs": []
    },
    {
      "cell_type": "code",
      "source": [
        "doctest.run_docstring_examples(AND, globals(), False, __name__)"
      ],
      "metadata": {
        "id": "NPNeLxmXVLRq"
      },
      "execution_count": null,
      "outputs": []
    },
    {
      "cell_type": "code",
      "source": [
        "def NAND(x1, x2):\n",
        "  \"\"\"\n",
        "  >>> NAND(0, 0)\n",
        "  1\n",
        "  >>> NAND(0, 1)\n",
        "  1\n",
        "  >>> NAND(1, 0)\n",
        "  1\n",
        "  >>> NAND(1, 1)\n",
        "  0\n",
        "  \"\"\"\n",
        "  x = np.array([x1, x2])\n",
        "  w = np.array([-0.5, -0.5])\n",
        "  b = 0.7\n",
        "  tmp = np.sum(w*x) + b\n",
        "  if tmp <= 0:\n",
        "      return 0\n",
        "  else:\n",
        "      return 1"
      ],
      "metadata": {
        "id": "gVyR7hp5cQ9J"
      },
      "execution_count": null,
      "outputs": []
    },
    {
      "cell_type": "code",
      "source": [
        "doctest.run_docstring_examples(NAND, globals(), False, __name__)"
      ],
      "metadata": {
        "id": "wPqrOR_zVdnn"
      },
      "execution_count": null,
      "outputs": []
    },
    {
      "cell_type": "markdown",
      "source": [
        "**'ppp' exercise**"
      ],
      "metadata": {
        "id": "CUk059jqgE8s"
      }
    },
    {
      "cell_type": "code",
      "source": [
        "def OR(x1, x2):\n",
        "  \"\"\"\n",
        "  >>> OR(0, 0)\n",
        "  0\n",
        "  >>> OR(0, 1)\n",
        "  1\n",
        "  >>> OR(1, 0)\n",
        "  1\n",
        "  >>> OR(1, 1)\n",
        "  1\n",
        "  \"\"\"\n",
        "  x = np.array([x1, x2])\n",
        "  w = np.array([0.5, 0.5])\n",
        "  b = -0.2\n",
        "  tmp = np.sum(w*x) + b\n",
        "  if tmp <= 0:\n",
        "      return 0\n",
        "  else:\n",
        "      return 1"
      ],
      "metadata": {
        "id": "BZP8JWvvcW9S"
      },
      "execution_count": null,
      "outputs": []
    },
    {
      "cell_type": "code",
      "source": [
        "doctest.run_docstring_examples(OR, globals(), False, __name__)"
      ],
      "metadata": {
        "id": "zHcvkIrvV4qh"
      },
      "execution_count": null,
      "outputs": []
    },
    {
      "cell_type": "markdown",
      "source": [
        "**'ppp' exercise**"
      ],
      "metadata": {
        "id": "OfzdtLu1gH2i"
      }
    },
    {
      "cell_type": "code",
      "source": [
        "def XOR(x1, x2):\n",
        "  \"\"\"\n",
        "  >>> XOR(0, 0)\n",
        "  0\n",
        "  >>> XOR(0, 1)\n",
        "  1\n",
        "  >>> XOR(1, 0)\n",
        "  1\n",
        "  >>> XOR(1, 1)\n",
        "  0\n",
        "  \"\"\"\n",
        "\n",
        "\n",
        "  return AND(NAND(x1, x2), OR(x1, x2))"
      ],
      "metadata": {
        "id": "hbb5K_ixcZ84"
      },
      "execution_count": null,
      "outputs": []
    },
    {
      "cell_type": "code",
      "source": [
        "doctest.run_docstring_examples(XOR, globals(), False, __name__)"
      ],
      "metadata": {
        "id": "N6oQDuYnV6sS"
      },
      "execution_count": null,
      "outputs": []
    }
  ]
}