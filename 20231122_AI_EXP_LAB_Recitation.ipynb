{
  "cells": [
    {
      "cell_type": "markdown",
      "metadata": {
        "id": "YYxJO2subhVZ"
      },
      "source": [
        "## Review\n",
        "### This recitation (11.22) covers two following lectures below:\n",
        "- **11.15 (Wed)**\n",
        "- **11.20 (Wed)**\n"
      ]
    },
    {
      "cell_type": "code",
      "source": [
        "import matplotlib.pyplot as plt\n",
        "import numpy as np\n",
        "from torch.utils import data\n",
        "from collections import defaultdict"
      ],
      "metadata": {
        "id": "zHEQPXXUdn-c"
      },
      "execution_count": null,
      "outputs": []
    },
    {
      "cell_type": "markdown",
      "source": [
        "Define some helpful functions!"
      ],
      "metadata": {
        "id": "ySitv41q89ql"
      }
    },
    {
      "cell_type": "code",
      "source": [
        "def init_orthogonal(param):\n",
        "    if param.ndim < 2:\n",
        "        raise ValueError(\"Only parameters with 2 or more dimensions are supported.\")\n",
        "    rows, cols = param.shape\n",
        "    new_param = np.random.randn(rows, cols)\n",
        "    if rows < cols:\n",
        "        new_param = new_param.T\n",
        "\n",
        "    q, r = np.linalg.qr(new_param)\n",
        "    d = np.diag(r, 0)\n",
        "    ph = np.sign(d)\n",
        "    q *= ph\n",
        "\n",
        "    if rows < cols:\n",
        "        q = q.T\n",
        "\n",
        "    new_param = q\n",
        "    return new_param\n",
        "\n",
        "def clip_gradient_norm(grads, max_norm=0.25):\n",
        "    # Set the maximum of the norm to be of type float\n",
        "    max_norm = float(max_norm)\n",
        "    total_norm = 0\n",
        "\n",
        "    # Calculate the L2 norm squared for each gradient and add them to the total norm\n",
        "    for grad in grads:\n",
        "        grad_norm = np.sum(np.power(grad, 2))\n",
        "        total_norm += grad_norm\n",
        "\n",
        "    total_norm = np.sqrt(total_norm)\n",
        "\n",
        "    # Calculate clipping coeficient\n",
        "    clip_coef = max_norm / (total_norm + 1e-6)\n",
        "\n",
        "    # If the total norm is larger than the maximum allowable norm, then clip the gradient\n",
        "    if clip_coef < 1:\n",
        "        for grad in grads:\n",
        "            grad *= clip_coef\n",
        "    return grads"
      ],
      "metadata": {
        "id": "NIbOy8b17Gas"
      },
      "execution_count": null,
      "outputs": []
    },
    {
      "cell_type": "markdown",
      "metadata": {
        "id": "8gRJNcwfgyJd"
      },
      "source": [
        "### RNN\n",
        "\n",
        "![rnn-unroll image](https://github.com/DeepLearningDTU/02456-deep-learning-with-PyTorch/blob/master/static_files/rnn-unfold.png?raw=1)\n",
        "\n",
        "- $x$ is the input sequence of samples,\n",
        "- $U$ is a weight matrix applied to the given input sample,\n",
        "- $V$ is a weight matrix used for the recurrent computation in order to pass memory along the sequence,\n",
        "- $W$ is a weight matrix used to compute the output of the every timestep (given that every timestep requires an output),\n",
        "- $h$ is the hidden state (the network's memory) for a given time step, and\n",
        "- $o$ is the resulting output.\n",
        "\n",
        "When the network is unrolled as shown, it is easier to refer to a timestep, $t$.\n",
        "We have the following computations through the network:\n",
        "\n",
        "- $h_t = f(U\\,{x_t} + V\\,{h_{t-1}})$, where $f$ usually is an activation function, e.g. $\\mathrm{tanh}$.\n",
        "- $o_t = \\mathrm{softmax}(W\\,{h_t})$"
      ]
    },
    {
      "cell_type": "markdown",
      "source": [
        "**In this recitation, we will implement the whole (forward/backward and training) process of the above image!**"
      ],
      "metadata": {
        "id": "HueaWEG3CnOW"
      }
    },
    {
      "cell_type": "markdown",
      "source": [
        "### RNN Variants\n",
        "\n",
        "<img src=\"https://drive.google.com/uc?export=view&id=17Zbuh5eYyq8SCSDZnlnWaFzwvO0ULhZ2\" alt=\"Drawing\" height=300 />\n",
        "\n",
        "\n",
        "\n",
        "1.   **RNN** : A recurrent neural network is a type of artificial neural network commonly used in speech recognition and natural language processing. Recurrent neural networks recognize data's sequential characteristics and use patterns to predict the next likely scenario.\n",
        "\n",
        "\n",
        "2.   **LSTM** : Long Short Term Memory (LSTMs) are predominantly used to learn, process, and classify sequential data because these networks can learn long-term dependencies between time steps of data.\n",
        "\n",
        "\n",
        "3.   **GRU** : Gated recurrent units (GRUs) are a gating mechanism in recurrent neural networks, introduced in 2014 by Kyunghyun Cho et al. The GRU is like a long short-term memory (LSTM) with a gating mechanism to input or forget certain features, but lacks a context vector or output gate, resulting in fewer parameters than LSTM.\n",
        "\n",
        "\n"
      ],
      "metadata": {
        "id": "xXlQUYT4nnTV"
      }
    },
    {
      "cell_type": "markdown",
      "source": [
        "## Build RNNs\n",
        "\n",
        "In this recitation, we will introduce a way of learning from **sequential data**. As an example, we will train a neural network to do language modelling, i.e. predict the next token in a sentence."
      ],
      "metadata": {
        "id": "h96Vd8afmNI7"
      }
    },
    {
      "cell_type": "markdown",
      "source": [
        "### Generate sequence dataset\n",
        "\n",
        "To build and train our RNN, we will create a simple dataset that we can learn from. We generate sequences of the form:\n",
        "\n",
        "`E E E E X X X X  EOS`\n",
        "\n",
        "`E E X X  EOS`\n",
        "\n",
        "`E E E E E X X X X X EOS`\n",
        "\n",
        "where EOS refers **E**nd **O**f the **S**equence."
      ],
      "metadata": {
        "id": "kgM-TsFUV7Xo"
      }
    },
    {
      "cell_type": "code",
      "source": [
        "np.random.seed(20231122)\n",
        "\n",
        "def generate_dataset(num_sequences=100):\n",
        "\n",
        "    samples = []\n",
        "    for _ in range(num_sequences):\n",
        "        num_tokens = np.random.randint(1, 10)\n",
        "        sample = ['E'] * num_tokens + ['X'] * num_tokens + ['EOS']\n",
        "        samples.append(sample)\n",
        "\n",
        "    return samples\n",
        "\n",
        "\n",
        "sequences = generate_dataset()\n",
        "\n",
        "print('A sample from the generated dataset:')\n",
        "print(sequences[0])"
      ],
      "metadata": {
        "colab": {
          "base_uri": "https://localhost:8080/"
        },
        "id": "ysG8x__MP1Fd",
        "outputId": "91441dd8-f1a5-4f8e-f44c-d785ad819099"
      },
      "execution_count": null,
      "outputs": [
        {
          "output_type": "stream",
          "name": "stdout",
          "text": [
            "A sample from the generated dataset:\n",
            "['E', 'E', 'E', 'E', 'E', 'X', 'X', 'X', 'X', 'X', 'EOS']\n"
          ]
        }
      ]
    },
    {
      "cell_type": "markdown",
      "source": [
        "### Preprocessing\n",
        "\n",
        "Now, we made our on sequence dataset. we are going to make a **dictionary** using tokens in dataset and perform **one-hot encoding**."
      ],
      "metadata": {
        "id": "wvdLBHKITv5n"
      }
    },
    {
      "cell_type": "markdown",
      "source": [
        "#### Make dictionary"
      ],
      "metadata": {
        "id": "5pcjgHdGUnqG"
      }
    },
    {
      "cell_type": "code",
      "execution_count": null,
      "metadata": {
        "id": "5pAdOvzBpfYl",
        "colab": {
          "base_uri": "https://localhost:8080/"
        },
        "outputId": "ec56cf3d-a96e-47dd-c020-25ae29d3bbe5"
      },
      "outputs": [
        {
          "output_type": "stream",
          "name": "stdout",
          "text": [
            "We have 100 sentences and 4 unique tokens in our dataset (E, X, EOS, UNK).\n",
            "\n",
            "The index of 'X' is 1\n",
            "The word corresponding to index 1 is 'X'\n"
          ]
        }
      ],
      "source": [
        "# preprocessing 1 : dictionary\n",
        "def sequences_to_dicts(sequences):\n",
        "\n",
        "    # A bit of Python-magic to flatten a nested list\n",
        "    flatten = lambda l: [item for sublist in l for item in sublist]\n",
        "\n",
        "    # Flatten the dataset\n",
        "    all_words = flatten(sequences)\n",
        "\n",
        "    # Count number of word occurences\n",
        "    word_count = defaultdict(int)\n",
        "    for word in flatten(sequences):\n",
        "        word_count[word] += 1\n",
        "\n",
        "    # Sort by frequency\n",
        "    word_count = sorted(list(word_count.items()), key=lambda l: -l[1])\n",
        "\n",
        "    # Create a list of all unique words\n",
        "    unique_words = [item[0] for item in word_count]\n",
        "\n",
        "    # Add UNK token to list of words\n",
        "    unique_words.append('UNK')\n",
        "\n",
        "    # Count number of sequences and number of unique words\n",
        "    num_sentences, vocab_size = len(sequences), len(unique_words)\n",
        "\n",
        "    # Create dictionaries so that we can go from word to index and back\n",
        "    # If a word is not in our vocabulary, we assign it to token 'UNK'\n",
        "    num_words = len(unique_words)\n",
        "    word_to_idx = defaultdict(lambda: num_words)\n",
        "    idx_to_word = defaultdict(lambda: 'UNK')\n",
        "\n",
        "    # Fill dictionaries\n",
        "    for idx, word in enumerate(unique_words):\n",
        "        # YOUR CODE HERE!\n",
        "        word_to_idx[word] = idx\n",
        "        idx_to_word[idx] = word\n",
        "\n",
        "    return word_to_idx, idx_to_word, num_sentences, vocab_size\n",
        "\n",
        "\n",
        "word_to_idx, idx_to_word, num_sequences, vocab_size = sequences_to_dicts(sequences)\n",
        "\n",
        "print(f'We have {num_sequences} sentences and {len(word_to_idx)} unique tokens in our dataset (E, X, EOS, UNK).\\n')\n",
        "print('The index of \\'X\\' is', word_to_idx['X'])\n",
        "print(f'The word corresponding to index 1 is \\'{idx_to_word[1]}\\'')"
      ]
    },
    {
      "cell_type": "markdown",
      "source": [
        "#### One-hot encoding\n",
        "\n",
        "<img src=\"https://drive.google.com/uc?export=view&id=1ZJqfIKo5nTSoD-3D0EXJrWcz2cThqzob\" alt=\"Drawing\" height=300 />\n",
        "\n",
        "**One-hot encoding** in machine learning is the conversion of categorical information into a format that may be fed into machine learning algorithms to improve prediction accuracy."
      ],
      "metadata": {
        "id": "dwCSfltgUv1d"
      }
    },
    {
      "cell_type": "code",
      "source": [
        "# preprocessing 2 : one-hot encoding\n",
        "def one_hot_encode(idx, vocab_size):\n",
        "\n",
        "    # Initialize the encoded array\n",
        "    one_hot = np.zeros(vocab_size)\n",
        "\n",
        "    # Set the appropriate element to one\n",
        "    one_hot[idx] = 1.0\n",
        "\n",
        "    return one_hot\n",
        "\n",
        "\n",
        "def one_hot_encode_sequence(sequence, vocab_size):\n",
        "\n",
        "    # Encode each word in the sentence\n",
        "    encoding = np.array([one_hot_encode(word_to_idx[word], vocab_size) for word in sequence])\n",
        "\n",
        "    # Reshape encoding s.t. it has shape (num words, vocab size, 1)\n",
        "    encoding = encoding.reshape(encoding.shape[0], encoding.shape[1], 1)\n",
        "\n",
        "    return encoding\n",
        "\n",
        "\n",
        "test_word = one_hot_encode(word_to_idx['E'], vocab_size)\n",
        "print(f'Our one-hot encoding of \\'E\\' has shape {test_word.shape}.')\n",
        "\n",
        "test_sentence = one_hot_encode_sequence(['E', 'X'], vocab_size)\n",
        "print(f'Our one-hot encoding of \\'E X\\' has shape {test_sentence.shape}.')"
      ],
      "metadata": {
        "colab": {
          "base_uri": "https://localhost:8080/"
        },
        "id": "u-DZrSnnUMeQ",
        "outputId": "f4b15b22-bf7b-48b8-ebd6-f8505f2c30fc"
      },
      "execution_count": null,
      "outputs": [
        {
          "output_type": "stream",
          "name": "stdout",
          "text": [
            "Our one-hot encoding of 'E' has shape (4,).\n",
            "Our one-hot encoding of 'E X' has shape (2, 4, 1).\n"
          ]
        }
      ]
    },
    {
      "cell_type": "markdown",
      "source": [
        "#### DataLoader (pytorch)"
      ],
      "metadata": {
        "id": "HhAtO2TB5ml9"
      }
    },
    {
      "cell_type": "code",
      "source": [
        "class Dataset(data.Dataset):\n",
        "    def __init__(self, inputs, targets):\n",
        "        self.inputs = inputs\n",
        "        self.targets = targets\n",
        "\n",
        "    def __len__(self):\n",
        "        return len(self.targets)\n",
        "\n",
        "    def __getitem__(self, index):\n",
        "        X = self.inputs[index]\n",
        "        y = self.targets[index]\n",
        "\n",
        "        return X, y\n",
        "\n",
        "def create_datasets(sequences, dataset_class, p_train=0.8, p_val=0.1, p_test=0.1):\n",
        "    num_train = int(len(sequences)*p_train)\n",
        "    num_val = int(len(sequences)*p_val)\n",
        "    num_test = int(len(sequences)*p_test)\n",
        "\n",
        "    # Split sequences into partitions\n",
        "    sequences_train = sequences[:num_train]\n",
        "    sequences_val = sequences[num_train:num_train+num_val]\n",
        "    sequences_test = sequences[-num_test:]\n",
        "\n",
        "    def get_inputs_targets_from_sequences(sequences):\n",
        "        # Define empty lists\n",
        "        inputs, targets = [], []\n",
        "\n",
        "        # Append inputs and targets s.t. both lists contain L-1 words of a sentence of length L\n",
        "        # but targets are shifted right by one so that we can predict the next word\n",
        "        for sequence in sequences:\n",
        "            inputs.append(sequence[:-1])\n",
        "            targets.append(sequence[1:])\n",
        "\n",
        "        return inputs, targets\n",
        "\n",
        "    # Get inputs and targets for each partition\n",
        "    inputs_train, targets_train = get_inputs_targets_from_sequences(sequences_train)\n",
        "    inputs_val, targets_val = get_inputs_targets_from_sequences(sequences_val)\n",
        "    inputs_test, targets_test = get_inputs_targets_from_sequences(sequences_test)\n",
        "\n",
        "    # Create datasets\n",
        "    training_set = dataset_class(inputs_train, targets_train)\n",
        "    validation_set = dataset_class(inputs_val, targets_val)\n",
        "    test_set = dataset_class(inputs_test, targets_test)\n",
        "\n",
        "    return training_set, validation_set, test_set\n",
        "\n",
        "\n",
        "training_set, validation_set, test_set = create_datasets(sequences, Dataset)\n",
        "\n",
        "print(f'We have {len(training_set)} samples in the training set.')\n",
        "print(f'We have {len(validation_set)} samples in the validation set.')\n",
        "print(f'We have {len(test_set)} samples in the test set.')"
      ],
      "metadata": {
        "id": "hzATjoiDVcFQ",
        "colab": {
          "base_uri": "https://localhost:8080/"
        },
        "outputId": "bec6e534-926d-4775-fbc9-7a7470d9c15c"
      },
      "execution_count": null,
      "outputs": [
        {
          "output_type": "stream",
          "name": "stdout",
          "text": [
            "We have 80 samples in the training set.\n",
            "We have 10 samples in the validation set.\n",
            "We have 10 samples in the test set.\n"
          ]
        }
      ]
    },
    {
      "cell_type": "markdown",
      "source": [
        "### Implement RNN components\n",
        "\n",
        "We will implement the **(1) forward pass, (2) backward pass, (3) optimization** and **(4) training loop** for a RNN."
      ],
      "metadata": {
        "id": "H1dNSbQGjTmF"
      }
    },
    {
      "cell_type": "markdown",
      "source": [
        "#### Initialize the RNN params"
      ],
      "metadata": {
        "id": "wHWveWCh6k3W"
      }
    },
    {
      "cell_type": "code",
      "execution_count": null,
      "metadata": {
        "id": "BCD1SaMuFMlF"
      },
      "outputs": [],
      "source": [
        "hidden_size = 50 # Number of dimensions in the hidden state\n",
        "vocab_size  = len(word_to_idx) # Size of the vocabulary used\n",
        "\n",
        "def init_rnn(hidden_size, vocab_size):\n",
        "    b_hidden = None\n",
        "    b_out = None\n",
        "\n",
        "    # Weight matrix (input to hidden state)\n",
        "    # YOUR CODE HERE\n",
        "    U = np.zeros((hidden_size, vocab_size))\n",
        "\n",
        "    # Weight matrix (recurrent computation)\n",
        "    # YOUR CODE HERE\n",
        "    V = np.zeros((hidden_size, hidden_size))\n",
        "\n",
        "    # Weight matrix (hidden state to output)\n",
        "    # YOUR CODE HERE\n",
        "    W = np.zeros((vocab_size, hidden_size))\n",
        "\n",
        "    # Bias (hidden state)\n",
        "    # YOUR CODE HERE\n",
        "    b_hidden = np.zeros((hidden_size, 1))\n",
        "\n",
        "    # Bias (output)\n",
        "    # YOUR CODE HERE\n",
        "    b_out = np.zeros((vocab_size, 1))\n",
        "\n",
        "    # Initialize weights\n",
        "    U = init_orthogonal(U)\n",
        "    V = init_orthogonal(V)\n",
        "    W = init_orthogonal(W)\n",
        "\n",
        "    # Return parameters as a tuple\n",
        "    return U, V, W, b_hidden, b_out\n",
        "\n",
        "\n",
        "params = init_rnn(hidden_size=hidden_size, vocab_size=vocab_size)"
      ]
    },
    {
      "cell_type": "markdown",
      "metadata": {
        "id": "xcqnuilWK7We"
      },
      "source": [
        "#### Functions in RNN\n",
        "Let's define the **sigmoid, tanh** and **softmax** functions. (Review)"
      ]
    },
    {
      "cell_type": "code",
      "source": [
        "def sigmoid(x, derivative=False):\n",
        "    x_safe = x + 1e-12\n",
        "    f = 1 / (1 + np.exp(-x_safe))\n",
        "\n",
        "    if derivative: # Backward\n",
        "        return f * (1 - f)\n",
        "    else: # Forward\n",
        "        return f"
      ],
      "metadata": {
        "id": "NG6EyzDZcUPF"
      },
      "execution_count": null,
      "outputs": []
    },
    {
      "cell_type": "code",
      "source": [
        "def tanh(x, derivative=False):\n",
        "    x_safe = x + 1e-12\n",
        "    f = (np.exp(x_safe)-np.exp(-x_safe))/(np.exp(x_safe)+np.exp(-x_safe))\n",
        "    if derivative:  # Backward\n",
        "        return 1-f**2\n",
        "    else: # Forward\n",
        "        return f"
      ],
      "metadata": {
        "id": "rrPwQw9xfTZE"
      },
      "execution_count": null,
      "outputs": []
    },
    {
      "cell_type": "code",
      "source": [
        "def softmax(x, derivative=False):\n",
        "    x_safe = x + 1e-12\n",
        "    f = np.exp(x_safe) / np.sum(np.exp(x_safe))\n",
        "\n",
        "    if derivative: # Backward\n",
        "        pass # We will not need this one\n",
        "    else: # Forward\n",
        "        return f"
      ],
      "metadata": {
        "id": "-evOfRB87-c9"
      },
      "execution_count": null,
      "outputs": []
    },
    {
      "cell_type": "markdown",
      "source": [
        "#### RNN Forward\n",
        "\n",
        "Implement the forward pass of RNN."
      ],
      "metadata": {
        "id": "n01QztQptDo0"
      }
    },
    {
      "cell_type": "code",
      "source": [
        "def forward_pass(inputs, hidden_state, params):\n",
        "\n",
        "    # First we unpack our parameters\n",
        "    U, V, W, b_hidden, b_out = params\n",
        "\n",
        "    # Create a list to store outputs and hidden states\n",
        "    outputs, hidden_states = [], []\n",
        "\n",
        "    # ---------------------------------------------------------------------------------------- #\n",
        "    # For each element in input sequence\n",
        "    for t in range(len(inputs)):\n",
        "\n",
        "        # Compute new hidden state\n",
        "        # YOUR CODE HERE\n",
        "        hidden_state = tanh(np.dot(U, inputs[t]) + np.dot(V, hidden_state) + b_hidden)\n",
        "\n",
        "        # Compute output\n",
        "        # YOUR CODE HERE\n",
        "        out = softmax(np.dot(W, hidden_state) + b_out)\n",
        "\n",
        "        # Save results and continue\n",
        "        outputs.append(out)\n",
        "        hidden_states.append(hidden_state.copy())\n",
        "\n",
        "    return outputs, hidden_states\n",
        "    # --------------------------------------------------------------------------------------- #\n",
        "\n",
        "\n",
        "## Inferecne with initialized params\n",
        "\n",
        "# Get first sequence in training set\n",
        "test_input_sequence, test_target_sequence = training_set[0]\n",
        "\n",
        "# One-hot encode input and target sequence\n",
        "test_input = one_hot_encode_sequence(test_input_sequence, vocab_size)\n",
        "test_target = one_hot_encode_sequence(test_target_sequence, vocab_size)\n",
        "\n",
        "# Initialize hidden state as zeros\n",
        "hidden_state = np.zeros((hidden_size, 1))\n",
        "\n",
        "# Now let's try out our new function\n",
        "outputs, hidden_states = forward_pass(test_input, hidden_state, params)\n",
        "\n",
        "print('Input sequence:')\n",
        "print(test_input_sequence)\n",
        "\n",
        "print('\\nTarget sequence:')\n",
        "print(test_target_sequence)\n",
        "\n",
        "print('\\nPredicted sequence:')\n",
        "print([idx_to_word[np.argmax(output)] for output in outputs])"
      ],
      "metadata": {
        "id": "Q4GkeTp5SO26",
        "colab": {
          "base_uri": "https://localhost:8080/"
        },
        "outputId": "f6e42bbd-0d30-428b-c429-bf994641cd02"
      },
      "execution_count": null,
      "outputs": [
        {
          "output_type": "stream",
          "name": "stdout",
          "text": [
            "Input sequence:\n",
            "['E', 'E', 'E', 'E', 'E', 'X', 'X', 'X', 'X', 'X']\n",
            "\n",
            "Target sequence:\n",
            "['E', 'E', 'E', 'E', 'X', 'X', 'X', 'X', 'X', 'EOS']\n",
            "\n",
            "Predicted sequence:\n",
            "['X', 'UNK', 'UNK', 'X', 'X', 'UNK', 'UNK', 'X', 'UNK', 'UNK']\n"
          ]
        }
      ]
    },
    {
      "cell_type": "markdown",
      "source": [
        "#### RNN Backward\n",
        "\n",
        "Implement the backward pass of RNN."
      ],
      "metadata": {
        "id": "rwyqKPN9tw7i"
      }
    },
    {
      "cell_type": "code",
      "source": [
        "def backward_pass(inputs, outputs, hidden_states, targets, params):\n",
        "\n",
        "    # First we unpack our parameters\n",
        "    U, V, W, b_hidden, b_out = params\n",
        "\n",
        "    # Initialize gradients as zero\n",
        "    d_U, d_V, d_W = np.zeros_like(U), np.zeros_like(V), np.zeros_like(W)\n",
        "    d_b_hidden, d_b_out = np.zeros_like(b_hidden), np.zeros_like(b_out)\n",
        "\n",
        "    # Keep track of hidden state derivative and loss\n",
        "    d_h_next = np.zeros_like(hidden_states[0])\n",
        "    loss = 0\n",
        "\n",
        "\n",
        "    # --------------------------------------------------------------------------------------- #\n",
        "    for t in reversed(range(len(outputs))):\n",
        "\n",
        "        # Compute cross-entropy loss (as a scalar)\n",
        "        # YOUR CODE HERE\n",
        "        loss += -np.mean(np.log(outputs[t]+1e-12) * targets[t])\n",
        "\n",
        "        # Backpropagate into output (derivative of cross-entropy)\n",
        "        # YOUR CODE HERE\n",
        "        d_o = outputs[t].copy()\n",
        "        d_o[np.argmax(targets[t])] -= 1\n",
        "\n",
        "        # Backpropagate into W\n",
        "        # YOUR CODE HERE\n",
        "        d_W += np.dot(d_o, hidden_states[t].T)\n",
        "        d_b_out += d_o\n",
        "\n",
        "        # Backpropagate into h\n",
        "        # YOUR CODE HERE\n",
        "        d_h = np.dot(W.T, d_o) + d_h_next\n",
        "\n",
        "        # Backpropagate through non-linearity\n",
        "        d_f = tanh(hidden_states[t], derivative=True) * d_h\n",
        "        d_b_hidden += d_f\n",
        "\n",
        "        # Backpropagate into U\n",
        "        # YOUR CODE HERE\n",
        "        d_U += np.dot(d_f, inputs[t].T)\n",
        "\n",
        "        # Backpropagate into V\n",
        "        # YOUR CODE HERE\n",
        "        d_V += np.dot(d_f, hidden_states[t-1].T)\n",
        "        d_h_next = np.dot(V.T, d_f)\n",
        "    # --------------------------------------------------------------------------------------- #\n",
        "\n",
        "\n",
        "    # Pack gradients\n",
        "    grads = d_U, d_V, d_W, d_b_hidden, d_b_out\n",
        "\n",
        "    # Clip gradients\n",
        "    grads = clip_gradient_norm(grads)\n",
        "\n",
        "    return loss, grads\n",
        "\n",
        "loss, grads = backward_pass(test_input, outputs, hidden_states, test_target, params)\n",
        "\n",
        "print(f'Loss : {loss:.4f}')"
      ],
      "metadata": {
        "id": "yMGZgLMsfHfq",
        "colab": {
          "base_uri": "https://localhost:8080/"
        },
        "outputId": "047f5783-093e-4b79-eb89-dc055829cb96"
      },
      "execution_count": null,
      "outputs": [
        {
          "output_type": "stream",
          "name": "stdout",
          "text": [
            "Loss : 3.5042\n"
          ]
        }
      ]
    },
    {
      "cell_type": "markdown",
      "source": [
        "#### Optimization (Gradient Descent)\n",
        "\n",
        "Remeber the formular of the **gradinet descent**."
      ],
      "metadata": {
        "id": "vpwkylze9lpV"
      }
    },
    {
      "cell_type": "code",
      "source": [
        "def update_parameters(params, grads, lr=1e-3):\n",
        "    for param, grad in zip(params, grads):\n",
        "        param -= lr * grad\n",
        "\n",
        "    return params"
      ],
      "metadata": {
        "id": "rs3x7Zu5iYxi"
      },
      "execution_count": null,
      "outputs": []
    },
    {
      "cell_type": "markdown",
      "source": [
        "#### Training Loop\n",
        "\n",
        "Let's make a full training loop with a forward pass, backward pass, optimization step and validation."
      ],
      "metadata": {
        "id": "8s4rsT-x-FNd"
      }
    },
    {
      "cell_type": "code",
      "source": [
        "# Hyper-parameters\n",
        "num_epochs = 500\n",
        "\n",
        "# Initialize a new network\n",
        "params = init_rnn(hidden_size=hidden_size, vocab_size=vocab_size)\n",
        "\n",
        "# Initialize hidden state as zeros\n",
        "hidden_state = np.zeros((hidden_size, 1))\n",
        "\n",
        "# Track loss\n",
        "training_loss, validation_loss = [], []\n",
        "\n",
        "# For each epoch\n",
        "for i in range(num_epochs):\n",
        "\n",
        "    # Track loss\n",
        "    epoch_training_loss = 0\n",
        "    epoch_validation_loss = 0\n",
        "\n",
        "     # For each sentence in validation set\n",
        "    for inputs, targets in validation_set:\n",
        "\n",
        "        # One-hot encode input and target sequence\n",
        "        inputs_one_hot = one_hot_encode_sequence(inputs, vocab_size)\n",
        "        targets_one_hot = one_hot_encode_sequence(targets, vocab_size)\n",
        "\n",
        "        # Re-initialize hidden state\n",
        "        hidden_state = np.zeros_like(hidden_state)\n",
        "\n",
        "        # Forward pass\n",
        "        # YOUR CODE HERE\n",
        "        outputs, hidden_states = forward_pass(inputs_one_hot, hidden_state, params)\n",
        "\n",
        "        # Backward pass\n",
        "        # YOUR CODE HERE\n",
        "        loss, _ = backward_pass(inputs_one_hot, outputs, hidden_states, targets_one_hot, params)\n",
        "\n",
        "        # Update loss\n",
        "        epoch_validation_loss += loss\n",
        "\n",
        "    # For each sentence in training set\n",
        "    for inputs, targets in training_set:\n",
        "\n",
        "        # One-hot encode input and target sequence\n",
        "        inputs_one_hot = one_hot_encode_sequence(inputs, vocab_size)\n",
        "        targets_one_hot = one_hot_encode_sequence(targets, vocab_size)\n",
        "\n",
        "        # Re-initialize hidden state\n",
        "        hidden_state = np.zeros_like(hidden_state)\n",
        "\n",
        "        # Forward pass\n",
        "        # YOUR CODE HERE\n",
        "        outputs, hidden_states = forward_pass(inputs_one_hot, hidden_state, params)\n",
        "\n",
        "        # Backward pass\n",
        "        # YOUR CODE HERE\n",
        "        loss, grads = backward_pass(inputs_one_hot, outputs, hidden_states, targets_one_hot, params)\n",
        "\n",
        "        if np.isnan(loss):\n",
        "            raise ValueError('Gradients have vanished!')\n",
        "\n",
        "        # Update parameters\n",
        "        params = update_parameters(params, grads, lr=3e-4)\n",
        "\n",
        "        # Update loss\n",
        "        epoch_training_loss += loss\n",
        "\n",
        "    # Save loss for plot\n",
        "    training_loss.append(epoch_training_loss/len(training_set))\n",
        "    validation_loss.append(epoch_validation_loss/len(validation_set))\n",
        "\n",
        "    # Print loss every 100 epochs\n",
        "    if i % 100 == 0:\n",
        "        print(f'Epoch {i}, training loss: {training_loss[-1]}, validation loss: {validation_loss[-1]}')"
      ],
      "metadata": {
        "id": "41INauq2SNOy",
        "colab": {
          "base_uri": "https://localhost:8080/"
        },
        "outputId": "1ea01643-6237-4f4d-888a-d2738bddb542"
      },
      "execution_count": null,
      "outputs": [
        {
          "output_type": "stream",
          "name": "stdout",
          "text": [
            "Epoch 0, training loss: 3.593073623848606, validation loss: 3.266610731440963\n",
            "Epoch 100, training loss: 2.4091964391849197, validation loss: 2.2189821179158664\n",
            "Epoch 200, training loss: 1.967248884761218, validation loss: 1.8469280514481592\n",
            "Epoch 300, training loss: 1.6884157456567788, validation loss: 1.6228366967623238\n",
            "Epoch 400, training loss: 1.53146776069237, validation loss: 1.5032632043672693\n"
          ]
        }
      ]
    },
    {
      "cell_type": "markdown",
      "source": [
        "### Inference"
      ],
      "metadata": {
        "id": "ymuhL_D9A9G2"
      }
    },
    {
      "cell_type": "code",
      "source": [
        "# Get first sentence in test set\n",
        "import random\n",
        "n = random.randint(0, 5)\n",
        "inputs, targets = test_set[n]\n",
        "\n",
        "# One-hot encode input and target sequence\n",
        "inputs_one_hot = one_hot_encode_sequence(inputs, vocab_size)\n",
        "targets_one_hot = one_hot_encode_sequence(targets, vocab_size)\n",
        "\n",
        "# Initialize hidden state as zeros\n",
        "hidden_state = np.zeros((hidden_size, 1))\n",
        "\n",
        "# Forward pass\n",
        "outputs, hidden_states = forward_pass(inputs_one_hot, hidden_state, params)\n",
        "output_sentence = [idx_to_word[np.argmax(output)] for output in outputs]\n",
        "print('Input sentence:')\n",
        "print(inputs)\n",
        "\n",
        "print('\\nTarget sequence:')\n",
        "print(targets)\n",
        "\n",
        "print('\\nPredicted sequence:')\n",
        "print([idx_to_word[np.argmax(output)] for output in outputs])"
      ],
      "metadata": {
        "colab": {
          "base_uri": "https://localhost:8080/"
        },
        "id": "QCCGiu-aAOfm",
        "outputId": "a4476ed3-edce-43cd-938f-382651f76c06"
      },
      "execution_count": null,
      "outputs": [
        {
          "output_type": "stream",
          "name": "stdout",
          "text": [
            "Input sentence:\n",
            "['E', 'E', 'E', 'X', 'X', 'X']\n",
            "\n",
            "Target sequence:\n",
            "['E', 'E', 'X', 'X', 'X', 'EOS']\n",
            "\n",
            "Predicted sequence:\n",
            "['E', 'E', 'E', 'X', 'X', 'X']\n"
          ]
        }
      ]
    },
    {
      "cell_type": "markdown",
      "source": [
        "### Visualize the training process"
      ],
      "metadata": {
        "id": "7J1452IhBA-V"
      }
    },
    {
      "cell_type": "code",
      "source": [
        "# Plot training and validation loss\n",
        "epoch = np.arange(len(training_loss))\n",
        "plt.figure()\n",
        "plt.plot(epoch, training_loss, 'g', label='Training loss',)\n",
        "plt.plot(epoch, validation_loss, 'r', label='Validation loss')\n",
        "plt.legend()\n",
        "plt.xlabel('Epoch'), plt.ylabel('NLL')\n",
        "plt.show()"
      ],
      "metadata": {
        "colab": {
          "base_uri": "https://localhost:8080/",
          "height": 449
        },
        "id": "WlKKVipi_pm0",
        "outputId": "96984ee8-e696-4645-8c4d-4d0ab4afe644"
      },
      "execution_count": null,
      "outputs": [
        {
          "output_type": "display_data",
          "data": {
            "text/plain": [
              "<Figure size 640x480 with 1 Axes>"
            ],
            "image/png": "[encoded data removed]"
          },
          "metadata": {}
        }
      ]
    }
  ],
  "metadata": {
    "colab": {
      "provenance": [],
      "toc_visible": true
    },
    "kernelspec": {
      "display_name": "Python 3",
      "name": "python3"
    },
    "language_info": {
      "name": "python"
    }
  },
  "nbformat": 4,
  "nbformat_minor": 0
}