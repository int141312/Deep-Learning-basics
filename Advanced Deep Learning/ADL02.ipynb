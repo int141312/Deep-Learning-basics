{
 "cells": [
  {
   "cell_type": "code",
   "execution_count": 1,
   "metadata": {},
   "outputs": [],
   "source": [
    "import torch\n",
    "import torch.nn as nn"
   ]
  },
  {
   "cell_type": "code",
   "execution_count": 2,
   "metadata": {},
   "outputs": [
    {
     "data": {
      "text/plain": [
       "'2.0.1+cu117'"
      ]
     },
     "execution_count": 2,
     "metadata": {},
     "output_type": "execute_result"
    }
   ],
   "source": [
    "torch.__version__"
   ]
  },
  {
   "cell_type": "code",
   "execution_count": 5,
   "metadata": {},
   "outputs": [],
   "source": [
    "#pip install torchtext"
   ]
  },
  {
   "cell_type": "code",
   "execution_count": 8,
   "metadata": {},
   "outputs": [
    {
     "name": "stdout",
     "output_type": "stream",
     "text": [
      "Collecting portalocker>=2.0.0\n",
      "  Downloading portalocker-2.8.2-py3-none-any.whl (17 kB)\n",
      "Installing collected packages: portalocker\n",
      "Successfully installed portalocker-2.8.2\n",
      "Note: you may need to restart the kernel to use updated packages.\n"
     ]
    }
   ],
   "source": [
    "#pip install 'portalocker>=2.0.0'"
   ]
  },
  {
   "cell_type": "code",
   "execution_count": 1,
   "metadata": {},
   "outputs": [
    {
     "data": {
      "text/plain": [
       "'0.15.2+cpu'"
      ]
     },
     "execution_count": 1,
     "metadata": {},
     "output_type": "execute_result"
    }
   ],
   "source": [
    "import torchtext\n",
    "torchtext.__version__"
   ]
  },
  {
   "cell_type": "code",
   "execution_count": 2,
   "metadata": {},
   "outputs": [
    {
     "name": "stdout",
     "output_type": "stream",
     "text": [
      "(3, \"Wall St. Bears Claw Back Into the Black (Reuters) Reuters - Short-sellers, Wall Street's dwindling\\\\band of ultra-cynics, are seeing green again.\")\n",
      "266\n"
     ]
    }
   ],
   "source": [
    "import torch\n",
    "from torchtext.datasets import AG_NEWS\n",
    "\n",
    "trainset, testset = AG_NEWS(root='./data', split=('train', 'test'))\n",
    "train_iter = iter(AG_NEWS(split='train'))\n",
    "\n",
    "print(next(train_iter)) \n",
    "print(len(next(train_iter)[1])) # print the length of the sentence"
   ]
  },
  {
   "cell_type": "code",
   "execution_count": 3,
   "metadata": {},
   "outputs": [
    {
     "name": "stdout",
     "output_type": "stream",
     "text": [
      "[475, 21, 30, 5297]\n",
      "[475, 21, 30, 5297]\n",
      "3\n"
     ]
    }
   ],
   "source": [
    "from torchtext.data.utils import get_tokenizer\n",
    "from torchtext.vocab import build_vocab_from_iterator\n",
    "\n",
    "tokenizer = get_tokenizer('basic_english')\n",
    "\n",
    "def yield_tokens(data_iter):\n",
    "    for _, text in data_iter:\n",
    "        yield tokenizer(text)\n",
    "\n",
    "vocab = build_vocab_from_iterator(yield_tokens(trainset), specials=[\"<unk>\"], min_freq=50)\n",
    "vocab.set_default_index(vocab[\"<unk>\"])\n",
    "\n",
    "print(vocab(['here', 'is', 'an', 'example']))\n",
    "\n",
    "text_pipeline = lambda x: vocab(tokenizer(x))\n",
    "label_pipeline = lambda x: int(x) - 1\n",
    "\n",
    "print(text_pipeline('here is an example'))\n",
    "print(label_pipeline('4'))"
   ]
  },
  {
   "cell_type": "code",
   "execution_count": 4,
   "metadata": {},
   "outputs": [
    {
     "name": "stdout",
     "output_type": "stream",
     "text": [
      "cuda\n"
     ]
    }
   ],
   "source": [
    "import torch\n",
    "import numpy as np\n",
    "\n",
    "from torch.utils.data import DataLoader\n",
    "from torch.utils.data.dataset import random_split\n",
    "from torchtext.data.functional import to_map_style_dataset\n",
    "\n",
    "device = torch.device(\"cuda\" if torch.cuda.is_available() else \"cpu\")\n",
    "\n",
    "print(device)\n",
    "\n",
    "def vectorize_sequences(sequences, dimension=10000):\n",
    "    results = np.zeros((len(sequences), dimension))\n",
    "    for i, sequence in enumerate(sequences):\n",
    "        if sequence<10000:\n",
    "            results[i, sequence] = 1.  # set specific indices of results[i] to 1s\n",
    "    return results\n",
    "\n",
    "\n",
    "def collate_batch(batch): \n",
    "    label_list, text_list, offsets = [], [], [0]\n",
    "    for (_label, _text) in batch:\n",
    "         label_list.append(label_pipeline(_label))\n",
    "         processed_text = text_pipeline(_text)\n",
    "         processed_text = torch.tensor(vectorize_sequences(processed_text))\n",
    "         processed_text = torch.sum(processed_text, dim=0)\n",
    "         processed_text = torch.where(processed_text>0, torch.ones_like(processed_text), torch.zeros_like(processed_text))\n",
    "        #  print(torch.tensor(_label).shape, processed_text.shape)\n",
    "         text_list.append(processed_text.view(-1, 10000))\n",
    "         offsets.append(processed_text.size(0))\n",
    "    label_list = torch.tensor(label_list, dtype=torch.int64)\n",
    "    offsets = torch.tensor(offsets[:-1]).cumsum(dim=0)\n",
    "    # print(len(text_list))\n",
    "    text_list = torch.cat(text_list, dim=0).float()\n",
    "    # print(text_list.shape)\n",
    "    return label_list.to(device), text_list.to(device)#, offsets.to(device)\n",
    "\n",
    "train_iter, test_iter = AG_NEWS()\n",
    "train_dataset = to_map_style_dataset(train_iter)\n",
    "test_dataset = to_map_style_dataset(test_iter)\n",
    "\n",
    "split_train_, split_valid_ = \\\n",
    "    random_split(train_dataset, [60000, 60000])\n",
    "\n",
    "train_dataloader = DataLoader(split_train_, batch_size=128,\n",
    "                              shuffle=True, collate_fn=collate_batch)\n",
    "valid_dataloader = DataLoader(split_valid_, batch_size=128,\n",
    "                              shuffle=False, collate_fn=collate_batch)\n",
    "test_dataloader = DataLoader(test_dataset, batch_size=128,\n",
    "                             shuffle=False, collate_fn=collate_batch)"
   ]
  },
  {
   "cell_type": "code",
   "execution_count": 5,
   "metadata": {},
   "outputs": [],
   "source": [
    "# NN model design\n",
    "\n",
    "import torch.nn as nn\n",
    "import torch.optim as optim\n",
    "\n",
    "class Model(nn.Module):\n",
    "    def __init__(self):\n",
    "        super().__init__()\n",
    "        self.fc1 = nn.Linear(10000, 1024)\n",
    "        self.act1 = nn.ReLU()\n",
    "        self.fc2 = nn.Linear(1024, 256)\n",
    "        self.act2 = nn.ReLU()\n",
    "        # self.fc3 = nn.Linear(256, 256)\n",
    "        # self.act3 = nn.ReLU()\n",
    "        self.fc4 = nn.Linear(256, 4)\n",
    "        # there is no softmax function since softmax function will be automatically applied inside of the cross-entropy loss provided by pytorch\n",
    "\n",
    "\n",
    "    def forward(self, x):\n",
    "        x = self.act1(self.fc1(x))\n",
    "        x = self.act2(self.fc2(x))\n",
    "        # x = self.act3(self.fc3(x))\n",
    "        x = self.fc4(x)\n",
    "\n",
    "        return x\n",
    "        \n",
    "model = Model()\n",
    "model.to(device)\n",
    "\n",
    "\n",
    "optimizer = optim.RMSprop(params = model.parameters(), lr = 0.001, momentum=0.9)\n",
    "criterion = nn.CrossEntropyLoss()"
   ]
  },
  {
   "cell_type": "code",
   "execution_count": 6,
   "metadata": {},
   "outputs": [
    {
     "name": "stdout",
     "output_type": "stream",
     "text": [
      "[1,   469] loss: 0.399, accuracy: 0.8756, val_loss: 0.281, valid accuracy: 0.9075\n",
      "[2,   469] loss: 0.184, accuracy: 0.9403, val_loss: 0.312, valid accuracy: 0.9073\n",
      "[3,   469] loss: 0.077, accuracy: 0.9748, val_loss: 0.461, valid accuracy: 0.9047\n",
      "[4,   469] loss: 0.042, accuracy: 0.9886, val_loss: 0.610, valid accuracy: 0.8999\n",
      "[5,   469] loss: 0.031, accuracy: 0.9928, val_loss: 0.672, valid accuracy: 0.9037\n",
      "[6,   469] loss: 0.024, accuracy: 0.9949, val_loss: 0.916, valid accuracy: 0.8996\n",
      "[7,   469] loss: 0.023, accuracy: 0.9953, val_loss: 0.975, valid accuracy: 0.9032\n",
      "[8,   469] loss: 0.022, accuracy: 0.9963, val_loss: 0.898, valid accuracy: 0.8996\n",
      "[9,   469] loss: 0.018, accuracy: 0.9965, val_loss: 1.126, valid accuracy: 0.8968\n",
      "[10,   469] loss: 0.023, accuracy: 0.9968, val_loss: 1.205, valid accuracy: 0.8988\n",
      "Finished Training\n"
     ]
    }
   ],
   "source": [
    "# 학습\n",
    "history = {'loss':[], 'acc':[], 'val_loss':[], 'val_acc':[]}\n",
    "\n",
    "for epoch in range(10):\n",
    "    running_loss = 0.0\n",
    "    running_correct = 0\n",
    "    running_total = 0\n",
    "\n",
    "    running_val_loss = 0.0\n",
    "    running_val_correct = 0\n",
    "    running_val_total = 0\n",
    "    for i, data in enumerate(train_dataloader):\n",
    "        # get the inputs; data is a list of [labels, inputs]\n",
    "        labels, inputs = data\n",
    "        inputs = inputs.to(device)\n",
    "        labels = labels.to(device)\n",
    "        # print(labels)\n",
    "        # print(inputs.shape)\n",
    "\n",
    "        # zero the parameter gradients\n",
    "        optimizer.zero_grad()\n",
    "\n",
    "        # forward + backward + optimize\n",
    "        outputs = model(inputs)\n",
    "        loss = criterion(outputs, labels)\n",
    "        loss.backward()\n",
    "        optimizer.step()\n",
    "\n",
    "        _, preds = outputs.max(dim=1)\n",
    "        # print(preds)\n",
    "        # print statistics\n",
    "        running_loss += loss.item()\n",
    "        running_correct += (preds == labels).sum()\n",
    "        running_total += labels.size(0)\n",
    "        # print(running_correct/running_total)\n",
    "\n",
    "\n",
    "    for i, data in enumerate(valid_dataloader):\n",
    "        labels, inputs = data\n",
    "        inputs = inputs.to(device)\n",
    "        labels = labels.to(device)\n",
    "\n",
    "        with torch.no_grad():\n",
    "            outputs = model(inputs)\n",
    "            loss = criterion(outputs, labels)\n",
    "            _, preds = outputs.max(dim=1)\n",
    "\n",
    "        running_val_loss += loss.item()\n",
    "        running_val_correct += (preds == labels).sum()          \n",
    "        running_val_total += labels.size(0)\n",
    "\n",
    "    print(f'[{epoch + 1}, {i + 1:5d}] loss: {running_loss / len(train_dataloader):.3f}, accuracy: {running_correct/running_total:.4f}, val_loss: {running_val_loss / len(valid_dataloader):.3f}, valid accuracy: {running_val_correct/running_val_total:.4f}')\n",
    "\n",
    "    history['loss'].append(running_loss / len(train_dataloader))\n",
    "    history['acc'].append((running_correct/running_total).item())\n",
    "    history['val_loss'].append(running_val_loss / len(valid_dataloader))\n",
    "    history['val_acc'].append((running_val_correct/running_val_total).item())\n",
    "\n",
    "    # print(outputs)\n",
    "print('Finished Training')"
   ]
  },
  {
   "cell_type": "code",
   "execution_count": 7,
   "metadata": {},
   "outputs": [
    {
     "data": {
      "image/png": "[encoded data removed]",
      "text/plain": [
       "<Figure size 432x288 with 1 Axes>"
      ]
     },
     "metadata": {
      "needs_background": "light"
     },
     "output_type": "display_data"
    },
    {
     "data": {
      "image/png": "[encoded data removed]",
      "text/plain": [
       "<Figure size 432x288 with 1 Axes>"
      ]
     },
     "metadata": {
      "needs_background": "light"
     },
     "output_type": "display_data"
    }
   ],
   "source": [
    "# 시각화\n",
    "\n",
    "import matplotlib.pyplot as plt\n",
    "\n",
    "loss = history['loss']\n",
    "val_loss = history['val_loss']\n",
    "\n",
    "epochs = range(1, len(loss) + 1)\n",
    "\n",
    "plt.plot(epochs, loss, 'bo', label='Training loss')\n",
    "plt.plot(epochs, val_loss, 'b', label='Validation loss')\n",
    "plt.title('Training and validation loss')\n",
    "plt.xlabel('Epochs')\n",
    "plt.ylabel('Loss')\n",
    "plt.legend()\n",
    "\n",
    "plt.show()\n",
    "\n",
    "plt.clf()   # clear figure\n",
    "\n",
    "acc = history['acc']\n",
    "val_acc = history['val_acc']\n",
    "\n",
    "plt.plot(epochs, acc, 'bo', label='Training acc')\n",
    "plt.plot(epochs, val_acc, 'b', label='Validation acc')\n",
    "plt.title('Training and validation accuracy')\n",
    "plt.xlabel('Epochs')\n",
    "plt.ylabel('Loss')\n",
    "plt.legend()\n",
    "\n",
    "plt.show()"
   ]
  },
  {
   "cell_type": "code",
   "execution_count": 8,
   "metadata": {},
   "outputs": [
    {
     "name": "stdout",
     "output_type": "stream",
     "text": [
      "test loss: 0.178, test accuracy: 0.8967\n"
     ]
    }
   ],
   "source": [
    "# Test set에서 모델 성능 확인\n",
    "\n",
    "running_test_loss = 0\n",
    "running_test_correct = 0\n",
    "running_test_total = 0\n",
    "\n",
    "\n",
    "for i, data in enumerate(test_dataloader):\n",
    "    labels, inputs = data\n",
    "    inputs = inputs.to(device)\n",
    "    labels = labels.to(device)\n",
    "\n",
    "    with torch.no_grad():\n",
    "        outputs = model(inputs)\n",
    "        loss = criterion(outputs, labels)\n",
    "        _, preds = outputs.max(dim=1)\n",
    "\n",
    "    running_test_loss += loss.item()\n",
    "    running_test_correct += (preds == labels).sum()          \n",
    "    running_test_total += labels.size(0)\n",
    "\n",
    "print(f'test loss: {running_loss / len(test_dataloader):.3f}, test accuracy: {running_test_correct/running_test_total:.4f}')"
   ]
  },
  {
   "cell_type": "code",
   "execution_count": 9,
   "metadata": {},
   "outputs": [
    {
     "name": "stdout",
     "output_type": "stream",
     "text": [
      "tensor([ -7.9926, -20.9566,  15.2954,  -9.7159], device='cuda:0',\n",
      "       grad_fn=<SelectBackward0>) torch.Size([4])\n",
      "tensor([7.6940e-11, 1.8029e-16, 1.0000e+00, 1.3732e-11], device='cuda:0',\n",
      "       grad_fn=<SelectBackward0>) torch.Size([4])\n"
     ]
    }
   ],
   "source": [
    "\n",
    "data = next(iter(test_dataloader))\n",
    "labels, inputs = data\n",
    "inputs = inputs.to(device)\n",
    "labels = labels.to(device)\n",
    "\n",
    "predictions = model(inputs)\n",
    "print(predictions[0], predictions[0].shape)\n",
    "softmax_predictions = torch.softmax(predictions, dim=1)\n",
    "print(softmax_predictions[0], softmax_predictions[0].shape)"
   ]
  },
  {
   "cell_type": "markdown",
   "metadata": {},
   "source": [
    "### On the importance of having sufficiently large intermediate layers"
   ]
  },
  {
   "cell_type": "code",
   "execution_count": 10,
   "metadata": {},
   "outputs": [],
   "source": [
    "import torch.nn as nn\n",
    "import torch.optim as optim\n",
    "\n",
    "\n",
    "class Model(nn.Module):\n",
    "    def __init__(self):\n",
    "        super().__init__()\n",
    "        self.fc1 = nn.Linear(10000, 64)\n",
    "        self.act1 = nn.ReLU()\n",
    "        self.fc2 = nn.Linear(64, 4)\n",
    "        self.act2 = nn.ReLU()\n",
    "        self.fc3 = nn.Linear(4, 4)\n",
    "        # there is no softmax function since softmax function will be automatically applied inside of the cross-entropy loss provided by pytorch\n",
    "\n",
    "\n",
    "    def forward(self, x):\n",
    "        x = self.act1(self.fc1(x))\n",
    "        x = self.act2(self.fc2(x))\n",
    "        x = self.fc3(x)\n",
    "\n",
    "        return x\n",
    "        \n",
    "model = Model()\n",
    "model.to(device)\n",
    "\n",
    "\n",
    "optimizer = optim.RMSprop(params = model.parameters(), lr = 0.001, momentum=0.9)\n",
    "criterion = nn.CrossEntropyLoss()"
   ]
  },
  {
   "cell_type": "code",
   "execution_count": 11,
   "metadata": {},
   "outputs": [
    {
     "name": "stdout",
     "output_type": "stream",
     "text": [
      "[1,   469] loss: 0.427, accuracy: 0.8582, val_loss: 0.321, valid accuracy: 0.8990\n",
      "[2,   469] loss: 0.232, accuracy: 0.9256, val_loss: 0.342, valid accuracy: 0.8987\n",
      "[3,   469] loss: 0.155, accuracy: 0.9510, val_loss: 0.397, valid accuracy: 0.8918\n",
      "[4,   469] loss: 0.105, accuracy: 0.9692, val_loss: 0.526, valid accuracy: 0.8895\n",
      "[5,   469] loss: 0.078, accuracy: 0.9787, val_loss: 0.658, valid accuracy: 0.8854\n",
      "[6,   469] loss: 0.063, accuracy: 0.9835, val_loss: 0.812, valid accuracy: 0.8870\n",
      "[7,   469] loss: 0.054, accuracy: 0.9865, val_loss: 0.828, valid accuracy: 0.8844\n",
      "[8,   469] loss: 0.051, accuracy: 0.9876, val_loss: 0.846, valid accuracy: 0.8807\n",
      "[9,   469] loss: 0.048, accuracy: 0.9884, val_loss: 0.888, valid accuracy: 0.8813\n",
      "[10,   469] loss: 0.049, accuracy: 0.9875, val_loss: 0.879, valid accuracy: 0.8796\n",
      "Finished Training\n"
     ]
    }
   ],
   "source": [
    "history = {'loss':[], 'acc':[], 'val_loss':[], 'val_acc':[]}\n",
    "\n",
    "for epoch in range(10):\n",
    "    running_loss = 0.0\n",
    "    running_correct = 0\n",
    "    running_total = 0\n",
    "\n",
    "    running_val_loss = 0.0\n",
    "    running_val_correct = 0\n",
    "    running_val_total = 0\n",
    "    for i, data in enumerate(train_dataloader):\n",
    "        # get the inputs; data is a list of [labels, inputs]\n",
    "        labels, inputs = data\n",
    "        inputs = inputs.to(device)\n",
    "        labels = labels.to(device)\n",
    "        # print(labels)\n",
    "        # print(inputs.shape)\n",
    "\n",
    "        # zero the parameter gradients\n",
    "        optimizer.zero_grad()\n",
    "\n",
    "        # forward + backward + optimize\n",
    "        outputs = model(inputs)\n",
    "        loss = criterion(outputs, labels)\n",
    "        loss.backward()\n",
    "        optimizer.step()\n",
    "\n",
    "        _, preds = outputs.max(dim=1)\n",
    "        # print(preds)\n",
    "        # print statistics\n",
    "        running_loss += loss.item()\n",
    "        running_correct += (preds == labels).sum()\n",
    "        running_total += labels.size(0)\n",
    "        # print(running_correct/running_total)\n",
    "\n",
    "\n",
    "    for i, data in enumerate(valid_dataloader):\n",
    "        labels, inputs = data\n",
    "        inputs = inputs.to(device)\n",
    "        labels = labels.to(device)\n",
    "\n",
    "        with torch.no_grad():\n",
    "            outputs = model(inputs)\n",
    "            loss = criterion(outputs, labels)\n",
    "            _, preds = outputs.max(dim=1)\n",
    "\n",
    "        running_val_loss += loss.item()\n",
    "        running_val_correct += (preds == labels).sum()          \n",
    "        running_val_total += labels.size(0)\n",
    "\n",
    "    print(f'[{epoch + 1}, {i + 1:5d}] loss: {running_loss / len(train_dataloader):.3f}, accuracy: {running_correct/running_total:.4f}, val_loss: {running_val_loss / len(valid_dataloader):.3f}, valid accuracy: {running_val_correct/running_val_total:.4f}')\n",
    "\n",
    "    history['loss'].append(running_loss / len(train_dataloader))\n",
    "    history['acc'].append((running_correct/running_total).item())\n",
    "    history['val_loss'].append(running_val_loss / len(valid_dataloader))\n",
    "    history['val_acc'].append((running_val_correct/running_val_total).item())\n",
    "\n",
    "    # print(outputs)\n",
    "print('Finished Training')"
   ]
  },
  {
   "cell_type": "markdown",
   "metadata": {},
   "source": [
    "결과적으로 unit 숫자를 충분히 늘리지 않으면 일반화 성능이 떨어지는 것을 확인할 수 있었다.\n",
    "또한, 기본 학습에서도 정확도가 99%를 넘기기 힘들어 한다. \n",
    "\n",
    "As a result, we can see that generalization performance decreases if the number of units is not increased enough.\n",
    "Furthermore, even with basic training, the accuracy rate struggles to exceed 99%."
   ]
  },
  {
   "cell_type": "markdown",
   "metadata": {},
   "source": [
    "## 성능 올려보기\n",
    "학습하는데에 시간이 많이 걸리기에 적은 test로 성능 올려보자\n",
    "\n",
    "### 1. optimizer: adam. 일반적으로 adam이 최적화 성능이 좋다고 알려져 있다.\n",
    "### 2. Dropout을 추가하여 과적합 방지\n",
    "### 3. BatchNormalization \n",
    "### 4. layer 수를 늘리기(one more layer) + unit increase\n"
   ]
  },
  {
   "cell_type": "code",
   "execution_count": 12,
   "metadata": {},
   "outputs": [],
   "source": [
    "# NN model design\n",
    "\n",
    "import torch.nn as nn\n",
    "import torch.optim as optim\n",
    "\n",
    "class Model(nn.Module):\n",
    "    def __init__(self):\n",
    "        super().__init__()\n",
    "        self.fc1 = nn.Linear(10000, 1024)\n",
    "        self.act1 = nn.ReLU()\n",
    "        self.BatchNorm1d1 = nn.BatchNorm1d(1024, affine=False) # Batch Normalization 추가\n",
    "        self.drop1 = nn.Dropout(0.3) # Dropout 추가\n",
    "        \n",
    "        self.fc2 = nn.Linear(1024, 256)\n",
    "        self.act2 = nn.ReLU()\n",
    "        self.BatchNorm1d2 = nn.BatchNorm1d(256, affine=False) # Batch Normalization 추가\n",
    "        self.drop2 = nn.Dropout(0.3) # Dropout 추가\n",
    "        \n",
    "        self.fc3 = nn.Linear(256, 256)\n",
    "        self.act3 = nn.ReLU()\n",
    "        self.BatchNorm1d3 = nn.BatchNorm1d(256, affine=False) # Batch Normalization 추가\n",
    "        \n",
    "        self.fc4 = nn.Linear(256, 4)\n",
    "        # there is no softmax function since softmax function will be automatically applied inside of the cross-entropy loss provided by pytorch\n",
    "\n",
    "\n",
    "    def forward(self, x):\n",
    "        x = self.drop1(self.BatchNorm1d1(self.act1(self.fc1(x))))\n",
    "        x = self.drop2(self.BatchNorm1d2(self.act2(self.fc2(x))))\n",
    "        x = self.BatchNorm1d3(self.act3(self.fc3(x)))\n",
    "        x = self.fc4(x)\n",
    "\n",
    "        return x\n",
    "        \n",
    "model = Model()\n",
    "model.to(device)\n",
    "\n",
    "# 하이퍼파라미터 설정\n",
    "optimizer = optim.Adam(params = model.parameters(), lr = 0.001)\n",
    "criterion = nn.CrossEntropyLoss() # 다중분류에서는 CrossEntropyLoss를 사용하는 것이 일반적"
   ]
  },
  {
   "cell_type": "code",
   "execution_count": 13,
   "metadata": {},
   "outputs": [
    {
     "name": "stdout",
     "output_type": "stream",
     "text": [
      "[1,   469] loss: 0.342, accuracy: 0.8808, val_loss: 0.285, valid accuracy: 0.9027\n",
      "[2,   469] loss: 0.165, accuracy: 0.9406, val_loss: 0.329, valid accuracy: 0.8974\n",
      "[3,   469] loss: 0.090, accuracy: 0.9670, val_loss: 0.368, valid accuracy: 0.8968\n",
      "[4,   469] loss: 0.060, accuracy: 0.9781, val_loss: 0.432, valid accuracy: 0.8962\n",
      "[5,   469] loss: 0.045, accuracy: 0.9842, val_loss: 0.468, valid accuracy: 0.8945\n",
      "[6,   469] loss: 0.039, accuracy: 0.9860, val_loss: 0.483, valid accuracy: 0.8988\n",
      "[7,   469] loss: 0.033, accuracy: 0.9880, val_loss: 0.497, valid accuracy: 0.8983\n",
      "[8,   469] loss: 0.028, accuracy: 0.9898, val_loss: 0.536, valid accuracy: 0.8957\n",
      "[9,   469] loss: 0.025, accuracy: 0.9914, val_loss: 0.539, valid accuracy: 0.8966\n",
      "[10,   469] loss: 0.024, accuracy: 0.9924, val_loss: 0.548, valid accuracy: 0.8991\n",
      "Finished Training\n"
     ]
    }
   ],
   "source": [
    "history = {'loss':[], 'acc':[], 'val_loss':[], 'val_acc':[]}\n",
    "\n",
    "for epoch in range(10):\n",
    "    running_loss = 0.0\n",
    "    running_correct = 0\n",
    "    running_total = 0\n",
    "\n",
    "    running_val_loss = 0.0\n",
    "    running_val_correct = 0\n",
    "    running_val_total = 0\n",
    "    for i, data in enumerate(train_dataloader):\n",
    "        # get the inputs; data is a list of [labels, inputs]\n",
    "        labels, inputs = data\n",
    "        inputs = inputs.to(device)\n",
    "        labels = labels.to(device)\n",
    "        # print(labels)\n",
    "        # print(inputs.shape)\n",
    "\n",
    "        # zero the parameter gradients\n",
    "        optimizer.zero_grad()\n",
    "\n",
    "        # forward + backward + optimize\n",
    "        outputs = model(inputs)\n",
    "        loss = criterion(outputs, labels)\n",
    "        loss.backward()\n",
    "        optimizer.step()\n",
    "\n",
    "        _, preds = outputs.max(dim=1)\n",
    "        # print(preds)\n",
    "        # print statistics\n",
    "        running_loss += loss.item()\n",
    "        running_correct += (preds == labels).sum()\n",
    "        running_total += labels.size(0)\n",
    "        # print(running_correct/running_total)\n",
    "\n",
    "\n",
    "    for i, data in enumerate(valid_dataloader):\n",
    "        labels, inputs = data\n",
    "        inputs = inputs.to(device)\n",
    "        labels = labels.to(device)\n",
    "\n",
    "        with torch.no_grad():\n",
    "            outputs = model(inputs)\n",
    "            loss = criterion(outputs, labels)\n",
    "            _, preds = outputs.max(dim=1)\n",
    "\n",
    "        running_val_loss += loss.item()\n",
    "        running_val_correct += (preds == labels).sum()          \n",
    "        running_val_total += labels.size(0)\n",
    "\n",
    "    print(f'[{epoch + 1}, {i + 1:5d}] loss: {running_loss / len(train_dataloader):.3f}, accuracy: {running_correct/running_total:.4f}, val_loss: {running_val_loss / len(valid_dataloader):.3f}, valid accuracy: {running_val_correct/running_val_total:.4f}')\n",
    "\n",
    "    history['loss'].append(running_loss / len(train_dataloader))\n",
    "    history['acc'].append((running_correct/running_total).item())\n",
    "    history['val_loss'].append(running_val_loss / len(valid_dataloader))\n",
    "    history['val_acc'].append((running_val_correct/running_val_total).item())\n",
    "\n",
    "    # print(outputs)\n",
    "print('Finished Training')"
   ]
  },
  {
   "cell_type": "code",
   "execution_count": 14,
   "metadata": {},
   "outputs": [
    {
     "data": {
      "image/png": "[encoded data removed]",
      "text/plain": [
       "<Figure size 432x288 with 1 Axes>"
      ]
     },
     "metadata": {
      "needs_background": "light"
     },
     "output_type": "display_data"
    },
    {
     "data": {
      "image/png": "[encoded data removed]",
      "text/plain": [
       "<Figure size 432x288 with 1 Axes>"
      ]
     },
     "metadata": {
      "needs_background": "light"
     },
     "output_type": "display_data"
    }
   ],
   "source": [
    "# 시각화\n",
    "\n",
    "import matplotlib.pyplot as plt\n",
    "\n",
    "loss = history['loss']\n",
    "val_loss = history['val_loss']\n",
    "\n",
    "epochs = range(1, len(loss) + 1)\n",
    "\n",
    "plt.plot(epochs, loss, 'bo', label='Training loss')\n",
    "plt.plot(epochs, val_loss, 'b', label='Validation loss')\n",
    "plt.title('Training and validation loss')\n",
    "plt.xlabel('Epochs')\n",
    "plt.ylabel('Loss')\n",
    "plt.legend()\n",
    "\n",
    "plt.show()\n",
    "\n",
    "plt.clf()   # clear figure\n",
    "\n",
    "acc = history['acc']\n",
    "val_acc = history['val_acc']\n",
    "\n",
    "plt.plot(epochs, acc, 'bo', label='Training acc')\n",
    "plt.plot(epochs, val_acc, 'b', label='Validation acc')\n",
    "plt.title('Training and validation accuracy')\n",
    "plt.xlabel('Epochs')\n",
    "plt.ylabel('Loss')\n",
    "plt.legend()\n",
    "\n",
    "plt.show()"
   ]
  },
  {
   "cell_type": "code",
   "execution_count": 15,
   "metadata": {},
   "outputs": [
    {
     "name": "stdout",
     "output_type": "stream",
     "text": [
      "test loss: 0.184, test accuracy: 0.8897\n"
     ]
    }
   ],
   "source": [
    "# Test set에서 모델 성능 확인\n",
    "\n",
    "running_test_loss = 0\n",
    "running_test_correct = 0\n",
    "running_test_total = 0\n",
    "\n",
    "\n",
    "for i, data in enumerate(test_dataloader):\n",
    "    labels, inputs = data\n",
    "    inputs = inputs.to(device)\n",
    "    labels = labels.to(device)\n",
    "\n",
    "    with torch.no_grad():\n",
    "        outputs = model(inputs)\n",
    "        loss = criterion(outputs, labels)\n",
    "        _, preds = outputs.max(dim=1)\n",
    "\n",
    "    running_test_loss += loss.item()\n",
    "    running_test_correct += (preds == labels).sum()          \n",
    "    running_test_total += labels.size(0)\n",
    "\n",
    "print(f'test loss: {running_loss / len(test_dataloader):.3f}, test accuracy: {running_test_correct/running_test_total:.4f}')"
   ]
  },
  {
   "cell_type": "markdown",
   "metadata": {},
   "source": [
    "예상한 것보다 성능이 변하지 않는다. 수치를 더 조절해야 할 것 같다. dropout 수치를 조절"
   ]
  },
  {
   "cell_type": "code",
   "execution_count": 17,
   "metadata": {},
   "outputs": [],
   "source": [
    "# NN model design\n",
    "\n",
    "import torch.nn as nn\n",
    "import torch.optim as optim\n",
    "\n",
    "class Model(nn.Module):\n",
    "    def __init__(self):\n",
    "        super().__init__()\n",
    "        self.fc1 = nn.Linear(10000, 1024)\n",
    "        self.act1 = nn.ReLU()\n",
    "        self.BatchNorm1d1 = nn.BatchNorm1d(1024, affine=False) # Batch Normalization 추가\n",
    "        self.drop1 = nn.Dropout(0.25) # Dropout 추가\n",
    "        \n",
    "        self.fc2 = nn.Linear(1024, 256)\n",
    "        self.act2 = nn.ReLU()\n",
    "        self.BatchNorm1d2 = nn.BatchNorm1d(256, affine=False) # Batch Normalization 추가\n",
    "        self.drop2 = nn.Dropout(0.25) # Dropout 추가\n",
    "        \n",
    "        self.fc3 = nn.Linear(256, 256)\n",
    "        self.act3 = nn.ReLU()\n",
    "        self.BatchNorm1d3 = nn.BatchNorm1d(256, affine=False) # Batch Normalization 추가\n",
    "        \n",
    "        self.fc4 = nn.Linear(256, 4)\n",
    "        # there is no softmax function since softmax function will be automatically applied inside of the cross-entropy loss provided by pytorch\n",
    "\n",
    "\n",
    "    def forward(self, x):\n",
    "        x = self.drop1(self.BatchNorm1d1(self.act1(self.fc1(x))))\n",
    "        x = self.drop2(self.BatchNorm1d2(self.act2(self.fc2(x))))\n",
    "        x = self.BatchNorm1d3(self.act3(self.fc3(x)))\n",
    "        x = self.fc4(x)\n",
    "\n",
    "        return x\n",
    "        \n",
    "model = Model()\n",
    "model.to(device)\n",
    "\n",
    "# 하이퍼파라미터 설정\n",
    "optimizer = optim.Adam(params = model.parameters(), lr = 0.001)\n",
    "criterion = nn.CrossEntropyLoss() # 다중분류에서는 CrossEntropyLoss를 사용하는 것이 일반적"
   ]
  },
  {
   "cell_type": "code",
   "execution_count": 18,
   "metadata": {},
   "outputs": [
    {
     "name": "stdout",
     "output_type": "stream",
     "text": [
      "[1,   469] loss: 0.338, accuracy: 0.8818, val_loss: 0.286, valid accuracy: 0.9025\n",
      "[2,   469] loss: 0.159, accuracy: 0.9430, val_loss: 0.308, valid accuracy: 0.9006\n",
      "[3,   469] loss: 0.081, accuracy: 0.9711, val_loss: 0.386, valid accuracy: 0.8972\n",
      "[4,   469] loss: 0.055, accuracy: 0.9798, val_loss: 0.455, valid accuracy: 0.8970\n",
      "[5,   469] loss: 0.043, accuracy: 0.9849, val_loss: 0.458, valid accuracy: 0.8983\n",
      "[6,   469] loss: 0.033, accuracy: 0.9884, val_loss: 0.489, valid accuracy: 0.8972\n",
      "[7,   469] loss: 0.027, accuracy: 0.9900, val_loss: 0.561, valid accuracy: 0.8983\n",
      "[8,   469] loss: 0.029, accuracy: 0.9898, val_loss: 0.543, valid accuracy: 0.8990\n",
      "[9,   469] loss: 0.026, accuracy: 0.9909, val_loss: 0.538, valid accuracy: 0.8960\n",
      "[10,   469] loss: 0.023, accuracy: 0.9918, val_loss: 0.576, valid accuracy: 0.8979\n",
      "Finished Training\n"
     ]
    }
   ],
   "source": [
    "history = {'loss':[], 'acc':[], 'val_loss':[], 'val_acc':[]}\n",
    "\n",
    "for epoch in range(10):\n",
    "    running_loss = 0.0\n",
    "    running_correct = 0\n",
    "    running_total = 0\n",
    "\n",
    "    running_val_loss = 0.0\n",
    "    running_val_correct = 0\n",
    "    running_val_total = 0\n",
    "    for i, data in enumerate(train_dataloader):\n",
    "        # get the inputs; data is a list of [labels, inputs]\n",
    "        labels, inputs = data\n",
    "        inputs = inputs.to(device)\n",
    "        labels = labels.to(device)\n",
    "        # print(labels)\n",
    "        # print(inputs.shape)\n",
    "\n",
    "        # zero the parameter gradients\n",
    "        optimizer.zero_grad()\n",
    "\n",
    "        # forward + backward + optimize\n",
    "        outputs = model(inputs)\n",
    "        loss = criterion(outputs, labels)\n",
    "        loss.backward()\n",
    "        optimizer.step()\n",
    "\n",
    "        _, preds = outputs.max(dim=1)\n",
    "        # print(preds)\n",
    "        # print statistics\n",
    "        running_loss += loss.item()\n",
    "        running_correct += (preds == labels).sum()\n",
    "        running_total += labels.size(0)\n",
    "        # print(running_correct/running_total)\n",
    "\n",
    "\n",
    "    for i, data in enumerate(valid_dataloader):\n",
    "        labels, inputs = data\n",
    "        inputs = inputs.to(device)\n",
    "        labels = labels.to(device)\n",
    "\n",
    "        with torch.no_grad():\n",
    "            outputs = model(inputs)\n",
    "            loss = criterion(outputs, labels)\n",
    "            _, preds = outputs.max(dim=1)\n",
    "\n",
    "        running_val_loss += loss.item()\n",
    "        running_val_correct += (preds == labels).sum()          \n",
    "        running_val_total += labels.size(0)\n",
    "\n",
    "    print(f'[{epoch + 1}, {i + 1:5d}] loss: {running_loss / len(train_dataloader):.3f}, accuracy: {running_correct/running_total:.4f}, val_loss: {running_val_loss / len(valid_dataloader):.3f}, valid accuracy: {running_val_correct/running_val_total:.4f}')\n",
    "\n",
    "    history['loss'].append(running_loss / len(train_dataloader))\n",
    "    history['acc'].append((running_correct/running_total).item())\n",
    "    history['val_loss'].append(running_val_loss / len(valid_dataloader))\n",
    "    history['val_acc'].append((running_val_correct/running_val_total).item())\n",
    "\n",
    "    # print(outputs)\n",
    "print('Finished Training')"
   ]
  },
  {
   "cell_type": "code",
   "execution_count": 19,
   "metadata": {},
   "outputs": [
    {
     "data": {
      "image/png": "[encoded data removed]",
      "text/plain": [
       "<Figure size 432x288 with 1 Axes>"
      ]
     },
     "metadata": {
      "needs_background": "light"
     },
     "output_type": "display_data"
    },
    {
     "data": {
      "image/png": "[encoded data removed]",
      "text/plain": [
       "<Figure size 432x288 with 1 Axes>"
      ]
     },
     "metadata": {
      "needs_background": "light"
     },
     "output_type": "display_data"
    }
   ],
   "source": [
    "# 시각화\n",
    "\n",
    "import matplotlib.pyplot as plt\n",
    "\n",
    "loss = history['loss']\n",
    "val_loss = history['val_loss']\n",
    "\n",
    "epochs = range(1, len(loss) + 1)\n",
    "\n",
    "plt.plot(epochs, loss, 'bo', label='Training loss')\n",
    "plt.plot(epochs, val_loss, 'b', label='Validation loss')\n",
    "plt.title('Training and validation loss')\n",
    "plt.xlabel('Epochs')\n",
    "plt.ylabel('Loss')\n",
    "plt.legend()\n",
    "\n",
    "plt.show()\n",
    "\n",
    "plt.clf()   # clear figure\n",
    "\n",
    "acc = history['acc']\n",
    "val_acc = history['val_acc']\n",
    "\n",
    "plt.plot(epochs, acc, 'bo', label='Training acc')\n",
    "plt.plot(epochs, val_acc, 'b', label='Validation acc')\n",
    "plt.title('Training and validation accuracy')\n",
    "plt.xlabel('Epochs')\n",
    "plt.ylabel('Loss')\n",
    "plt.legend()\n",
    "\n",
    "plt.show()"
   ]
  },
  {
   "cell_type": "code",
   "execution_count": 20,
   "metadata": {},
   "outputs": [
    {
     "name": "stdout",
     "output_type": "stream",
     "text": [
      "test loss: 0.181, test accuracy: 0.8911\n"
     ]
    }
   ],
   "source": [
    "# Test set에서 모델 성능 확인\n",
    "\n",
    "running_test_loss = 0\n",
    "running_test_correct = 0\n",
    "running_test_total = 0\n",
    "\n",
    "\n",
    "for i, data in enumerate(test_dataloader):\n",
    "    labels, inputs = data\n",
    "    inputs = inputs.to(device)\n",
    "    labels = labels.to(device)\n",
    "\n",
    "    with torch.no_grad():\n",
    "        outputs = model(inputs)\n",
    "        loss = criterion(outputs, labels)\n",
    "        _, preds = outputs.max(dim=1)\n",
    "\n",
    "    running_test_loss += loss.item()\n",
    "    running_test_correct += (preds == labels).sum()          \n",
    "    running_test_total += labels.size(0)\n",
    "\n",
    "print(f'test loss: {running_loss / len(test_dataloader):.3f}, test accuracy: {running_test_correct/running_test_total:.4f}')"
   ]
  },
  {
   "cell_type": "markdown",
   "metadata": {},
   "source": [
    "지금도 성능 변화는 없는 것 같음. 안정적인 학습은 가능한 것 같음. dropout의 효과가 미미한 것으로 판단. 삭제후 다른 부분을 조정"
   ]
  },
  {
   "cell_type": "code",
   "execution_count": 21,
   "metadata": {},
   "outputs": [],
   "source": [
    "# NN model design\n",
    "# dropout을 삭제 후 Batch Normalization만 사용\n",
    "\n",
    "import torch.nn as nn\n",
    "import torch.optim as optim\n",
    "\n",
    "class Model(nn.Module):\n",
    "    def __init__(self):\n",
    "        super().__init__()\n",
    "        self.fc1 = nn.Linear(10000, 1024)\n",
    "        self.act1 = nn.ReLU()\n",
    "        self.BatchNorm1d1 = nn.BatchNorm1d(1024, affine=False) # Batch Normalization 추가\n",
    "        \n",
    "        self.fc2 = nn.Linear(1024, 256)\n",
    "        self.act2 = nn.ReLU()\n",
    "        self.BatchNorm1d2 = nn.BatchNorm1d(256, affine=False) # Batch Normalization 추가\n",
    "        \n",
    "        self.fc3 = nn.Linear(256, 64)\n",
    "        self.act3 = nn.ReLU()\n",
    "        self.BatchNorm1d3 = nn.BatchNorm1d(256, affine=False) # Batch Normalization 추가\n",
    "        \n",
    "        self.fc4 = nn.Linear(64, 4)\n",
    "        # there is no softmax function since softmax function will be automatically applied inside of the cross-entropy loss provided by pytorch\n",
    "\n",
    "\n",
    "    def forward(self, x):\n",
    "        x = self.BatchNorm1d1(self.act1(self.fc1(x)))\n",
    "        x = self.BatchNorm1d2(self.act2(self.fc2(x)))\n",
    "        x = self.BatchNorm1d3(self.act3(self.fc3(x)))\n",
    "        x = self.fc4(x)\n",
    "\n",
    "        return x\n",
    "        \n",
    "model = Model()\n",
    "model.to(device)\n",
    "\n",
    "# 하이퍼파라미터 설정\n",
    "optimizer = optim.Adam(params = model.parameters(), lr = 0.001)\n",
    "criterion = nn.CrossEntropyLoss() # 다중분류에서는 CrossEntropyLoss를 사용하는 것이 일반적"
   ]
  },
  {
   "cell_type": "code",
   "execution_count": 22,
   "metadata": {},
   "outputs": [
    {
     "name": "stdout",
     "output_type": "stream",
     "text": [
      "[1,   469] loss: 0.333, accuracy: 0.8842, val_loss: 0.280, valid accuracy: 0.9030\n",
      "[2,   469] loss: 0.139, accuracy: 0.9503, val_loss: 0.319, valid accuracy: 0.8983\n",
      "[3,   469] loss: 0.062, accuracy: 0.9779, val_loss: 0.398, valid accuracy: 0.8982\n",
      "[4,   469] loss: 0.038, accuracy: 0.9865, val_loss: 0.470, valid accuracy: 0.8980\n",
      "[5,   469] loss: 0.032, accuracy: 0.9891, val_loss: 0.487, valid accuracy: 0.8986\n",
      "[6,   469] loss: 0.024, accuracy: 0.9915, val_loss: 0.527, valid accuracy: 0.8962\n",
      "[7,   469] loss: 0.023, accuracy: 0.9918, val_loss: 0.571, valid accuracy: 0.8949\n",
      "[8,   469] loss: 0.021, accuracy: 0.9927, val_loss: 0.577, valid accuracy: 0.8995\n",
      "[9,   469] loss: 0.021, accuracy: 0.9925, val_loss: 0.569, valid accuracy: 0.8999\n",
      "[10,   469] loss: 0.017, accuracy: 0.9941, val_loss: 0.555, valid accuracy: 0.8975\n",
      "Finished Training\n"
     ]
    }
   ],
   "source": [
    "history = {'loss':[], 'acc':[], 'val_loss':[], 'val_acc':[]}\n",
    "\n",
    "for epoch in range(10):\n",
    "    running_loss = 0.0\n",
    "    running_correct = 0\n",
    "    running_total = 0\n",
    "\n",
    "    running_val_loss = 0.0\n",
    "    running_val_correct = 0\n",
    "    running_val_total = 0\n",
    "    for i, data in enumerate(train_dataloader):\n",
    "        # get the inputs; data is a list of [labels, inputs]\n",
    "        labels, inputs = data\n",
    "        inputs = inputs.to(device)\n",
    "        labels = labels.to(device)\n",
    "        # print(labels)\n",
    "        # print(inputs.shape)\n",
    "\n",
    "        # zero the parameter gradients\n",
    "        optimizer.zero_grad()\n",
    "\n",
    "        # forward + backward + optimize\n",
    "        outputs = model(inputs)\n",
    "        loss = criterion(outputs, labels)\n",
    "        loss.backward()\n",
    "        optimizer.step()\n",
    "\n",
    "        _, preds = outputs.max(dim=1)\n",
    "        # print(preds)\n",
    "        # print statistics\n",
    "        running_loss += loss.item()\n",
    "        running_correct += (preds == labels).sum()\n",
    "        running_total += labels.size(0)\n",
    "        # print(running_correct/running_total)\n",
    "\n",
    "\n",
    "    for i, data in enumerate(valid_dataloader):\n",
    "        labels, inputs = data\n",
    "        inputs = inputs.to(device)\n",
    "        labels = labels.to(device)\n",
    "\n",
    "        with torch.no_grad():\n",
    "            outputs = model(inputs)\n",
    "            loss = criterion(outputs, labels)\n",
    "            _, preds = outputs.max(dim=1)\n",
    "\n",
    "        running_val_loss += loss.item()\n",
    "        running_val_correct += (preds == labels).sum()          \n",
    "        running_val_total += labels.size(0)\n",
    "\n",
    "    print(f'[{epoch + 1}, {i + 1:5d}] loss: {running_loss / len(train_dataloader):.3f}, accuracy: {running_correct/running_total:.4f}, val_loss: {running_val_loss / len(valid_dataloader):.3f}, valid accuracy: {running_val_correct/running_val_total:.4f}')\n",
    "\n",
    "    history['loss'].append(running_loss / len(train_dataloader))\n",
    "    history['acc'].append((running_correct/running_total).item())\n",
    "    history['val_loss'].append(running_val_loss / len(valid_dataloader))\n",
    "    history['val_acc'].append((running_val_correct/running_val_total).item())\n",
    "\n",
    "    # print(outputs)\n",
    "print('Finished Training')"
   ]
  },
  {
   "cell_type": "code",
   "execution_count": 23,
   "metadata": {},
   "outputs": [
    {
     "name": "stdout",
     "output_type": "stream",
     "text": [
      "test loss: 0.131, test accuracy: 0.8928\n"
     ]
    }
   ],
   "source": [
    "# Test set에서 모델 성능 확인\n",
    "\n",
    "running_test_loss = 0\n",
    "running_test_correct = 0\n",
    "running_test_total = 0\n",
    "\n",
    "\n",
    "for i, data in enumerate(test_dataloader):\n",
    "    labels, inputs = data\n",
    "    inputs = inputs.to(device)\n",
    "    labels = labels.to(device)\n",
    "\n",
    "    with torch.no_grad():\n",
    "        outputs = model(inputs)\n",
    "        loss = criterion(outputs, labels)\n",
    "        _, preds = outputs.max(dim=1)\n",
    "\n",
    "    running_test_loss += loss.item()\n",
    "    running_test_correct += (preds == labels).sum()          \n",
    "    running_test_total += labels.size(0)\n",
    "\n",
    "print(f'test loss: {running_loss / len(test_dataloader):.3f}, test accuracy: {running_test_correct/running_test_total:.4f}')"
   ]
  },
  {
   "cell_type": "markdown",
   "metadata": {},
   "source": [
    "층과 unit의 값을 더 세밀하게 조정해보자"
   ]
  },
  {
   "cell_type": "code",
   "execution_count": 26,
   "metadata": {},
   "outputs": [],
   "source": [
    "# NN model design\n",
    "# 층을 하나 더 추가하고 unit을 변경\n",
    "\n",
    "import torch.nn as nn\n",
    "import torch.optim as optim\n",
    "\n",
    "class Model(nn.Module):\n",
    "    def __init__(self):\n",
    "        super().__init__()\n",
    "        self.fc1 = nn.Linear(10000, 5120)\n",
    "        self.act1 = nn.ReLU()\n",
    "        self.BatchNorm1d1 = nn.BatchNorm1d(5120, affine=False) # Batch Normalization 추가\n",
    "        \n",
    "        self.fc2 = nn.Linear(5120, 1024)\n",
    "        self.act2 = nn.ReLU()\n",
    "        self.BatchNorm1d2 = nn.BatchNorm1d(1024, affine=False) # Batch Normalization 추가\n",
    "        \n",
    "        self.fc3 = nn.Linear(1024, 256)\n",
    "        self.act3 = nn.ReLU()\n",
    "        self.BatchNorm1d3 = nn.BatchNorm1d(256, affine=False) # Batch Normalization 추가\n",
    "\n",
    "        self.fc4 = nn.Linear(256, 64)\n",
    "        self.act4 = nn.ReLU()\n",
    "        self.BatchNorm1d4 = nn.BatchNorm1d(64, affine=False) # Batch Normalization 추가\n",
    "        \n",
    "        self.fc5 = nn.Linear(64, 4)\n",
    "        # there is no softmax function since softmax function will be automatically applied inside of the cross-entropy loss provided by pytorch\n",
    "\n",
    "\n",
    "\n",
    "    def forward(self, x):\n",
    "        x = self.BatchNorm1d1(self.act1(self.fc1(x)))\n",
    "        x = self.BatchNorm1d2(self.act2(self.fc2(x)))\n",
    "        x = self.BatchNorm1d3(self.act3(self.fc3(x)))\n",
    "        x = self.BatchNorm1d4(self.act4(self.fc4(x)))\n",
    "        x = self.fc5(x)\n",
    "\n",
    "        return x\n",
    "        \n",
    "model = Model()\n",
    "model.to(device)\n",
    "\n",
    "# 하이퍼파라미터 설정\n",
    "optimizer = optim.Adam(params = model.parameters(), lr = 0.001)\n",
    "criterion = nn.CrossEntropyLoss() # 다중분류에서는 CrossEntropyLoss를 사용하는 것이 일반적"
   ]
  },
  {
   "cell_type": "code",
   "execution_count": 27,
   "metadata": {},
   "outputs": [
    {
     "name": "stdout",
     "output_type": "stream",
     "text": [
      "[1,   469] loss: 0.337, accuracy: 0.8842, val_loss: 0.289, valid accuracy: 0.8997\n",
      "[2,   469] loss: 0.142, accuracy: 0.9496, val_loss: 0.311, valid accuracy: 0.9008\n",
      "[3,   469] loss: 0.063, accuracy: 0.9782, val_loss: 0.390, valid accuracy: 0.9012\n",
      "[4,   469] loss: 0.039, accuracy: 0.9863, val_loss: 0.447, valid accuracy: 0.8975\n",
      "[5,   469] loss: 0.033, accuracy: 0.9886, val_loss: 0.480, valid accuracy: 0.8988\n",
      "[6,   469] loss: 0.028, accuracy: 0.9904, val_loss: 0.492, valid accuracy: 0.8972\n",
      "[7,   469] loss: 0.024, accuracy: 0.9917, val_loss: 0.495, valid accuracy: 0.9005\n",
      "[8,   469] loss: 0.021, accuracy: 0.9927, val_loss: 0.495, valid accuracy: 0.8991\n",
      "[9,   469] loss: 0.017, accuracy: 0.9939, val_loss: 0.535, valid accuracy: 0.8998\n",
      "[10,   469] loss: 0.017, accuracy: 0.9943, val_loss: 0.528, valid accuracy: 0.9019\n",
      "Finished Training\n"
     ]
    }
   ],
   "source": [
    "history = {'loss':[], 'acc':[], 'val_loss':[], 'val_acc':[]}\n",
    "\n",
    "for epoch in range(10):\n",
    "    running_loss = 0.0\n",
    "    running_correct = 0\n",
    "    running_total = 0\n",
    "\n",
    "    running_val_loss = 0.0\n",
    "    running_val_correct = 0\n",
    "    running_val_total = 0\n",
    "    for i, data in enumerate(train_dataloader):\n",
    "        # get the inputs; data is a list of [labels, inputs]\n",
    "        labels, inputs = data\n",
    "        inputs = inputs.to(device)\n",
    "        labels = labels.to(device)\n",
    "        # print(labels)\n",
    "        # print(inputs.shape)\n",
    "\n",
    "        # zero the parameter gradients\n",
    "        optimizer.zero_grad()\n",
    "\n",
    "        # forward + backward + optimize\n",
    "        outputs = model(inputs)\n",
    "        loss = criterion(outputs, labels)\n",
    "        loss.backward()\n",
    "        optimizer.step()\n",
    "\n",
    "        _, preds = outputs.max(dim=1)\n",
    "        # print(preds)\n",
    "        # print statistics\n",
    "        running_loss += loss.item()\n",
    "        running_correct += (preds == labels).sum()\n",
    "        running_total += labels.size(0)\n",
    "        # print(running_correct/running_total)\n",
    "\n",
    "\n",
    "    for i, data in enumerate(valid_dataloader):\n",
    "        labels, inputs = data\n",
    "        inputs = inputs.to(device)\n",
    "        labels = labels.to(device)\n",
    "\n",
    "        with torch.no_grad():\n",
    "            outputs = model(inputs)\n",
    "            loss = criterion(outputs, labels)\n",
    "            _, preds = outputs.max(dim=1)\n",
    "\n",
    "        running_val_loss += loss.item()\n",
    "        running_val_correct += (preds == labels).sum()          \n",
    "        running_val_total += labels.size(0)\n",
    "\n",
    "    print(f'[{epoch + 1}, {i + 1:5d}] loss: {running_loss / len(train_dataloader):.3f}, accuracy: {running_correct/running_total:.4f}, val_loss: {running_val_loss / len(valid_dataloader):.3f}, valid accuracy: {running_val_correct/running_val_total:.4f}')\n",
    "\n",
    "    history['loss'].append(running_loss / len(train_dataloader))\n",
    "    history['acc'].append((running_correct/running_total).item())\n",
    "    history['val_loss'].append(running_val_loss / len(valid_dataloader))\n",
    "    history['val_acc'].append((running_val_correct/running_val_total).item())\n",
    "\n",
    "    # print(outputs)\n",
    "print('Finished Training')"
   ]
  },
  {
   "cell_type": "code",
   "execution_count": 28,
   "metadata": {},
   "outputs": [
    {
     "name": "stdout",
     "output_type": "stream",
     "text": [
      "test loss: 0.135, test accuracy: 0.8971\n"
     ]
    }
   ],
   "source": [
    "# Test set에서 모델 성능 확인\n",
    "\n",
    "running_test_loss = 0\n",
    "running_test_correct = 0\n",
    "running_test_total = 0\n",
    "\n",
    "\n",
    "for i, data in enumerate(test_dataloader):\n",
    "    labels, inputs = data\n",
    "    inputs = inputs.to(device)\n",
    "    labels = labels.to(device)\n",
    "\n",
    "    with torch.no_grad():\n",
    "        outputs = model(inputs)\n",
    "        loss = criterion(outputs, labels)\n",
    "        _, preds = outputs.max(dim=1)\n",
    "\n",
    "    running_test_loss += loss.item()\n",
    "    running_test_correct += (preds == labels).sum()          \n",
    "    running_test_total += labels.size(0)\n",
    "\n",
    "print(f'test loss: {running_loss / len(test_dataloader):.3f}, test accuracy: {running_test_correct/running_test_total:.4f}')"
   ]
  },
  {
   "cell_type": "markdown",
   "metadata": {},
   "source": [
    "드디어 baseline을 넘어서는 모델을 만들었다. \n",
    "batchnormalization 이나 dropout을 쓰는 것보다 layer 수와 unit을 적절하게 설정하는 것이 더 중요한 것 같다."
   ]
  }
 ],
 "metadata": {
  "kernelspec": {
   "display_name": "env_name",
   "language": "python",
   "name": "python3"
  },
  "language_info": {
   "codemirror_mode": {
    "name": "ipython",
    "version": 3
   },
   "file_extension": ".py",
   "mimetype": "text/x-python",
   "name": "python",
   "nbconvert_exporter": "python",
   "pygments_lexer": "ipython3",
   "version": "3.9.12"
  },
  "orig_nbformat": 4
 },
 "nbformat": 4,
 "nbformat_minor": 2
}
